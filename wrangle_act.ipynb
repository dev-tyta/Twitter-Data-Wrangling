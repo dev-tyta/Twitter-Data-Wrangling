{
 "cells": [
  {
   "cell_type": "markdown",
   "source": [
    "<h1> Project: Wrangling and Analyze Data [WeRateDogs Twitter Archived Data] </h1>\n",
    "\n",
    "## Table of Contents\n",
    "<ul>\n",
    "<li><a href=\"#intro\">Introduction</a></li>\n",
    "<li><a href=\"#gathering\">Data Gathering</a></li>\n",
    "<li><a href=\"#assess\">Assessing Data</a></li>\n",
    "<li><a href=\"#issues\">Identifying Issues</a></li>\n",
    "<li><a href=\"#cleaning\">Cleaning Data</a></li>\n",
    "<li><a href=\"#storing\">Storing Data</a></li>\n",
    "<li><a href=\"#analysis\">Analyzing and Visualizing Data</a></li>\n",
    "<li><a href=\"#conclusions\">Conclusions</a></li>\n",
    "</ul>"
   ],
   "metadata": {
    "collapsed": false,
    "pycharm": {
     "name": "#%% md\n"
    }
   }
  },
  {
   "cell_type": "markdown",
   "source": [
    "\n",
    "\n",
    "<a id='intro'></a>\n",
    "## Introduction\n",
    "\n",
    "### Dataset Description\n",
    "\n",
    "> In order to get valuable insights from a data one must first go through the process of wrangling the data in question. The process of wrangling involves assessing the data both virtually and programmatically to see loopholes or issues present in the data. In this project, I would carry out wrangling process on tweets archive data from an account on twitter known as WeRateDogs.\n",
    "> This account gives rating of Dogs in a very amazing manner. This project covers wrangling the twitter archived data and other subsidiary parts of the general dataset. After assessing the issues, the process of cleaning the data to get more a presentable data commences.\n",
    "> Upon completion of the wrangling process, to draw some very interesting insight on the data. I would carry out a proper analysis on the data, showing and exploring interesting facts about the data.\n",
    ">\n",
    "#### Question(s) for Analysis\n",
    " During this Analysis, We would address some question drawn from this question. The few questions that would be addressed a listed below:\n",
    "> <li>What are the top 5 most liked posts?</li>\n",
    "> <li>What type of dog appeared the most?</li>\n",
    "> <li>What are the most retweeted post?</li>"
   ],
   "metadata": {
    "collapsed": false
   }
  },
  {
   "cell_type": "markdown",
   "metadata": {},
   "source": [
    "<a id= 'gathering'></a>\n",
    "## Data Gathering\n",
    "In the cell below, we would gather **all** three pieces of data for this project and load them in the notebook. **Note:** the methods required to gather each data are different.\n",
    "1. Directly download the WeRateDogs Twitter archive data (twitter_archive_enhanced.csv)\n",
    ">The first dataset is downloaded directly from the source."
   ]
  },
  {
   "cell_type": "code",
   "execution_count": 26,
   "outputs": [],
   "source": [
    "# Importing python libraries\n",
    "import pandas as pd\n",
    "import requests\n",
    "import matplotlib.pyplot as plt\n",
    "import seaborn as sns\n",
    "%matplotlib inline"
   ],
   "metadata": {
    "collapsed": false,
    "pycharm": {
     "name": "#%%\n"
    }
   }
  },
  {
   "cell_type": "code",
   "execution_count": 27,
   "outputs": [],
   "source": [
    "twitter_archived = pd.read_csv('twitter-archive-enhanced.csv')\n",
    "# reading the csv file using pandas read_csv file"
   ],
   "metadata": {
    "collapsed": false,
    "pycharm": {
     "name": "#%%\n"
    }
   }
  },
  {
   "cell_type": "markdown",
   "metadata": {},
   "source": [
    "2. Use the Requests library to download the tweet image prediction (image_predictions.tsv)\n",
    ">By using the requests library, the image prediction is gotten from the [url provided](https://d17h27t6h515a5.cloudfront.net/topher/2017/August/599fd2ad_image_predictions/image-predictions.tsv). The contents are written to image-prediction.tsv file as shown in the next cell."
   ]
  },
  {
   "cell_type": "code",
   "execution_count": 30,
   "metadata": {},
   "outputs": [],
   "source": [
    "url = ' https://d17h27t6h515a5.cloudfront.net/topher/2017/August/599fd2ad_image-predictions/image-predictions.tsv'\n",
    "\n",
    "with open('image-predictions.tsv', 'wb') as file:\n",
    "    resp = requests.get(url)  # this sends a request to get the contents of the url\n",
    "    file.write(resp.content)  # writes the content of the url to the file variable name."
   ]
  },
  {
   "cell_type": "code",
   "execution_count": 31,
   "outputs": [],
   "source": [
    "image_pred = pd.read_csv('image-predictions.tsv', sep= '\\t')  # the file gotten is then called using pandas"
   ],
   "metadata": {
    "collapsed": false,
    "pycharm": {
     "name": "#%%\n"
    }
   }
  },
  {
   "cell_type": "markdown",
   "metadata": {},
   "source": [
    "4. Use the Tweepy library to query additional data via the Twitter API (tweet_json.txt)\n",
    "> The dataset provided on the udacity course would be used because of difficulty to gain access to the twitter API."
   ]
  },
  {
   "cell_type": "code",
   "execution_count": 88,
   "metadata": {},
   "outputs": [],
   "source": [
    "tweet_json = pd.read_json('tweet-json copy', lines=True)"
   ]
  },
  {
   "cell_type": "markdown",
   "metadata": {
    "extensions": {
     "jupyter_dashboards": {
      "version": 1,
      "views": {
       "grid_default": {
        "col": 4,
        "height": 4,
        "hidden": false,
        "row": 28,
        "width": 4
       },
       "report_default": {
        "hidden": false
       }
      }
     }
    }
   },
   "source": [
    "<a id='assess'></a>\n",
    "## Assessing Data\n",
    "In this section, detect and document at least **eight (8) quality issues and two (2) tidiness issue**. You must use **both** visual assessment\n",
    "programmatic assessment to assess the data.\n",
    "\n",
    "**Note:** pay attention to the following key points when you access the data.\n",
    "\n",
    "* You only want original ratings (no retweets) that have images. Though there are 5000+ tweets in the dataset, not all are dog ratings and some are retweets.\n",
    "* Assessing and cleaning the entire dataset completely would require a lot of time, and is not necessary to practice and demonstrate your skills in data wrangling. Therefore, the requirements of this project are only to assess and clean at least 8 quality issues and at least 2 tidiness issues in this dataset.\n",
    "* The fact that the rating numerators are greater than the denominators does not need to be cleaned. This [unique rating system](http://knowyourmeme.com/memes/theyre-good-dogs-brent) is a big part of the popularity of WeRateDogs.\n",
    "* You do not need to gather the tweets beyond August 1st, 2017. You can, but note that you won't be able to gather the image predictions for these tweets since you don't have access to the algorithm used.\n",
    "\n"
   ]
  },
  {
   "cell_type": "code",
   "execution_count": 89,
   "metadata": {},
   "outputs": [
    {
     "data": {
      "text/plain": "                tweet_id  in_reply_to_status_id  in_reply_to_user_id  \\\n0     892420643555336193                    NaN                  NaN   \n1     892177421306343426                    NaN                  NaN   \n2     891815181378084864                    NaN                  NaN   \n3     891689557279858688                    NaN                  NaN   \n4     891327558926688256                    NaN                  NaN   \n...                  ...                    ...                  ...   \n2351  666049248165822465                    NaN                  NaN   \n2352  666044226329800704                    NaN                  NaN   \n2353  666033412701032449                    NaN                  NaN   \n2354  666029285002620928                    NaN                  NaN   \n2355  666020888022790149                    NaN                  NaN   \n\n                      timestamp  \\\n0     2017-08-01 16:23:56 +0000   \n1     2017-08-01 00:17:27 +0000   \n2     2017-07-31 00:18:03 +0000   \n3     2017-07-30 15:58:51 +0000   \n4     2017-07-29 16:00:24 +0000   \n...                         ...   \n2351  2015-11-16 00:24:50 +0000   \n2352  2015-11-16 00:04:52 +0000   \n2353  2015-11-15 23:21:54 +0000   \n2354  2015-11-15 23:05:30 +0000   \n2355  2015-11-15 22:32:08 +0000   \n\n                                                 source  \\\n0     <a href=\"http://twitter.com/download/iphone\" r...   \n1     <a href=\"http://twitter.com/download/iphone\" r...   \n2     <a href=\"http://twitter.com/download/iphone\" r...   \n3     <a href=\"http://twitter.com/download/iphone\" r...   \n4     <a href=\"http://twitter.com/download/iphone\" r...   \n...                                                 ...   \n2351  <a href=\"http://twitter.com/download/iphone\" r...   \n2352  <a href=\"http://twitter.com/download/iphone\" r...   \n2353  <a href=\"http://twitter.com/download/iphone\" r...   \n2354  <a href=\"http://twitter.com/download/iphone\" r...   \n2355  <a href=\"http://twitter.com/download/iphone\" r...   \n\n                                                   text  retweeted_status_id  \\\n0     This is Phineas. He's a mystical boy. Only eve...                  NaN   \n1     This is Tilly. She's just checking pup on you....                  NaN   \n2     This is Archie. He is a rare Norwegian Pouncin...                  NaN   \n3     This is Darla. She commenced a snooze mid meal...                  NaN   \n4     This is Franklin. He would like you to stop ca...                  NaN   \n...                                                 ...                  ...   \n2351  Here we have a 1949 1st generation vulpix. Enj...                  NaN   \n2352  This is a purebred Piers Morgan. Loves to Netf...                  NaN   \n2353  Here is a very happy pup. Big fan of well-main...                  NaN   \n2354  This is a western brown Mitsubishi terrier. Up...                  NaN   \n2355  Here we have a Japanese Irish Setter. Lost eye...                  NaN   \n\n      retweeted_status_user_id retweeted_status_timestamp  \\\n0                          NaN                        NaN   \n1                          NaN                        NaN   \n2                          NaN                        NaN   \n3                          NaN                        NaN   \n4                          NaN                        NaN   \n...                        ...                        ...   \n2351                       NaN                        NaN   \n2352                       NaN                        NaN   \n2353                       NaN                        NaN   \n2354                       NaN                        NaN   \n2355                       NaN                        NaN   \n\n                                          expanded_urls  rating_numerator  \\\n0     https://twitter.com/dog_rates/status/892420643...                13   \n1     https://twitter.com/dog_rates/status/892177421...                13   \n2     https://twitter.com/dog_rates/status/891815181...                12   \n3     https://twitter.com/dog_rates/status/891689557...                13   \n4     https://twitter.com/dog_rates/status/891327558...                12   \n...                                                 ...               ...   \n2351  https://twitter.com/dog_rates/status/666049248...                 5   \n2352  https://twitter.com/dog_rates/status/666044226...                 6   \n2353  https://twitter.com/dog_rates/status/666033412...                 9   \n2354  https://twitter.com/dog_rates/status/666029285...                 7   \n2355  https://twitter.com/dog_rates/status/666020888...                 8   \n\n      rating_denominator      name doggo floofer pupper puppo  \n0                     10   Phineas  None    None   None  None  \n1                     10     Tilly  None    None   None  None  \n2                     10    Archie  None    None   None  None  \n3                     10     Darla  None    None   None  None  \n4                     10  Franklin  None    None   None  None  \n...                  ...       ...   ...     ...    ...   ...  \n2351                  10      None  None    None   None  None  \n2352                  10         a  None    None   None  None  \n2353                  10         a  None    None   None  None  \n2354                  10         a  None    None   None  None  \n2355                  10      None  None    None   None  None  \n\n[2356 rows x 17 columns]",
      "text/html": "<div>\n<style scoped>\n    .dataframe tbody tr th:only-of-type {\n        vertical-align: middle;\n    }\n\n    .dataframe tbody tr th {\n        vertical-align: top;\n    }\n\n    .dataframe thead th {\n        text-align: right;\n    }\n</style>\n<table border=\"1\" class=\"dataframe\">\n  <thead>\n    <tr style=\"text-align: right;\">\n      <th></th>\n      <th>tweet_id</th>\n      <th>in_reply_to_status_id</th>\n      <th>in_reply_to_user_id</th>\n      <th>timestamp</th>\n      <th>source</th>\n      <th>text</th>\n      <th>retweeted_status_id</th>\n      <th>retweeted_status_user_id</th>\n      <th>retweeted_status_timestamp</th>\n      <th>expanded_urls</th>\n      <th>rating_numerator</th>\n      <th>rating_denominator</th>\n      <th>name</th>\n      <th>doggo</th>\n      <th>floofer</th>\n      <th>pupper</th>\n      <th>puppo</th>\n    </tr>\n  </thead>\n  <tbody>\n    <tr>\n      <th>0</th>\n      <td>892420643555336193</td>\n      <td>NaN</td>\n      <td>NaN</td>\n      <td>2017-08-01 16:23:56 +0000</td>\n      <td>&lt;a href=\"http://twitter.com/download/iphone\" r...</td>\n      <td>This is Phineas. He's a mystical boy. Only eve...</td>\n      <td>NaN</td>\n      <td>NaN</td>\n      <td>NaN</td>\n      <td>https://twitter.com/dog_rates/status/892420643...</td>\n      <td>13</td>\n      <td>10</td>\n      <td>Phineas</td>\n      <td>None</td>\n      <td>None</td>\n      <td>None</td>\n      <td>None</td>\n    </tr>\n    <tr>\n      <th>1</th>\n      <td>892177421306343426</td>\n      <td>NaN</td>\n      <td>NaN</td>\n      <td>2017-08-01 00:17:27 +0000</td>\n      <td>&lt;a href=\"http://twitter.com/download/iphone\" r...</td>\n      <td>This is Tilly. She's just checking pup on you....</td>\n      <td>NaN</td>\n      <td>NaN</td>\n      <td>NaN</td>\n      <td>https://twitter.com/dog_rates/status/892177421...</td>\n      <td>13</td>\n      <td>10</td>\n      <td>Tilly</td>\n      <td>None</td>\n      <td>None</td>\n      <td>None</td>\n      <td>None</td>\n    </tr>\n    <tr>\n      <th>2</th>\n      <td>891815181378084864</td>\n      <td>NaN</td>\n      <td>NaN</td>\n      <td>2017-07-31 00:18:03 +0000</td>\n      <td>&lt;a href=\"http://twitter.com/download/iphone\" r...</td>\n      <td>This is Archie. He is a rare Norwegian Pouncin...</td>\n      <td>NaN</td>\n      <td>NaN</td>\n      <td>NaN</td>\n      <td>https://twitter.com/dog_rates/status/891815181...</td>\n      <td>12</td>\n      <td>10</td>\n      <td>Archie</td>\n      <td>None</td>\n      <td>None</td>\n      <td>None</td>\n      <td>None</td>\n    </tr>\n    <tr>\n      <th>3</th>\n      <td>891689557279858688</td>\n      <td>NaN</td>\n      <td>NaN</td>\n      <td>2017-07-30 15:58:51 +0000</td>\n      <td>&lt;a href=\"http://twitter.com/download/iphone\" r...</td>\n      <td>This is Darla. She commenced a snooze mid meal...</td>\n      <td>NaN</td>\n      <td>NaN</td>\n      <td>NaN</td>\n      <td>https://twitter.com/dog_rates/status/891689557...</td>\n      <td>13</td>\n      <td>10</td>\n      <td>Darla</td>\n      <td>None</td>\n      <td>None</td>\n      <td>None</td>\n      <td>None</td>\n    </tr>\n    <tr>\n      <th>4</th>\n      <td>891327558926688256</td>\n      <td>NaN</td>\n      <td>NaN</td>\n      <td>2017-07-29 16:00:24 +0000</td>\n      <td>&lt;a href=\"http://twitter.com/download/iphone\" r...</td>\n      <td>This is Franklin. He would like you to stop ca...</td>\n      <td>NaN</td>\n      <td>NaN</td>\n      <td>NaN</td>\n      <td>https://twitter.com/dog_rates/status/891327558...</td>\n      <td>12</td>\n      <td>10</td>\n      <td>Franklin</td>\n      <td>None</td>\n      <td>None</td>\n      <td>None</td>\n      <td>None</td>\n    </tr>\n    <tr>\n      <th>...</th>\n      <td>...</td>\n      <td>...</td>\n      <td>...</td>\n      <td>...</td>\n      <td>...</td>\n      <td>...</td>\n      <td>...</td>\n      <td>...</td>\n      <td>...</td>\n      <td>...</td>\n      <td>...</td>\n      <td>...</td>\n      <td>...</td>\n      <td>...</td>\n      <td>...</td>\n      <td>...</td>\n      <td>...</td>\n    </tr>\n    <tr>\n      <th>2351</th>\n      <td>666049248165822465</td>\n      <td>NaN</td>\n      <td>NaN</td>\n      <td>2015-11-16 00:24:50 +0000</td>\n      <td>&lt;a href=\"http://twitter.com/download/iphone\" r...</td>\n      <td>Here we have a 1949 1st generation vulpix. Enj...</td>\n      <td>NaN</td>\n      <td>NaN</td>\n      <td>NaN</td>\n      <td>https://twitter.com/dog_rates/status/666049248...</td>\n      <td>5</td>\n      <td>10</td>\n      <td>None</td>\n      <td>None</td>\n      <td>None</td>\n      <td>None</td>\n      <td>None</td>\n    </tr>\n    <tr>\n      <th>2352</th>\n      <td>666044226329800704</td>\n      <td>NaN</td>\n      <td>NaN</td>\n      <td>2015-11-16 00:04:52 +0000</td>\n      <td>&lt;a href=\"http://twitter.com/download/iphone\" r...</td>\n      <td>This is a purebred Piers Morgan. Loves to Netf...</td>\n      <td>NaN</td>\n      <td>NaN</td>\n      <td>NaN</td>\n      <td>https://twitter.com/dog_rates/status/666044226...</td>\n      <td>6</td>\n      <td>10</td>\n      <td>a</td>\n      <td>None</td>\n      <td>None</td>\n      <td>None</td>\n      <td>None</td>\n    </tr>\n    <tr>\n      <th>2353</th>\n      <td>666033412701032449</td>\n      <td>NaN</td>\n      <td>NaN</td>\n      <td>2015-11-15 23:21:54 +0000</td>\n      <td>&lt;a href=\"http://twitter.com/download/iphone\" r...</td>\n      <td>Here is a very happy pup. Big fan of well-main...</td>\n      <td>NaN</td>\n      <td>NaN</td>\n      <td>NaN</td>\n      <td>https://twitter.com/dog_rates/status/666033412...</td>\n      <td>9</td>\n      <td>10</td>\n      <td>a</td>\n      <td>None</td>\n      <td>None</td>\n      <td>None</td>\n      <td>None</td>\n    </tr>\n    <tr>\n      <th>2354</th>\n      <td>666029285002620928</td>\n      <td>NaN</td>\n      <td>NaN</td>\n      <td>2015-11-15 23:05:30 +0000</td>\n      <td>&lt;a href=\"http://twitter.com/download/iphone\" r...</td>\n      <td>This is a western brown Mitsubishi terrier. Up...</td>\n      <td>NaN</td>\n      <td>NaN</td>\n      <td>NaN</td>\n      <td>https://twitter.com/dog_rates/status/666029285...</td>\n      <td>7</td>\n      <td>10</td>\n      <td>a</td>\n      <td>None</td>\n      <td>None</td>\n      <td>None</td>\n      <td>None</td>\n    </tr>\n    <tr>\n      <th>2355</th>\n      <td>666020888022790149</td>\n      <td>NaN</td>\n      <td>NaN</td>\n      <td>2015-11-15 22:32:08 +0000</td>\n      <td>&lt;a href=\"http://twitter.com/download/iphone\" r...</td>\n      <td>Here we have a Japanese Irish Setter. Lost eye...</td>\n      <td>NaN</td>\n      <td>NaN</td>\n      <td>NaN</td>\n      <td>https://twitter.com/dog_rates/status/666020888...</td>\n      <td>8</td>\n      <td>10</td>\n      <td>None</td>\n      <td>None</td>\n      <td>None</td>\n      <td>None</td>\n      <td>None</td>\n    </tr>\n  </tbody>\n</table>\n<p>2356 rows × 17 columns</p>\n</div>"
     },
     "execution_count": 89,
     "metadata": {},
     "output_type": "execute_result"
    }
   ],
   "source": [
    "twitter_archived"
   ]
  },
  {
   "cell_type": "code",
   "execution_count": 90,
   "outputs": [
    {
     "data": {
      "text/plain": "                tweet_id                                          jpg_url  \\\n0     666020888022790149  https://pbs.twimg.com/media/CT4udn0WwAA0aMy.jpg   \n1     666029285002620928  https://pbs.twimg.com/media/CT42GRgUYAA5iDo.jpg   \n2     666033412701032449  https://pbs.twimg.com/media/CT4521TWwAEvMyu.jpg   \n3     666044226329800704  https://pbs.twimg.com/media/CT5Dr8HUEAA-lEu.jpg   \n4     666049248165822465  https://pbs.twimg.com/media/CT5IQmsXIAAKY4A.jpg   \n...                  ...                                              ...   \n2070  891327558926688256  https://pbs.twimg.com/media/DF6hr6BUMAAzZgT.jpg   \n2071  891689557279858688  https://pbs.twimg.com/media/DF_q7IAWsAEuuN8.jpg   \n2072  891815181378084864  https://pbs.twimg.com/media/DGBdLU1WsAANxJ9.jpg   \n2073  892177421306343426  https://pbs.twimg.com/media/DGGmoV4XsAAUL6n.jpg   \n2074  892420643555336193  https://pbs.twimg.com/media/DGKD1-bXoAAIAUK.jpg   \n\n      img_num                      p1   p1_conf  p1_dog                  p2  \\\n0           1  Welsh_springer_spaniel  0.465074    True              collie   \n1           1                 redbone  0.506826    True  miniature_pinscher   \n2           1         German_shepherd  0.596461    True            malinois   \n3           1     Rhodesian_ridgeback  0.408143    True             redbone   \n4           1      miniature_pinscher  0.560311    True          Rottweiler   \n...       ...                     ...       ...     ...                 ...   \n2070        2                  basset  0.555712    True    English_springer   \n2071        1             paper_towel  0.170278   False  Labrador_retriever   \n2072        1               Chihuahua  0.716012    True            malamute   \n2073        1               Chihuahua  0.323581    True            Pekinese   \n2074        1                  orange  0.097049   False               bagel   \n\n       p2_conf  p2_dog                           p3   p3_conf  p3_dog  \n0     0.156665    True            Shetland_sheepdog  0.061428    True  \n1     0.074192    True          Rhodesian_ridgeback  0.072010    True  \n2     0.138584    True                   bloodhound  0.116197    True  \n3     0.360687    True           miniature_pinscher  0.222752    True  \n4     0.243682    True                     Doberman  0.154629    True  \n...        ...     ...                          ...       ...     ...  \n2070  0.225770    True  German_short-haired_pointer  0.175219    True  \n2071  0.168086    True                      spatula  0.040836   False  \n2072  0.078253    True                       kelpie  0.031379    True  \n2073  0.090647    True                     papillon  0.068957    True  \n2074  0.085851   False                       banana  0.076110   False  \n\n[2075 rows x 12 columns]",
      "text/html": "<div>\n<style scoped>\n    .dataframe tbody tr th:only-of-type {\n        vertical-align: middle;\n    }\n\n    .dataframe tbody tr th {\n        vertical-align: top;\n    }\n\n    .dataframe thead th {\n        text-align: right;\n    }\n</style>\n<table border=\"1\" class=\"dataframe\">\n  <thead>\n    <tr style=\"text-align: right;\">\n      <th></th>\n      <th>tweet_id</th>\n      <th>jpg_url</th>\n      <th>img_num</th>\n      <th>p1</th>\n      <th>p1_conf</th>\n      <th>p1_dog</th>\n      <th>p2</th>\n      <th>p2_conf</th>\n      <th>p2_dog</th>\n      <th>p3</th>\n      <th>p3_conf</th>\n      <th>p3_dog</th>\n    </tr>\n  </thead>\n  <tbody>\n    <tr>\n      <th>0</th>\n      <td>666020888022790149</td>\n      <td>https://pbs.twimg.com/media/CT4udn0WwAA0aMy.jpg</td>\n      <td>1</td>\n      <td>Welsh_springer_spaniel</td>\n      <td>0.465074</td>\n      <td>True</td>\n      <td>collie</td>\n      <td>0.156665</td>\n      <td>True</td>\n      <td>Shetland_sheepdog</td>\n      <td>0.061428</td>\n      <td>True</td>\n    </tr>\n    <tr>\n      <th>1</th>\n      <td>666029285002620928</td>\n      <td>https://pbs.twimg.com/media/CT42GRgUYAA5iDo.jpg</td>\n      <td>1</td>\n      <td>redbone</td>\n      <td>0.506826</td>\n      <td>True</td>\n      <td>miniature_pinscher</td>\n      <td>0.074192</td>\n      <td>True</td>\n      <td>Rhodesian_ridgeback</td>\n      <td>0.072010</td>\n      <td>True</td>\n    </tr>\n    <tr>\n      <th>2</th>\n      <td>666033412701032449</td>\n      <td>https://pbs.twimg.com/media/CT4521TWwAEvMyu.jpg</td>\n      <td>1</td>\n      <td>German_shepherd</td>\n      <td>0.596461</td>\n      <td>True</td>\n      <td>malinois</td>\n      <td>0.138584</td>\n      <td>True</td>\n      <td>bloodhound</td>\n      <td>0.116197</td>\n      <td>True</td>\n    </tr>\n    <tr>\n      <th>3</th>\n      <td>666044226329800704</td>\n      <td>https://pbs.twimg.com/media/CT5Dr8HUEAA-lEu.jpg</td>\n      <td>1</td>\n      <td>Rhodesian_ridgeback</td>\n      <td>0.408143</td>\n      <td>True</td>\n      <td>redbone</td>\n      <td>0.360687</td>\n      <td>True</td>\n      <td>miniature_pinscher</td>\n      <td>0.222752</td>\n      <td>True</td>\n    </tr>\n    <tr>\n      <th>4</th>\n      <td>666049248165822465</td>\n      <td>https://pbs.twimg.com/media/CT5IQmsXIAAKY4A.jpg</td>\n      <td>1</td>\n      <td>miniature_pinscher</td>\n      <td>0.560311</td>\n      <td>True</td>\n      <td>Rottweiler</td>\n      <td>0.243682</td>\n      <td>True</td>\n      <td>Doberman</td>\n      <td>0.154629</td>\n      <td>True</td>\n    </tr>\n    <tr>\n      <th>...</th>\n      <td>...</td>\n      <td>...</td>\n      <td>...</td>\n      <td>...</td>\n      <td>...</td>\n      <td>...</td>\n      <td>...</td>\n      <td>...</td>\n      <td>...</td>\n      <td>...</td>\n      <td>...</td>\n      <td>...</td>\n    </tr>\n    <tr>\n      <th>2070</th>\n      <td>891327558926688256</td>\n      <td>https://pbs.twimg.com/media/DF6hr6BUMAAzZgT.jpg</td>\n      <td>2</td>\n      <td>basset</td>\n      <td>0.555712</td>\n      <td>True</td>\n      <td>English_springer</td>\n      <td>0.225770</td>\n      <td>True</td>\n      <td>German_short-haired_pointer</td>\n      <td>0.175219</td>\n      <td>True</td>\n    </tr>\n    <tr>\n      <th>2071</th>\n      <td>891689557279858688</td>\n      <td>https://pbs.twimg.com/media/DF_q7IAWsAEuuN8.jpg</td>\n      <td>1</td>\n      <td>paper_towel</td>\n      <td>0.170278</td>\n      <td>False</td>\n      <td>Labrador_retriever</td>\n      <td>0.168086</td>\n      <td>True</td>\n      <td>spatula</td>\n      <td>0.040836</td>\n      <td>False</td>\n    </tr>\n    <tr>\n      <th>2072</th>\n      <td>891815181378084864</td>\n      <td>https://pbs.twimg.com/media/DGBdLU1WsAANxJ9.jpg</td>\n      <td>1</td>\n      <td>Chihuahua</td>\n      <td>0.716012</td>\n      <td>True</td>\n      <td>malamute</td>\n      <td>0.078253</td>\n      <td>True</td>\n      <td>kelpie</td>\n      <td>0.031379</td>\n      <td>True</td>\n    </tr>\n    <tr>\n      <th>2073</th>\n      <td>892177421306343426</td>\n      <td>https://pbs.twimg.com/media/DGGmoV4XsAAUL6n.jpg</td>\n      <td>1</td>\n      <td>Chihuahua</td>\n      <td>0.323581</td>\n      <td>True</td>\n      <td>Pekinese</td>\n      <td>0.090647</td>\n      <td>True</td>\n      <td>papillon</td>\n      <td>0.068957</td>\n      <td>True</td>\n    </tr>\n    <tr>\n      <th>2074</th>\n      <td>892420643555336193</td>\n      <td>https://pbs.twimg.com/media/DGKD1-bXoAAIAUK.jpg</td>\n      <td>1</td>\n      <td>orange</td>\n      <td>0.097049</td>\n      <td>False</td>\n      <td>bagel</td>\n      <td>0.085851</td>\n      <td>False</td>\n      <td>banana</td>\n      <td>0.076110</td>\n      <td>False</td>\n    </tr>\n  </tbody>\n</table>\n<p>2075 rows × 12 columns</p>\n</div>"
     },
     "execution_count": 90,
     "metadata": {},
     "output_type": "execute_result"
    }
   ],
   "source": [
    "image_pred"
   ],
   "metadata": {
    "collapsed": false,
    "pycharm": {
     "name": "#%%\n"
    }
   }
  },
  {
   "cell_type": "code",
   "execution_count": 91,
   "outputs": [
    {
     "data": {
      "text/plain": "                    created_at                  id              id_str  \\\n0    2017-08-01 16:23:56+00:00  892420643555336193  892420643555336192   \n1    2017-08-01 00:17:27+00:00  892177421306343426  892177421306343424   \n2    2017-07-31 00:18:03+00:00  891815181378084864  891815181378084864   \n3    2017-07-30 15:58:51+00:00  891689557279858688  891689557279858688   \n4    2017-07-29 16:00:24+00:00  891327558926688256  891327558926688256   \n...                        ...                 ...                 ...   \n2349 2015-11-16 00:24:50+00:00  666049248165822465  666049248165822464   \n2350 2015-11-16 00:04:52+00:00  666044226329800704  666044226329800704   \n2351 2015-11-15 23:21:54+00:00  666033412701032449  666033412701032448   \n2352 2015-11-15 23:05:30+00:00  666029285002620928  666029285002620928   \n2353 2015-11-15 22:32:08+00:00  666020888022790149  666020888022790144   \n\n                                              full_text  truncated  \\\n0     This is Phineas. He's a mystical boy. Only eve...      False   \n1     This is Tilly. She's just checking pup on you....      False   \n2     This is Archie. He is a rare Norwegian Pouncin...      False   \n3     This is Darla. She commenced a snooze mid meal...      False   \n4     This is Franklin. He would like you to stop ca...      False   \n...                                                 ...        ...   \n2349  Here we have a 1949 1st generation vulpix. Enj...      False   \n2350  This is a purebred Piers Morgan. Loves to Netf...      False   \n2351  Here is a very happy pup. Big fan of well-main...      False   \n2352  This is a western brown Mitsubishi terrier. Up...      False   \n2353  Here we have a Japanese Irish Setter. Lost eye...      False   \n\n     display_text_range                                           entities  \\\n0               [0, 85]  {'hashtags': [], 'symbols': [], 'user_mentions...   \n1              [0, 138]  {'hashtags': [], 'symbols': [], 'user_mentions...   \n2              [0, 121]  {'hashtags': [], 'symbols': [], 'user_mentions...   \n3               [0, 79]  {'hashtags': [], 'symbols': [], 'user_mentions...   \n4              [0, 138]  {'hashtags': [{'text': 'BarkWeek', 'indices': ...   \n...                 ...                                                ...   \n2349           [0, 120]  {'hashtags': [], 'symbols': [], 'user_mentions...   \n2350           [0, 137]  {'hashtags': [], 'symbols': [], 'user_mentions...   \n2351           [0, 130]  {'hashtags': [], 'symbols': [], 'user_mentions...   \n2352           [0, 139]  {'hashtags': [], 'symbols': [], 'user_mentions...   \n2353           [0, 131]  {'hashtags': [], 'symbols': [], 'user_mentions...   \n\n                                      extended_entities  \\\n0     {'media': [{'id': 892420639486877696, 'id_str'...   \n1     {'media': [{'id': 892177413194625024, 'id_str'...   \n2     {'media': [{'id': 891815175371796480, 'id_str'...   \n3     {'media': [{'id': 891689552724799489, 'id_str'...   \n4     {'media': [{'id': 891327551943041024, 'id_str'...   \n...                                                 ...   \n2349  {'media': [{'id': 666049244999131136, 'id_str'...   \n2350  {'media': [{'id': 666044217047650304, 'id_str'...   \n2351  {'media': [{'id': 666033409081393153, 'id_str'...   \n2352  {'media': [{'id': 666029276303482880, 'id_str'...   \n2353  {'media': [{'id': 666020881337073664, 'id_str'...   \n\n                                                 source  \\\n0     <a href=\"http://twitter.com/download/iphone\" r...   \n1     <a href=\"http://twitter.com/download/iphone\" r...   \n2     <a href=\"http://twitter.com/download/iphone\" r...   \n3     <a href=\"http://twitter.com/download/iphone\" r...   \n4     <a href=\"http://twitter.com/download/iphone\" r...   \n...                                                 ...   \n2349  <a href=\"http://twitter.com/download/iphone\" r...   \n2350  <a href=\"http://twitter.com/download/iphone\" r...   \n2351  <a href=\"http://twitter.com/download/iphone\" r...   \n2352  <a href=\"http://twitter.com/download/iphone\" r...   \n2353  <a href=\"http://twitter.com/download/iphone\" r...   \n\n      in_reply_to_status_id  ...  favorite_count  favorited  retweeted  \\\n0                       NaN  ...           39467      False      False   \n1                       NaN  ...           33819      False      False   \n2                       NaN  ...           25461      False      False   \n3                       NaN  ...           42908      False      False   \n4                       NaN  ...           41048      False      False   \n...                     ...  ...             ...        ...        ...   \n2349                    NaN  ...             111      False      False   \n2350                    NaN  ...             311      False      False   \n2351                    NaN  ...             128      False      False   \n2352                    NaN  ...             132      False      False   \n2353                    NaN  ...            2535      False      False   \n\n     possibly_sensitive possibly_sensitive_appealable  lang  retweeted_status  \\\n0                   0.0                           0.0    en               NaN   \n1                   0.0                           0.0    en               NaN   \n2                   0.0                           0.0    en               NaN   \n3                   0.0                           0.0    en               NaN   \n4                   0.0                           0.0    en               NaN   \n...                 ...                           ...   ...               ...   \n2349                0.0                           0.0    en               NaN   \n2350                0.0                           0.0    en               NaN   \n2351                0.0                           0.0    en               NaN   \n2352                0.0                           0.0    en               NaN   \n2353                0.0                           0.0    en               NaN   \n\n     quoted_status_id  quoted_status_id_str  quoted_status  \n0                 NaN                   NaN            NaN  \n1                 NaN                   NaN            NaN  \n2                 NaN                   NaN            NaN  \n3                 NaN                   NaN            NaN  \n4                 NaN                   NaN            NaN  \n...               ...                   ...            ...  \n2349              NaN                   NaN            NaN  \n2350              NaN                   NaN            NaN  \n2351              NaN                   NaN            NaN  \n2352              NaN                   NaN            NaN  \n2353              NaN                   NaN            NaN  \n\n[2354 rows x 31 columns]",
      "text/html": "<div>\n<style scoped>\n    .dataframe tbody tr th:only-of-type {\n        vertical-align: middle;\n    }\n\n    .dataframe tbody tr th {\n        vertical-align: top;\n    }\n\n    .dataframe thead th {\n        text-align: right;\n    }\n</style>\n<table border=\"1\" class=\"dataframe\">\n  <thead>\n    <tr style=\"text-align: right;\">\n      <th></th>\n      <th>created_at</th>\n      <th>id</th>\n      <th>id_str</th>\n      <th>full_text</th>\n      <th>truncated</th>\n      <th>display_text_range</th>\n      <th>entities</th>\n      <th>extended_entities</th>\n      <th>source</th>\n      <th>in_reply_to_status_id</th>\n      <th>...</th>\n      <th>favorite_count</th>\n      <th>favorited</th>\n      <th>retweeted</th>\n      <th>possibly_sensitive</th>\n      <th>possibly_sensitive_appealable</th>\n      <th>lang</th>\n      <th>retweeted_status</th>\n      <th>quoted_status_id</th>\n      <th>quoted_status_id_str</th>\n      <th>quoted_status</th>\n    </tr>\n  </thead>\n  <tbody>\n    <tr>\n      <th>0</th>\n      <td>2017-08-01 16:23:56+00:00</td>\n      <td>892420643555336193</td>\n      <td>892420643555336192</td>\n      <td>This is Phineas. He's a mystical boy. Only eve...</td>\n      <td>False</td>\n      <td>[0, 85]</td>\n      <td>{'hashtags': [], 'symbols': [], 'user_mentions...</td>\n      <td>{'media': [{'id': 892420639486877696, 'id_str'...</td>\n      <td>&lt;a href=\"http://twitter.com/download/iphone\" r...</td>\n      <td>NaN</td>\n      <td>...</td>\n      <td>39467</td>\n      <td>False</td>\n      <td>False</td>\n      <td>0.0</td>\n      <td>0.0</td>\n      <td>en</td>\n      <td>NaN</td>\n      <td>NaN</td>\n      <td>NaN</td>\n      <td>NaN</td>\n    </tr>\n    <tr>\n      <th>1</th>\n      <td>2017-08-01 00:17:27+00:00</td>\n      <td>892177421306343426</td>\n      <td>892177421306343424</td>\n      <td>This is Tilly. She's just checking pup on you....</td>\n      <td>False</td>\n      <td>[0, 138]</td>\n      <td>{'hashtags': [], 'symbols': [], 'user_mentions...</td>\n      <td>{'media': [{'id': 892177413194625024, 'id_str'...</td>\n      <td>&lt;a href=\"http://twitter.com/download/iphone\" r...</td>\n      <td>NaN</td>\n      <td>...</td>\n      <td>33819</td>\n      <td>False</td>\n      <td>False</td>\n      <td>0.0</td>\n      <td>0.0</td>\n      <td>en</td>\n      <td>NaN</td>\n      <td>NaN</td>\n      <td>NaN</td>\n      <td>NaN</td>\n    </tr>\n    <tr>\n      <th>2</th>\n      <td>2017-07-31 00:18:03+00:00</td>\n      <td>891815181378084864</td>\n      <td>891815181378084864</td>\n      <td>This is Archie. He is a rare Norwegian Pouncin...</td>\n      <td>False</td>\n      <td>[0, 121]</td>\n      <td>{'hashtags': [], 'symbols': [], 'user_mentions...</td>\n      <td>{'media': [{'id': 891815175371796480, 'id_str'...</td>\n      <td>&lt;a href=\"http://twitter.com/download/iphone\" r...</td>\n      <td>NaN</td>\n      <td>...</td>\n      <td>25461</td>\n      <td>False</td>\n      <td>False</td>\n      <td>0.0</td>\n      <td>0.0</td>\n      <td>en</td>\n      <td>NaN</td>\n      <td>NaN</td>\n      <td>NaN</td>\n      <td>NaN</td>\n    </tr>\n    <tr>\n      <th>3</th>\n      <td>2017-07-30 15:58:51+00:00</td>\n      <td>891689557279858688</td>\n      <td>891689557279858688</td>\n      <td>This is Darla. She commenced a snooze mid meal...</td>\n      <td>False</td>\n      <td>[0, 79]</td>\n      <td>{'hashtags': [], 'symbols': [], 'user_mentions...</td>\n      <td>{'media': [{'id': 891689552724799489, 'id_str'...</td>\n      <td>&lt;a href=\"http://twitter.com/download/iphone\" r...</td>\n      <td>NaN</td>\n      <td>...</td>\n      <td>42908</td>\n      <td>False</td>\n      <td>False</td>\n      <td>0.0</td>\n      <td>0.0</td>\n      <td>en</td>\n      <td>NaN</td>\n      <td>NaN</td>\n      <td>NaN</td>\n      <td>NaN</td>\n    </tr>\n    <tr>\n      <th>4</th>\n      <td>2017-07-29 16:00:24+00:00</td>\n      <td>891327558926688256</td>\n      <td>891327558926688256</td>\n      <td>This is Franklin. He would like you to stop ca...</td>\n      <td>False</td>\n      <td>[0, 138]</td>\n      <td>{'hashtags': [{'text': 'BarkWeek', 'indices': ...</td>\n      <td>{'media': [{'id': 891327551943041024, 'id_str'...</td>\n      <td>&lt;a href=\"http://twitter.com/download/iphone\" r...</td>\n      <td>NaN</td>\n      <td>...</td>\n      <td>41048</td>\n      <td>False</td>\n      <td>False</td>\n      <td>0.0</td>\n      <td>0.0</td>\n      <td>en</td>\n      <td>NaN</td>\n      <td>NaN</td>\n      <td>NaN</td>\n      <td>NaN</td>\n    </tr>\n    <tr>\n      <th>...</th>\n      <td>...</td>\n      <td>...</td>\n      <td>...</td>\n      <td>...</td>\n      <td>...</td>\n      <td>...</td>\n      <td>...</td>\n      <td>...</td>\n      <td>...</td>\n      <td>...</td>\n      <td>...</td>\n      <td>...</td>\n      <td>...</td>\n      <td>...</td>\n      <td>...</td>\n      <td>...</td>\n      <td>...</td>\n      <td>...</td>\n      <td>...</td>\n      <td>...</td>\n      <td>...</td>\n    </tr>\n    <tr>\n      <th>2349</th>\n      <td>2015-11-16 00:24:50+00:00</td>\n      <td>666049248165822465</td>\n      <td>666049248165822464</td>\n      <td>Here we have a 1949 1st generation vulpix. Enj...</td>\n      <td>False</td>\n      <td>[0, 120]</td>\n      <td>{'hashtags': [], 'symbols': [], 'user_mentions...</td>\n      <td>{'media': [{'id': 666049244999131136, 'id_str'...</td>\n      <td>&lt;a href=\"http://twitter.com/download/iphone\" r...</td>\n      <td>NaN</td>\n      <td>...</td>\n      <td>111</td>\n      <td>False</td>\n      <td>False</td>\n      <td>0.0</td>\n      <td>0.0</td>\n      <td>en</td>\n      <td>NaN</td>\n      <td>NaN</td>\n      <td>NaN</td>\n      <td>NaN</td>\n    </tr>\n    <tr>\n      <th>2350</th>\n      <td>2015-11-16 00:04:52+00:00</td>\n      <td>666044226329800704</td>\n      <td>666044226329800704</td>\n      <td>This is a purebred Piers Morgan. Loves to Netf...</td>\n      <td>False</td>\n      <td>[0, 137]</td>\n      <td>{'hashtags': [], 'symbols': [], 'user_mentions...</td>\n      <td>{'media': [{'id': 666044217047650304, 'id_str'...</td>\n      <td>&lt;a href=\"http://twitter.com/download/iphone\" r...</td>\n      <td>NaN</td>\n      <td>...</td>\n      <td>311</td>\n      <td>False</td>\n      <td>False</td>\n      <td>0.0</td>\n      <td>0.0</td>\n      <td>en</td>\n      <td>NaN</td>\n      <td>NaN</td>\n      <td>NaN</td>\n      <td>NaN</td>\n    </tr>\n    <tr>\n      <th>2351</th>\n      <td>2015-11-15 23:21:54+00:00</td>\n      <td>666033412701032449</td>\n      <td>666033412701032448</td>\n      <td>Here is a very happy pup. Big fan of well-main...</td>\n      <td>False</td>\n      <td>[0, 130]</td>\n      <td>{'hashtags': [], 'symbols': [], 'user_mentions...</td>\n      <td>{'media': [{'id': 666033409081393153, 'id_str'...</td>\n      <td>&lt;a href=\"http://twitter.com/download/iphone\" r...</td>\n      <td>NaN</td>\n      <td>...</td>\n      <td>128</td>\n      <td>False</td>\n      <td>False</td>\n      <td>0.0</td>\n      <td>0.0</td>\n      <td>en</td>\n      <td>NaN</td>\n      <td>NaN</td>\n      <td>NaN</td>\n      <td>NaN</td>\n    </tr>\n    <tr>\n      <th>2352</th>\n      <td>2015-11-15 23:05:30+00:00</td>\n      <td>666029285002620928</td>\n      <td>666029285002620928</td>\n      <td>This is a western brown Mitsubishi terrier. Up...</td>\n      <td>False</td>\n      <td>[0, 139]</td>\n      <td>{'hashtags': [], 'symbols': [], 'user_mentions...</td>\n      <td>{'media': [{'id': 666029276303482880, 'id_str'...</td>\n      <td>&lt;a href=\"http://twitter.com/download/iphone\" r...</td>\n      <td>NaN</td>\n      <td>...</td>\n      <td>132</td>\n      <td>False</td>\n      <td>False</td>\n      <td>0.0</td>\n      <td>0.0</td>\n      <td>en</td>\n      <td>NaN</td>\n      <td>NaN</td>\n      <td>NaN</td>\n      <td>NaN</td>\n    </tr>\n    <tr>\n      <th>2353</th>\n      <td>2015-11-15 22:32:08+00:00</td>\n      <td>666020888022790149</td>\n      <td>666020888022790144</td>\n      <td>Here we have a Japanese Irish Setter. Lost eye...</td>\n      <td>False</td>\n      <td>[0, 131]</td>\n      <td>{'hashtags': [], 'symbols': [], 'user_mentions...</td>\n      <td>{'media': [{'id': 666020881337073664, 'id_str'...</td>\n      <td>&lt;a href=\"http://twitter.com/download/iphone\" r...</td>\n      <td>NaN</td>\n      <td>...</td>\n      <td>2535</td>\n      <td>False</td>\n      <td>False</td>\n      <td>0.0</td>\n      <td>0.0</td>\n      <td>en</td>\n      <td>NaN</td>\n      <td>NaN</td>\n      <td>NaN</td>\n      <td>NaN</td>\n    </tr>\n  </tbody>\n</table>\n<p>2354 rows × 31 columns</p>\n</div>"
     },
     "execution_count": 91,
     "metadata": {},
     "output_type": "execute_result"
    }
   ],
   "source": [
    "tweet_json"
   ],
   "metadata": {
    "collapsed": false,
    "pycharm": {
     "name": "#%%\n"
    }
   }
  },
  {
   "cell_type": "code",
   "execution_count": 92,
   "outputs": [
    {
     "data": {
      "text/plain": "0    {'hashtags': [], 'symbols': [], 'user_mentions...\n1    {'hashtags': [], 'symbols': [], 'user_mentions...\n2    {'hashtags': [], 'symbols': [], 'user_mentions...\n3    {'hashtags': [], 'symbols': [], 'user_mentions...\n4    {'hashtags': [{'text': 'BarkWeek', 'indices': ...\nName: entities, dtype: object"
     },
     "execution_count": 92,
     "metadata": {},
     "output_type": "execute_result"
    }
   ],
   "source": [
    "tweet_json.entities.head()"
   ],
   "metadata": {
    "collapsed": false,
    "pycharm": {
     "name": "#%%\n"
    }
   }
  },
  {
   "cell_type": "code",
   "execution_count": 93,
   "outputs": [
    {
     "name": "stdout",
     "output_type": "stream",
     "text": [
      "<class 'pandas.core.frame.DataFrame'>\n",
      "RangeIndex: 2356 entries, 0 to 2355\n",
      "Data columns (total 17 columns):\n",
      " #   Column                      Non-Null Count  Dtype  \n",
      "---  ------                      --------------  -----  \n",
      " 0   tweet_id                    2356 non-null   int64  \n",
      " 1   in_reply_to_status_id       78 non-null     float64\n",
      " 2   in_reply_to_user_id         78 non-null     float64\n",
      " 3   timestamp                   2356 non-null   object \n",
      " 4   source                      2356 non-null   object \n",
      " 5   text                        2356 non-null   object \n",
      " 6   retweeted_status_id         181 non-null    float64\n",
      " 7   retweeted_status_user_id    181 non-null    float64\n",
      " 8   retweeted_status_timestamp  181 non-null    object \n",
      " 9   expanded_urls               2297 non-null   object \n",
      " 10  rating_numerator            2356 non-null   int64  \n",
      " 11  rating_denominator          2356 non-null   int64  \n",
      " 12  name                        2356 non-null   object \n",
      " 13  doggo                       2356 non-null   object \n",
      " 14  floofer                     2356 non-null   object \n",
      " 15  pupper                      2356 non-null   object \n",
      " 16  puppo                       2356 non-null   object \n",
      "dtypes: float64(4), int64(3), object(10)\n",
      "memory usage: 313.0+ KB\n"
     ]
    }
   ],
   "source": [
    "twitter_archived.info()"
   ],
   "metadata": {
    "collapsed": false,
    "pycharm": {
     "name": "#%%\n"
    }
   }
  },
  {
   "cell_type": "code",
   "execution_count": 94,
   "outputs": [
    {
     "name": "stdout",
     "output_type": "stream",
     "text": [
      "<class 'pandas.core.frame.DataFrame'>\n",
      "RangeIndex: 2075 entries, 0 to 2074\n",
      "Data columns (total 12 columns):\n",
      " #   Column    Non-Null Count  Dtype  \n",
      "---  ------    --------------  -----  \n",
      " 0   tweet_id  2075 non-null   int64  \n",
      " 1   jpg_url   2075 non-null   object \n",
      " 2   img_num   2075 non-null   int64  \n",
      " 3   p1        2075 non-null   object \n",
      " 4   p1_conf   2075 non-null   float64\n",
      " 5   p1_dog    2075 non-null   bool   \n",
      " 6   p2        2075 non-null   object \n",
      " 7   p2_conf   2075 non-null   float64\n",
      " 8   p2_dog    2075 non-null   bool   \n",
      " 9   p3        2075 non-null   object \n",
      " 10  p3_conf   2075 non-null   float64\n",
      " 11  p3_dog    2075 non-null   bool   \n",
      "dtypes: bool(3), float64(3), int64(2), object(4)\n",
      "memory usage: 152.1+ KB\n"
     ]
    }
   ],
   "source": [
    "image_pred.info()"
   ],
   "metadata": {
    "collapsed": false,
    "pycharm": {
     "name": "#%%\n"
    }
   }
  },
  {
   "cell_type": "code",
   "execution_count": 95,
   "outputs": [
    {
     "name": "stdout",
     "output_type": "stream",
     "text": [
      "<class 'pandas.core.frame.DataFrame'>\n",
      "RangeIndex: 2354 entries, 0 to 2353\n",
      "Data columns (total 31 columns):\n",
      " #   Column                         Non-Null Count  Dtype              \n",
      "---  ------                         --------------  -----              \n",
      " 0   created_at                     2354 non-null   datetime64[ns, UTC]\n",
      " 1   id                             2354 non-null   int64              \n",
      " 2   id_str                         2354 non-null   int64              \n",
      " 3   full_text                      2354 non-null   object             \n",
      " 4   truncated                      2354 non-null   bool               \n",
      " 5   display_text_range             2354 non-null   object             \n",
      " 6   entities                       2354 non-null   object             \n",
      " 7   extended_entities              2073 non-null   object             \n",
      " 8   source                         2354 non-null   object             \n",
      " 9   in_reply_to_status_id          78 non-null     float64            \n",
      " 10  in_reply_to_status_id_str      78 non-null     float64            \n",
      " 11  in_reply_to_user_id            78 non-null     float64            \n",
      " 12  in_reply_to_user_id_str        78 non-null     float64            \n",
      " 13  in_reply_to_screen_name        78 non-null     object             \n",
      " 14  user                           2354 non-null   object             \n",
      " 15  geo                            0 non-null      float64            \n",
      " 16  coordinates                    0 non-null      float64            \n",
      " 17  place                          1 non-null      object             \n",
      " 18  contributors                   0 non-null      float64            \n",
      " 19  is_quote_status                2354 non-null   bool               \n",
      " 20  retweet_count                  2354 non-null   int64              \n",
      " 21  favorite_count                 2354 non-null   int64              \n",
      " 22  favorited                      2354 non-null   bool               \n",
      " 23  retweeted                      2354 non-null   bool               \n",
      " 24  possibly_sensitive             2211 non-null   float64            \n",
      " 25  possibly_sensitive_appealable  2211 non-null   float64            \n",
      " 26  lang                           2354 non-null   object             \n",
      " 27  retweeted_status               179 non-null    object             \n",
      " 28  quoted_status_id               29 non-null     float64            \n",
      " 29  quoted_status_id_str           29 non-null     float64            \n",
      " 30  quoted_status                  28 non-null     object             \n",
      "dtypes: bool(4), datetime64[ns, UTC](1), float64(11), int64(4), object(11)\n",
      "memory usage: 505.9+ KB\n"
     ]
    }
   ],
   "source": [
    "tweet_json.info()"
   ],
   "metadata": {
    "collapsed": false,
    "pycharm": {
     "name": "#%%\n"
    }
   }
  },
  {
   "cell_type": "code",
   "execution_count": 96,
   "outputs": [
    {
     "data": {
      "text/plain": "           tweet_id  in_reply_to_status_id  in_reply_to_user_id  \\\ncount  2.356000e+03           7.800000e+01         7.800000e+01   \nmean   7.427716e+17           7.455079e+17         2.014171e+16   \nstd    6.856705e+16           7.582492e+16         1.252797e+17   \nmin    6.660209e+17           6.658147e+17         1.185634e+07   \n25%    6.783989e+17           6.757419e+17         3.086374e+08   \n50%    7.196279e+17           7.038708e+17         4.196984e+09   \n75%    7.993373e+17           8.257804e+17         4.196984e+09   \nmax    8.924206e+17           8.862664e+17         8.405479e+17   \n\n       retweeted_status_id  retweeted_status_user_id  rating_numerator  \\\ncount         1.810000e+02              1.810000e+02       2356.000000   \nmean          7.720400e+17              1.241698e+16         13.126486   \nstd           6.236928e+16              9.599254e+16         45.876648   \nmin           6.661041e+17              7.832140e+05          0.000000   \n25%           7.186315e+17              4.196984e+09         10.000000   \n50%           7.804657e+17              4.196984e+09         11.000000   \n75%           8.203146e+17              4.196984e+09         12.000000   \nmax           8.874740e+17              7.874618e+17       1776.000000   \n\n       rating_denominator  \ncount         2356.000000  \nmean            10.455433  \nstd              6.745237  \nmin              0.000000  \n25%             10.000000  \n50%             10.000000  \n75%             10.000000  \nmax            170.000000  ",
      "text/html": "<div>\n<style scoped>\n    .dataframe tbody tr th:only-of-type {\n        vertical-align: middle;\n    }\n\n    .dataframe tbody tr th {\n        vertical-align: top;\n    }\n\n    .dataframe thead th {\n        text-align: right;\n    }\n</style>\n<table border=\"1\" class=\"dataframe\">\n  <thead>\n    <tr style=\"text-align: right;\">\n      <th></th>\n      <th>tweet_id</th>\n      <th>in_reply_to_status_id</th>\n      <th>in_reply_to_user_id</th>\n      <th>retweeted_status_id</th>\n      <th>retweeted_status_user_id</th>\n      <th>rating_numerator</th>\n      <th>rating_denominator</th>\n    </tr>\n  </thead>\n  <tbody>\n    <tr>\n      <th>count</th>\n      <td>2.356000e+03</td>\n      <td>7.800000e+01</td>\n      <td>7.800000e+01</td>\n      <td>1.810000e+02</td>\n      <td>1.810000e+02</td>\n      <td>2356.000000</td>\n      <td>2356.000000</td>\n    </tr>\n    <tr>\n      <th>mean</th>\n      <td>7.427716e+17</td>\n      <td>7.455079e+17</td>\n      <td>2.014171e+16</td>\n      <td>7.720400e+17</td>\n      <td>1.241698e+16</td>\n      <td>13.126486</td>\n      <td>10.455433</td>\n    </tr>\n    <tr>\n      <th>std</th>\n      <td>6.856705e+16</td>\n      <td>7.582492e+16</td>\n      <td>1.252797e+17</td>\n      <td>6.236928e+16</td>\n      <td>9.599254e+16</td>\n      <td>45.876648</td>\n      <td>6.745237</td>\n    </tr>\n    <tr>\n      <th>min</th>\n      <td>6.660209e+17</td>\n      <td>6.658147e+17</td>\n      <td>1.185634e+07</td>\n      <td>6.661041e+17</td>\n      <td>7.832140e+05</td>\n      <td>0.000000</td>\n      <td>0.000000</td>\n    </tr>\n    <tr>\n      <th>25%</th>\n      <td>6.783989e+17</td>\n      <td>6.757419e+17</td>\n      <td>3.086374e+08</td>\n      <td>7.186315e+17</td>\n      <td>4.196984e+09</td>\n      <td>10.000000</td>\n      <td>10.000000</td>\n    </tr>\n    <tr>\n      <th>50%</th>\n      <td>7.196279e+17</td>\n      <td>7.038708e+17</td>\n      <td>4.196984e+09</td>\n      <td>7.804657e+17</td>\n      <td>4.196984e+09</td>\n      <td>11.000000</td>\n      <td>10.000000</td>\n    </tr>\n    <tr>\n      <th>75%</th>\n      <td>7.993373e+17</td>\n      <td>8.257804e+17</td>\n      <td>4.196984e+09</td>\n      <td>8.203146e+17</td>\n      <td>4.196984e+09</td>\n      <td>12.000000</td>\n      <td>10.000000</td>\n    </tr>\n    <tr>\n      <th>max</th>\n      <td>8.924206e+17</td>\n      <td>8.862664e+17</td>\n      <td>8.405479e+17</td>\n      <td>8.874740e+17</td>\n      <td>7.874618e+17</td>\n      <td>1776.000000</td>\n      <td>170.000000</td>\n    </tr>\n  </tbody>\n</table>\n</div>"
     },
     "execution_count": 96,
     "metadata": {},
     "output_type": "execute_result"
    }
   ],
   "source": [
    "twitter_archived.describe()"
   ],
   "metadata": {
    "collapsed": false,
    "pycharm": {
     "name": "#%%\n"
    }
   }
  },
  {
   "cell_type": "code",
   "execution_count": 97,
   "outputs": [
    {
     "data": {
      "text/plain": "0"
     },
     "execution_count": 97,
     "metadata": {},
     "output_type": "execute_result"
    }
   ],
   "source": [
    "twitter_archived.duplicated().sum()"
   ],
   "metadata": {
    "collapsed": false,
    "pycharm": {
     "name": "#%%\n"
    }
   }
  },
  {
   "cell_type": "code",
   "execution_count": 98,
   "outputs": [
    {
     "data": {
      "text/plain": "0"
     },
     "execution_count": 98,
     "metadata": {},
     "output_type": "execute_result"
    }
   ],
   "source": [
    "image_pred.duplicated().sum()"
   ],
   "metadata": {
    "collapsed": false,
    "pycharm": {
     "name": "#%%\n"
    }
   }
  },
  {
   "cell_type": "code",
   "execution_count": 99,
   "outputs": [
    {
     "data": {
      "text/plain": "                 id        id_str  in_reply_to_status_id  \\\ncount  2.354000e+03  2.354000e+03           7.800000e+01   \nmean   7.426978e+17  7.426978e+17           7.455079e+17   \nstd    6.852812e+16  6.852812e+16           7.582492e+16   \nmin    6.660209e+17  6.660209e+17           6.658147e+17   \n25%    6.783975e+17  6.783975e+17           6.757419e+17   \n50%    7.194596e+17  7.194596e+17           7.038708e+17   \n75%    7.993058e+17  7.993058e+17           8.257804e+17   \nmax    8.924206e+17  8.924206e+17           8.862664e+17   \n\n       in_reply_to_status_id_str  in_reply_to_user_id  \\\ncount               7.800000e+01         7.800000e+01   \nmean                7.455079e+17         2.014171e+16   \nstd                 7.582492e+16         1.252797e+17   \nmin                 6.658147e+17         1.185634e+07   \n25%                 6.757419e+17         3.086374e+08   \n50%                 7.038708e+17         4.196984e+09   \n75%                 8.257804e+17         4.196984e+09   \nmax                 8.862664e+17         8.405479e+17   \n\n       in_reply_to_user_id_str  geo  coordinates  contributors  retweet_count  \\\ncount             7.800000e+01  0.0          0.0           0.0    2354.000000   \nmean              2.014171e+16  NaN          NaN           NaN    3164.797366   \nstd               1.252797e+17  NaN          NaN           NaN    5284.770364   \nmin               1.185634e+07  NaN          NaN           NaN       0.000000   \n25%               3.086374e+08  NaN          NaN           NaN     624.500000   \n50%               4.196984e+09  NaN          NaN           NaN    1473.500000   \n75%               4.196984e+09  NaN          NaN           NaN    3652.000000   \nmax               8.405479e+17  NaN          NaN           NaN   79515.000000   \n\n       favorite_count  possibly_sensitive  possibly_sensitive_appealable  \\\ncount     2354.000000              2211.0                         2211.0   \nmean      8080.968564                 0.0                            0.0   \nstd      11814.771334                 0.0                            0.0   \nmin          0.000000                 0.0                            0.0   \n25%       1415.000000                 0.0                            0.0   \n50%       3603.500000                 0.0                            0.0   \n75%      10122.250000                 0.0                            0.0   \nmax     132810.000000                 0.0                            0.0   \n\n       quoted_status_id  quoted_status_id_str  \ncount      2.900000e+01          2.900000e+01  \nmean       8.162686e+17          8.162686e+17  \nstd        6.164161e+16          6.164161e+16  \nmin        6.721083e+17          6.721083e+17  \n25%        7.888183e+17          7.888183e+17  \n50%        8.340867e+17          8.340867e+17  \n75%        8.664587e+17          8.664587e+17  \nmax        8.860534e+17          8.860534e+17  ",
      "text/html": "<div>\n<style scoped>\n    .dataframe tbody tr th:only-of-type {\n        vertical-align: middle;\n    }\n\n    .dataframe tbody tr th {\n        vertical-align: top;\n    }\n\n    .dataframe thead th {\n        text-align: right;\n    }\n</style>\n<table border=\"1\" class=\"dataframe\">\n  <thead>\n    <tr style=\"text-align: right;\">\n      <th></th>\n      <th>id</th>\n      <th>id_str</th>\n      <th>in_reply_to_status_id</th>\n      <th>in_reply_to_status_id_str</th>\n      <th>in_reply_to_user_id</th>\n      <th>in_reply_to_user_id_str</th>\n      <th>geo</th>\n      <th>coordinates</th>\n      <th>contributors</th>\n      <th>retweet_count</th>\n      <th>favorite_count</th>\n      <th>possibly_sensitive</th>\n      <th>possibly_sensitive_appealable</th>\n      <th>quoted_status_id</th>\n      <th>quoted_status_id_str</th>\n    </tr>\n  </thead>\n  <tbody>\n    <tr>\n      <th>count</th>\n      <td>2.354000e+03</td>\n      <td>2.354000e+03</td>\n      <td>7.800000e+01</td>\n      <td>7.800000e+01</td>\n      <td>7.800000e+01</td>\n      <td>7.800000e+01</td>\n      <td>0.0</td>\n      <td>0.0</td>\n      <td>0.0</td>\n      <td>2354.000000</td>\n      <td>2354.000000</td>\n      <td>2211.0</td>\n      <td>2211.0</td>\n      <td>2.900000e+01</td>\n      <td>2.900000e+01</td>\n    </tr>\n    <tr>\n      <th>mean</th>\n      <td>7.426978e+17</td>\n      <td>7.426978e+17</td>\n      <td>7.455079e+17</td>\n      <td>7.455079e+17</td>\n      <td>2.014171e+16</td>\n      <td>2.014171e+16</td>\n      <td>NaN</td>\n      <td>NaN</td>\n      <td>NaN</td>\n      <td>3164.797366</td>\n      <td>8080.968564</td>\n      <td>0.0</td>\n      <td>0.0</td>\n      <td>8.162686e+17</td>\n      <td>8.162686e+17</td>\n    </tr>\n    <tr>\n      <th>std</th>\n      <td>6.852812e+16</td>\n      <td>6.852812e+16</td>\n      <td>7.582492e+16</td>\n      <td>7.582492e+16</td>\n      <td>1.252797e+17</td>\n      <td>1.252797e+17</td>\n      <td>NaN</td>\n      <td>NaN</td>\n      <td>NaN</td>\n      <td>5284.770364</td>\n      <td>11814.771334</td>\n      <td>0.0</td>\n      <td>0.0</td>\n      <td>6.164161e+16</td>\n      <td>6.164161e+16</td>\n    </tr>\n    <tr>\n      <th>min</th>\n      <td>6.660209e+17</td>\n      <td>6.660209e+17</td>\n      <td>6.658147e+17</td>\n      <td>6.658147e+17</td>\n      <td>1.185634e+07</td>\n      <td>1.185634e+07</td>\n      <td>NaN</td>\n      <td>NaN</td>\n      <td>NaN</td>\n      <td>0.000000</td>\n      <td>0.000000</td>\n      <td>0.0</td>\n      <td>0.0</td>\n      <td>6.721083e+17</td>\n      <td>6.721083e+17</td>\n    </tr>\n    <tr>\n      <th>25%</th>\n      <td>6.783975e+17</td>\n      <td>6.783975e+17</td>\n      <td>6.757419e+17</td>\n      <td>6.757419e+17</td>\n      <td>3.086374e+08</td>\n      <td>3.086374e+08</td>\n      <td>NaN</td>\n      <td>NaN</td>\n      <td>NaN</td>\n      <td>624.500000</td>\n      <td>1415.000000</td>\n      <td>0.0</td>\n      <td>0.0</td>\n      <td>7.888183e+17</td>\n      <td>7.888183e+17</td>\n    </tr>\n    <tr>\n      <th>50%</th>\n      <td>7.194596e+17</td>\n      <td>7.194596e+17</td>\n      <td>7.038708e+17</td>\n      <td>7.038708e+17</td>\n      <td>4.196984e+09</td>\n      <td>4.196984e+09</td>\n      <td>NaN</td>\n      <td>NaN</td>\n      <td>NaN</td>\n      <td>1473.500000</td>\n      <td>3603.500000</td>\n      <td>0.0</td>\n      <td>0.0</td>\n      <td>8.340867e+17</td>\n      <td>8.340867e+17</td>\n    </tr>\n    <tr>\n      <th>75%</th>\n      <td>7.993058e+17</td>\n      <td>7.993058e+17</td>\n      <td>8.257804e+17</td>\n      <td>8.257804e+17</td>\n      <td>4.196984e+09</td>\n      <td>4.196984e+09</td>\n      <td>NaN</td>\n      <td>NaN</td>\n      <td>NaN</td>\n      <td>3652.000000</td>\n      <td>10122.250000</td>\n      <td>0.0</td>\n      <td>0.0</td>\n      <td>8.664587e+17</td>\n      <td>8.664587e+17</td>\n    </tr>\n    <tr>\n      <th>max</th>\n      <td>8.924206e+17</td>\n      <td>8.924206e+17</td>\n      <td>8.862664e+17</td>\n      <td>8.862664e+17</td>\n      <td>8.405479e+17</td>\n      <td>8.405479e+17</td>\n      <td>NaN</td>\n      <td>NaN</td>\n      <td>NaN</td>\n      <td>79515.000000</td>\n      <td>132810.000000</td>\n      <td>0.0</td>\n      <td>0.0</td>\n      <td>8.860534e+17</td>\n      <td>8.860534e+17</td>\n    </tr>\n  </tbody>\n</table>\n</div>"
     },
     "execution_count": 99,
     "metadata": {},
     "output_type": "execute_result"
    }
   ],
   "source": [
    "tweet_json.describe()"
   ],
   "metadata": {
    "collapsed": false,
    "pycharm": {
     "name": "#%%\n"
    }
   }
  },
  {
   "cell_type": "code",
   "execution_count": 100,
   "outputs": [
    {
     "data": {
      "text/plain": "1    1780\n2     198\n3      66\n4      31\nName: img_num, dtype: int64"
     },
     "execution_count": 100,
     "metadata": {},
     "output_type": "execute_result"
    }
   ],
   "source": [
    "image_pred.img_num.value_counts()"
   ],
   "metadata": {
    "collapsed": false,
    "pycharm": {
     "name": "#%%\n"
    }
   }
  },
  {
   "cell_type": "code",
   "execution_count": 101,
   "outputs": [
    {
     "data": {
      "text/plain": "                                     id    id_str  truncated  \\\nid                             1.000000  1.000000        NaN   \nid_str                         1.000000  1.000000        NaN   \ntruncated                           NaN       NaN        NaN   \nin_reply_to_status_id          0.940568  0.940568        NaN   \nin_reply_to_status_id_str      0.940568  0.940568        NaN   \nin_reply_to_user_id            0.135083  0.135083        NaN   \nin_reply_to_user_id_str        0.135083  0.135083        NaN   \ngeo                                 NaN       NaN        NaN   \ncoordinates                         NaN       NaN        NaN   \ncontributors                        NaN       NaN        NaN   \nis_quote_status                0.128965  0.128965        NaN   \nretweet_count                  0.389995  0.389995        NaN   \nfavorite_count                 0.528210  0.528210        NaN   \nfavorited                      0.070496  0.070496        NaN   \nretweeted                           NaN       NaN        NaN   \npossibly_sensitive                  NaN       NaN        NaN   \npossibly_sensitive_appealable       NaN       NaN        NaN   \nquoted_status_id               0.977912  0.977912        NaN   \nquoted_status_id_str           0.977912  0.977912        NaN   \n\n                               in_reply_to_status_id  \\\nid                                          0.940568   \nid_str                                      0.940568   \ntruncated                                        NaN   \nin_reply_to_status_id                       1.000000   \nin_reply_to_status_id_str                   1.000000   \nin_reply_to_user_id                         0.136589   \nin_reply_to_user_id_str                     0.136589   \ngeo                                              NaN   \ncoordinates                                      NaN   \ncontributors                                     NaN   \nis_quote_status                                  NaN   \nretweet_count                              -0.213959   \nfavorite_count                              0.042125   \nfavorited                                   0.202767   \nretweeted                                        NaN   \npossibly_sensitive                               NaN   \npossibly_sensitive_appealable                    NaN   \nquoted_status_id                                 NaN   \nquoted_status_id_str                             NaN   \n\n                               in_reply_to_status_id_str  in_reply_to_user_id  \\\nid                                              0.940568             0.135083   \nid_str                                          0.940568             0.135083   \ntruncated                                            NaN                  NaN   \nin_reply_to_status_id                           1.000000             0.136589   \nin_reply_to_status_id_str                       1.000000             0.136589   \nin_reply_to_user_id                             0.136589             1.000000   \nin_reply_to_user_id_str                         0.136589             1.000000   \ngeo                                                  NaN                  NaN   \ncoordinates                                          NaN                  NaN   \ncontributors                                         NaN                  NaN   \nis_quote_status                                      NaN                  NaN   \nretweet_count                                  -0.213959            -0.088934   \nfavorite_count                                  0.042125            -0.090030   \nfavorited                                       0.202767            -0.018440   \nretweeted                                            NaN                  NaN   \npossibly_sensitive                                   NaN                  NaN   \npossibly_sensitive_appealable                        NaN                  NaN   \nquoted_status_id                                     NaN                  NaN   \nquoted_status_id_str                                 NaN                  NaN   \n\n                               in_reply_to_user_id_str  geo  coordinates  \\\nid                                            0.135083  NaN          NaN   \nid_str                                        0.135083  NaN          NaN   \ntruncated                                          NaN  NaN          NaN   \nin_reply_to_status_id                         0.136589  NaN          NaN   \nin_reply_to_status_id_str                     0.136589  NaN          NaN   \nin_reply_to_user_id                           1.000000  NaN          NaN   \nin_reply_to_user_id_str                       1.000000  NaN          NaN   \ngeo                                                NaN  NaN          NaN   \ncoordinates                                        NaN  NaN          NaN   \ncontributors                                       NaN  NaN          NaN   \nis_quote_status                                    NaN  NaN          NaN   \nretweet_count                                -0.088934  NaN          NaN   \nfavorite_count                               -0.090030  NaN          NaN   \nfavorited                                    -0.018440  NaN          NaN   \nretweeted                                          NaN  NaN          NaN   \npossibly_sensitive                                 NaN  NaN          NaN   \npossibly_sensitive_appealable                      NaN  NaN          NaN   \nquoted_status_id                                   NaN  NaN          NaN   \nquoted_status_id_str                               NaN  NaN          NaN   \n\n                               contributors  is_quote_status  retweet_count  \\\nid                                      NaN         0.128965       0.389995   \nid_str                                  NaN         0.128965       0.389995   \ntruncated                               NaN              NaN            NaN   \nin_reply_to_status_id                   NaN              NaN      -0.213959   \nin_reply_to_status_id_str               NaN              NaN      -0.213959   \nin_reply_to_user_id                     NaN              NaN      -0.088934   \nin_reply_to_user_id_str                 NaN              NaN      -0.088934   \ngeo                                     NaN              NaN            NaN   \ncoordinates                             NaN              NaN            NaN   \ncontributors                            NaN              NaN            NaN   \nis_quote_status                         NaN         1.000000       0.013345   \nretweet_count                           NaN         0.013345       1.000000   \nfavorite_count                          NaN         0.062572       0.702881   \nfavorited                               NaN        -0.006746       0.032623   \nretweeted                               NaN              NaN            NaN   \npossibly_sensitive                      NaN              NaN            NaN   \npossibly_sensitive_appealable           NaN              NaN            NaN   \nquoted_status_id                        NaN              NaN       0.519645   \nquoted_status_id_str                    NaN              NaN       0.519645   \n\n                               favorite_count  favorited  retweeted  \\\nid                                   0.528210   0.070496        NaN   \nid_str                               0.528210   0.070496        NaN   \ntruncated                                 NaN        NaN        NaN   \nin_reply_to_status_id                0.042125   0.202767        NaN   \nin_reply_to_status_id_str            0.042125   0.202767        NaN   \nin_reply_to_user_id                 -0.090030  -0.018440        NaN   \nin_reply_to_user_id_str             -0.090030  -0.018440        NaN   \ngeo                                       NaN        NaN        NaN   \ncoordinates                               NaN        NaN        NaN   \ncontributors                              NaN        NaN        NaN   \nis_quote_status                      0.062572  -0.006746        NaN   \nretweet_count                        0.702881   0.032623        NaN   \nfavorite_count                       1.000000   0.044153        NaN   \nfavorited                            0.044153   1.000000        NaN   \nretweeted                                 NaN        NaN        NaN   \npossibly_sensitive                        NaN        NaN        NaN   \npossibly_sensitive_appealable             NaN        NaN        NaN   \nquoted_status_id                     0.615017        NaN        NaN   \nquoted_status_id_str                 0.615017        NaN        NaN   \n\n                               possibly_sensitive  \\\nid                                            NaN   \nid_str                                        NaN   \ntruncated                                     NaN   \nin_reply_to_status_id                         NaN   \nin_reply_to_status_id_str                     NaN   \nin_reply_to_user_id                           NaN   \nin_reply_to_user_id_str                       NaN   \ngeo                                           NaN   \ncoordinates                                   NaN   \ncontributors                                  NaN   \nis_quote_status                               NaN   \nretweet_count                                 NaN   \nfavorite_count                                NaN   \nfavorited                                     NaN   \nretweeted                                     NaN   \npossibly_sensitive                            NaN   \npossibly_sensitive_appealable                 NaN   \nquoted_status_id                              NaN   \nquoted_status_id_str                          NaN   \n\n                               possibly_sensitive_appealable  \\\nid                                                       NaN   \nid_str                                                   NaN   \ntruncated                                                NaN   \nin_reply_to_status_id                                    NaN   \nin_reply_to_status_id_str                                NaN   \nin_reply_to_user_id                                      NaN   \nin_reply_to_user_id_str                                  NaN   \ngeo                                                      NaN   \ncoordinates                                              NaN   \ncontributors                                             NaN   \nis_quote_status                                          NaN   \nretweet_count                                            NaN   \nfavorite_count                                           NaN   \nfavorited                                                NaN   \nretweeted                                                NaN   \npossibly_sensitive                                       NaN   \npossibly_sensitive_appealable                            NaN   \nquoted_status_id                                         NaN   \nquoted_status_id_str                                     NaN   \n\n                               quoted_status_id  quoted_status_id_str  \nid                                     0.977912              0.977912  \nid_str                                 0.977912              0.977912  \ntruncated                                   NaN                   NaN  \nin_reply_to_status_id                       NaN                   NaN  \nin_reply_to_status_id_str                   NaN                   NaN  \nin_reply_to_user_id                         NaN                   NaN  \nin_reply_to_user_id_str                     NaN                   NaN  \ngeo                                         NaN                   NaN  \ncoordinates                                 NaN                   NaN  \ncontributors                                NaN                   NaN  \nis_quote_status                             NaN                   NaN  \nretweet_count                          0.519645              0.519645  \nfavorite_count                         0.615017              0.615017  \nfavorited                                   NaN                   NaN  \nretweeted                                   NaN                   NaN  \npossibly_sensitive                          NaN                   NaN  \npossibly_sensitive_appealable               NaN                   NaN  \nquoted_status_id                       1.000000              1.000000  \nquoted_status_id_str                   1.000000              1.000000  ",
      "text/html": "<div>\n<style scoped>\n    .dataframe tbody tr th:only-of-type {\n        vertical-align: middle;\n    }\n\n    .dataframe tbody tr th {\n        vertical-align: top;\n    }\n\n    .dataframe thead th {\n        text-align: right;\n    }\n</style>\n<table border=\"1\" class=\"dataframe\">\n  <thead>\n    <tr style=\"text-align: right;\">\n      <th></th>\n      <th>id</th>\n      <th>id_str</th>\n      <th>truncated</th>\n      <th>in_reply_to_status_id</th>\n      <th>in_reply_to_status_id_str</th>\n      <th>in_reply_to_user_id</th>\n      <th>in_reply_to_user_id_str</th>\n      <th>geo</th>\n      <th>coordinates</th>\n      <th>contributors</th>\n      <th>is_quote_status</th>\n      <th>retweet_count</th>\n      <th>favorite_count</th>\n      <th>favorited</th>\n      <th>retweeted</th>\n      <th>possibly_sensitive</th>\n      <th>possibly_sensitive_appealable</th>\n      <th>quoted_status_id</th>\n      <th>quoted_status_id_str</th>\n    </tr>\n  </thead>\n  <tbody>\n    <tr>\n      <th>id</th>\n      <td>1.000000</td>\n      <td>1.000000</td>\n      <td>NaN</td>\n      <td>0.940568</td>\n      <td>0.940568</td>\n      <td>0.135083</td>\n      <td>0.135083</td>\n      <td>NaN</td>\n      <td>NaN</td>\n      <td>NaN</td>\n      <td>0.128965</td>\n      <td>0.389995</td>\n      <td>0.528210</td>\n      <td>0.070496</td>\n      <td>NaN</td>\n      <td>NaN</td>\n      <td>NaN</td>\n      <td>0.977912</td>\n      <td>0.977912</td>\n    </tr>\n    <tr>\n      <th>id_str</th>\n      <td>1.000000</td>\n      <td>1.000000</td>\n      <td>NaN</td>\n      <td>0.940568</td>\n      <td>0.940568</td>\n      <td>0.135083</td>\n      <td>0.135083</td>\n      <td>NaN</td>\n      <td>NaN</td>\n      <td>NaN</td>\n      <td>0.128965</td>\n      <td>0.389995</td>\n      <td>0.528210</td>\n      <td>0.070496</td>\n      <td>NaN</td>\n      <td>NaN</td>\n      <td>NaN</td>\n      <td>0.977912</td>\n      <td>0.977912</td>\n    </tr>\n    <tr>\n      <th>truncated</th>\n      <td>NaN</td>\n      <td>NaN</td>\n      <td>NaN</td>\n      <td>NaN</td>\n      <td>NaN</td>\n      <td>NaN</td>\n      <td>NaN</td>\n      <td>NaN</td>\n      <td>NaN</td>\n      <td>NaN</td>\n      <td>NaN</td>\n      <td>NaN</td>\n      <td>NaN</td>\n      <td>NaN</td>\n      <td>NaN</td>\n      <td>NaN</td>\n      <td>NaN</td>\n      <td>NaN</td>\n      <td>NaN</td>\n    </tr>\n    <tr>\n      <th>in_reply_to_status_id</th>\n      <td>0.940568</td>\n      <td>0.940568</td>\n      <td>NaN</td>\n      <td>1.000000</td>\n      <td>1.000000</td>\n      <td>0.136589</td>\n      <td>0.136589</td>\n      <td>NaN</td>\n      <td>NaN</td>\n      <td>NaN</td>\n      <td>NaN</td>\n      <td>-0.213959</td>\n      <td>0.042125</td>\n      <td>0.202767</td>\n      <td>NaN</td>\n      <td>NaN</td>\n      <td>NaN</td>\n      <td>NaN</td>\n      <td>NaN</td>\n    </tr>\n    <tr>\n      <th>in_reply_to_status_id_str</th>\n      <td>0.940568</td>\n      <td>0.940568</td>\n      <td>NaN</td>\n      <td>1.000000</td>\n      <td>1.000000</td>\n      <td>0.136589</td>\n      <td>0.136589</td>\n      <td>NaN</td>\n      <td>NaN</td>\n      <td>NaN</td>\n      <td>NaN</td>\n      <td>-0.213959</td>\n      <td>0.042125</td>\n      <td>0.202767</td>\n      <td>NaN</td>\n      <td>NaN</td>\n      <td>NaN</td>\n      <td>NaN</td>\n      <td>NaN</td>\n    </tr>\n    <tr>\n      <th>in_reply_to_user_id</th>\n      <td>0.135083</td>\n      <td>0.135083</td>\n      <td>NaN</td>\n      <td>0.136589</td>\n      <td>0.136589</td>\n      <td>1.000000</td>\n      <td>1.000000</td>\n      <td>NaN</td>\n      <td>NaN</td>\n      <td>NaN</td>\n      <td>NaN</td>\n      <td>-0.088934</td>\n      <td>-0.090030</td>\n      <td>-0.018440</td>\n      <td>NaN</td>\n      <td>NaN</td>\n      <td>NaN</td>\n      <td>NaN</td>\n      <td>NaN</td>\n    </tr>\n    <tr>\n      <th>in_reply_to_user_id_str</th>\n      <td>0.135083</td>\n      <td>0.135083</td>\n      <td>NaN</td>\n      <td>0.136589</td>\n      <td>0.136589</td>\n      <td>1.000000</td>\n      <td>1.000000</td>\n      <td>NaN</td>\n      <td>NaN</td>\n      <td>NaN</td>\n      <td>NaN</td>\n      <td>-0.088934</td>\n      <td>-0.090030</td>\n      <td>-0.018440</td>\n      <td>NaN</td>\n      <td>NaN</td>\n      <td>NaN</td>\n      <td>NaN</td>\n      <td>NaN</td>\n    </tr>\n    <tr>\n      <th>geo</th>\n      <td>NaN</td>\n      <td>NaN</td>\n      <td>NaN</td>\n      <td>NaN</td>\n      <td>NaN</td>\n      <td>NaN</td>\n      <td>NaN</td>\n      <td>NaN</td>\n      <td>NaN</td>\n      <td>NaN</td>\n      <td>NaN</td>\n      <td>NaN</td>\n      <td>NaN</td>\n      <td>NaN</td>\n      <td>NaN</td>\n      <td>NaN</td>\n      <td>NaN</td>\n      <td>NaN</td>\n      <td>NaN</td>\n    </tr>\n    <tr>\n      <th>coordinates</th>\n      <td>NaN</td>\n      <td>NaN</td>\n      <td>NaN</td>\n      <td>NaN</td>\n      <td>NaN</td>\n      <td>NaN</td>\n      <td>NaN</td>\n      <td>NaN</td>\n      <td>NaN</td>\n      <td>NaN</td>\n      <td>NaN</td>\n      <td>NaN</td>\n      <td>NaN</td>\n      <td>NaN</td>\n      <td>NaN</td>\n      <td>NaN</td>\n      <td>NaN</td>\n      <td>NaN</td>\n      <td>NaN</td>\n    </tr>\n    <tr>\n      <th>contributors</th>\n      <td>NaN</td>\n      <td>NaN</td>\n      <td>NaN</td>\n      <td>NaN</td>\n      <td>NaN</td>\n      <td>NaN</td>\n      <td>NaN</td>\n      <td>NaN</td>\n      <td>NaN</td>\n      <td>NaN</td>\n      <td>NaN</td>\n      <td>NaN</td>\n      <td>NaN</td>\n      <td>NaN</td>\n      <td>NaN</td>\n      <td>NaN</td>\n      <td>NaN</td>\n      <td>NaN</td>\n      <td>NaN</td>\n    </tr>\n    <tr>\n      <th>is_quote_status</th>\n      <td>0.128965</td>\n      <td>0.128965</td>\n      <td>NaN</td>\n      <td>NaN</td>\n      <td>NaN</td>\n      <td>NaN</td>\n      <td>NaN</td>\n      <td>NaN</td>\n      <td>NaN</td>\n      <td>NaN</td>\n      <td>1.000000</td>\n      <td>0.013345</td>\n      <td>0.062572</td>\n      <td>-0.006746</td>\n      <td>NaN</td>\n      <td>NaN</td>\n      <td>NaN</td>\n      <td>NaN</td>\n      <td>NaN</td>\n    </tr>\n    <tr>\n      <th>retweet_count</th>\n      <td>0.389995</td>\n      <td>0.389995</td>\n      <td>NaN</td>\n      <td>-0.213959</td>\n      <td>-0.213959</td>\n      <td>-0.088934</td>\n      <td>-0.088934</td>\n      <td>NaN</td>\n      <td>NaN</td>\n      <td>NaN</td>\n      <td>0.013345</td>\n      <td>1.000000</td>\n      <td>0.702881</td>\n      <td>0.032623</td>\n      <td>NaN</td>\n      <td>NaN</td>\n      <td>NaN</td>\n      <td>0.519645</td>\n      <td>0.519645</td>\n    </tr>\n    <tr>\n      <th>favorite_count</th>\n      <td>0.528210</td>\n      <td>0.528210</td>\n      <td>NaN</td>\n      <td>0.042125</td>\n      <td>0.042125</td>\n      <td>-0.090030</td>\n      <td>-0.090030</td>\n      <td>NaN</td>\n      <td>NaN</td>\n      <td>NaN</td>\n      <td>0.062572</td>\n      <td>0.702881</td>\n      <td>1.000000</td>\n      <td>0.044153</td>\n      <td>NaN</td>\n      <td>NaN</td>\n      <td>NaN</td>\n      <td>0.615017</td>\n      <td>0.615017</td>\n    </tr>\n    <tr>\n      <th>favorited</th>\n      <td>0.070496</td>\n      <td>0.070496</td>\n      <td>NaN</td>\n      <td>0.202767</td>\n      <td>0.202767</td>\n      <td>-0.018440</td>\n      <td>-0.018440</td>\n      <td>NaN</td>\n      <td>NaN</td>\n      <td>NaN</td>\n      <td>-0.006746</td>\n      <td>0.032623</td>\n      <td>0.044153</td>\n      <td>1.000000</td>\n      <td>NaN</td>\n      <td>NaN</td>\n      <td>NaN</td>\n      <td>NaN</td>\n      <td>NaN</td>\n    </tr>\n    <tr>\n      <th>retweeted</th>\n      <td>NaN</td>\n      <td>NaN</td>\n      <td>NaN</td>\n      <td>NaN</td>\n      <td>NaN</td>\n      <td>NaN</td>\n      <td>NaN</td>\n      <td>NaN</td>\n      <td>NaN</td>\n      <td>NaN</td>\n      <td>NaN</td>\n      <td>NaN</td>\n      <td>NaN</td>\n      <td>NaN</td>\n      <td>NaN</td>\n      <td>NaN</td>\n      <td>NaN</td>\n      <td>NaN</td>\n      <td>NaN</td>\n    </tr>\n    <tr>\n      <th>possibly_sensitive</th>\n      <td>NaN</td>\n      <td>NaN</td>\n      <td>NaN</td>\n      <td>NaN</td>\n      <td>NaN</td>\n      <td>NaN</td>\n      <td>NaN</td>\n      <td>NaN</td>\n      <td>NaN</td>\n      <td>NaN</td>\n      <td>NaN</td>\n      <td>NaN</td>\n      <td>NaN</td>\n      <td>NaN</td>\n      <td>NaN</td>\n      <td>NaN</td>\n      <td>NaN</td>\n      <td>NaN</td>\n      <td>NaN</td>\n    </tr>\n    <tr>\n      <th>possibly_sensitive_appealable</th>\n      <td>NaN</td>\n      <td>NaN</td>\n      <td>NaN</td>\n      <td>NaN</td>\n      <td>NaN</td>\n      <td>NaN</td>\n      <td>NaN</td>\n      <td>NaN</td>\n      <td>NaN</td>\n      <td>NaN</td>\n      <td>NaN</td>\n      <td>NaN</td>\n      <td>NaN</td>\n      <td>NaN</td>\n      <td>NaN</td>\n      <td>NaN</td>\n      <td>NaN</td>\n      <td>NaN</td>\n      <td>NaN</td>\n    </tr>\n    <tr>\n      <th>quoted_status_id</th>\n      <td>0.977912</td>\n      <td>0.977912</td>\n      <td>NaN</td>\n      <td>NaN</td>\n      <td>NaN</td>\n      <td>NaN</td>\n      <td>NaN</td>\n      <td>NaN</td>\n      <td>NaN</td>\n      <td>NaN</td>\n      <td>NaN</td>\n      <td>0.519645</td>\n      <td>0.615017</td>\n      <td>NaN</td>\n      <td>NaN</td>\n      <td>NaN</td>\n      <td>NaN</td>\n      <td>1.000000</td>\n      <td>1.000000</td>\n    </tr>\n    <tr>\n      <th>quoted_status_id_str</th>\n      <td>0.977912</td>\n      <td>0.977912</td>\n      <td>NaN</td>\n      <td>NaN</td>\n      <td>NaN</td>\n      <td>NaN</td>\n      <td>NaN</td>\n      <td>NaN</td>\n      <td>NaN</td>\n      <td>NaN</td>\n      <td>NaN</td>\n      <td>0.519645</td>\n      <td>0.615017</td>\n      <td>NaN</td>\n      <td>NaN</td>\n      <td>NaN</td>\n      <td>NaN</td>\n      <td>1.000000</td>\n      <td>1.000000</td>\n    </tr>\n  </tbody>\n</table>\n</div>"
     },
     "execution_count": 101,
     "metadata": {},
     "output_type": "execute_result"
    }
   ],
   "source": [
    "tweet_json.corr()"
   ],
   "metadata": {
    "collapsed": false,
    "pycharm": {
     "name": "#%%\n"
    }
   }
  },
  {
   "cell_type": "markdown",
   "metadata": {},
   "source": [
    "\n",
    "<a id = 'issues'></a>\n",
    "## Identifying Issues.\n",
    "After carefully assessing the data both virtually by scrolling through the data and programmatically checking for issues, I was able to come up with these issues which are divided into two categories, Quality issues and the Tidiness issues.\n",
    "\n",
    "<h3> Quality issues </h3>\n",
    "<p>\n",
    "This issues contains problems regarding completeness of the data (i.e. how accurate the data is), validity of the data ( which is categorized by how real the data is) amongst others.\n",
    "</p>\n",
    "\n",
    "<b> 1. Missing Values </b>\n",
    "\n",
    "Missing values are present in the following columns:\n",
    "\n",
    "* in_reply_to_status_id\n",
    "\n",
    "* in_reply_to_user_id\n",
    "\n",
    "* retweeted_status_id\n",
    "\n",
    "* retweeted_status_user_id\n",
    "\n",
    "* retweeted_status_timestamp\n",
    "\n",
    "Missing values present in the following columns:\n",
    "\n",
    "* in_reply_to_status_id\n",
    "\n",
    "* in_reply_to_status_id_str\n",
    "\n",
    "* in_reply_to_user_id\n",
    "\n",
    "* in_reply_to_user_id_str\n",
    "\n",
    "* in_reply_to_screen_time\n",
    "\n",
    "* geo\n",
    "\n",
    "* coordinates\n",
    "\n",
    "<b> 2. The rating_numerator are sometimes above the rating_denominator column. <b>\n",
    "\n",
    "<b> 3. Some dogs where without name </b.\n",
    "\n",
    "<b> 4. Some Images were not Dogs.</b>\n",
    "\n",
    "<b> 5. The columns converted to strings still has an integer datatype. </b>\n",
    "\n",
    "<b> 6. The columns: doggo, floofer, pupper and puppo are all known as affectionate words for dog and don't give a well detailed relationship between the with the tweets. </b>\n",
    "\n",
    "<b> 7. The id column in the image prediction dataset was in an ascending order while the others are in a descending order. </b>\n",
    "\n",
    "<b> 8. Some images are not correctly categorized.</b>\n",
    "\n"
   ]
  },
  {
   "cell_type": "markdown",
   "metadata": {
    "extensions": {
     "jupyter_dashboards": {
      "version": 1,
      "views": {
       "grid_default": {
        "col": 0,
        "height": 7,
        "hidden": false,
        "row": 40,
        "width": 12
       },
       "report_default": {
        "hidden": false
       }
      }
     }
    }
   },
   "source": [
    "<h3> Tidiness issues </h3>\n",
    "\n",
    "<b> 1. Inconsistent number of rows across the three data. </b>\n",
    "\n",
    "<b> 2. The entities columns present in the tweet_json data contained other sub-columns. </b>\n"
   ]
  },
  {
   "cell_type": "markdown",
   "metadata": {
    "extensions": {
     "jupyter_dashboards": {
      "version": 1,
      "views": {
       "grid_default": {
        "col": 4,
        "height": 4,
        "hidden": false,
        "row": 32,
        "width": 4
       },
       "report_default": {
        "hidden": false
       }
      }
     }
    }
   },
   "source": [
    "<a id= 'cleaning'></a>\n",
    "<h2> Cleaning Data </h2>\n",
    "In this section, clean **all** of the issues you documented while assessing. \n",
    "\n",
    "<b> Note:</b> Make a copy of the original data before cleaning. Cleaning includes merging individual pieces of data according to the rules of [tidy data](https://cran.r-project.org/web/packages/tidyr/vignettes/tidy-data.html). The result should be a high-quality and tidy master pandas DataFrame (or DataFrames, if appropriate)."
   ]
  },
  {
   "cell_type": "code",
   "execution_count": 102,
   "metadata": {},
   "outputs": [],
   "source": [
    "# Make copies of original pieces of data\n",
    "twitter_archived_copy = twitter_archived.copy()\n",
    "image_pred_copy = image_pred.copy()\n",
    "tweet_json_copy = tweet_json.copy()"
   ]
  },
  {
   "cell_type": "markdown",
   "metadata": {},
   "source": [
    "### Issue #1: Missing Values present in Archived Tweets."
   ]
  },
  {
   "cell_type": "markdown",
   "metadata": {},
   "source": [
    "<b> Define: The Archived Tweets dataset (twitter_archived) contained missing values. To solve this issue, I would drop off the columns with large amount of missing values and drop of rows with small amount of missing values. </b>\n"
   ]
  },
  {
   "cell_type": "markdown",
   "metadata": {},
   "source": [
    "<h4>Codes</h4>\n",
    "<p> A function to drop off missing values is written first. Then, the columns which contains a lot of missing values are dropped off. </p>"
   ]
  },
  {
   "cell_type": "code",
   "execution_count": 103,
   "metadata": {},
   "outputs": [],
   "source": [
    "def drop_missing(df, lists, axis):\n",
    "    \"\"\" The function takes in a dataset and a list of the columns to be dropped off, also the axis to be dropped from.\"\"\"\n",
    "    df.drop(lists, axis= axis, inplace = True)\n",
    "    return df.head()"
   ]
  },
  {
   "cell_type": "code",
   "execution_count": 104,
   "outputs": [
    {
     "name": "stdout",
     "output_type": "stream",
     "text": [
      "<class 'pandas.core.frame.DataFrame'>\n",
      "RangeIndex: 2356 entries, 0 to 2355\n",
      "Data columns (total 17 columns):\n",
      " #   Column                      Non-Null Count  Dtype  \n",
      "---  ------                      --------------  -----  \n",
      " 0   tweet_id                    2356 non-null   int64  \n",
      " 1   in_reply_to_status_id       78 non-null     float64\n",
      " 2   in_reply_to_user_id         78 non-null     float64\n",
      " 3   timestamp                   2356 non-null   object \n",
      " 4   source                      2356 non-null   object \n",
      " 5   text                        2356 non-null   object \n",
      " 6   retweeted_status_id         181 non-null    float64\n",
      " 7   retweeted_status_user_id    181 non-null    float64\n",
      " 8   retweeted_status_timestamp  181 non-null    object \n",
      " 9   expanded_urls               2297 non-null   object \n",
      " 10  rating_numerator            2356 non-null   int64  \n",
      " 11  rating_denominator          2356 non-null   int64  \n",
      " 12  name                        2356 non-null   object \n",
      " 13  doggo                       2356 non-null   object \n",
      " 14  floofer                     2356 non-null   object \n",
      " 15  pupper                      2356 non-null   object \n",
      " 16  puppo                       2356 non-null   object \n",
      "dtypes: float64(4), int64(3), object(10)\n",
      "memory usage: 313.0+ KB\n"
     ]
    }
   ],
   "source": [
    "twitter_archived_copy.info()"
   ],
   "metadata": {
    "collapsed": false,
    "pycharm": {
     "name": "#%%\n"
    }
   }
  },
  {
   "cell_type": "code",
   "execution_count": 105,
   "outputs": [
    {
     "data": {
      "text/plain": "             tweet_id                  timestamp  \\\n0  892420643555336193  2017-08-01 16:23:56 +0000   \n1  892177421306343426  2017-08-01 00:17:27 +0000   \n2  891815181378084864  2017-07-31 00:18:03 +0000   \n3  891689557279858688  2017-07-30 15:58:51 +0000   \n4  891327558926688256  2017-07-29 16:00:24 +0000   \n\n                                              source  \\\n0  <a href=\"http://twitter.com/download/iphone\" r...   \n1  <a href=\"http://twitter.com/download/iphone\" r...   \n2  <a href=\"http://twitter.com/download/iphone\" r...   \n3  <a href=\"http://twitter.com/download/iphone\" r...   \n4  <a href=\"http://twitter.com/download/iphone\" r...   \n\n                                                text  rating_numerator  \\\n0  This is Phineas. He's a mystical boy. Only eve...                13   \n1  This is Tilly. She's just checking pup on you....                13   \n2  This is Archie. He is a rare Norwegian Pouncin...                12   \n3  This is Darla. She commenced a snooze mid meal...                13   \n4  This is Franklin. He would like you to stop ca...                12   \n\n   rating_denominator      name doggo floofer pupper puppo  \n0                  10   Phineas  None    None   None  None  \n1                  10     Tilly  None    None   None  None  \n2                  10    Archie  None    None   None  None  \n3                  10     Darla  None    None   None  None  \n4                  10  Franklin  None    None   None  None  ",
      "text/html": "<div>\n<style scoped>\n    .dataframe tbody tr th:only-of-type {\n        vertical-align: middle;\n    }\n\n    .dataframe tbody tr th {\n        vertical-align: top;\n    }\n\n    .dataframe thead th {\n        text-align: right;\n    }\n</style>\n<table border=\"1\" class=\"dataframe\">\n  <thead>\n    <tr style=\"text-align: right;\">\n      <th></th>\n      <th>tweet_id</th>\n      <th>timestamp</th>\n      <th>source</th>\n      <th>text</th>\n      <th>rating_numerator</th>\n      <th>rating_denominator</th>\n      <th>name</th>\n      <th>doggo</th>\n      <th>floofer</th>\n      <th>pupper</th>\n      <th>puppo</th>\n    </tr>\n  </thead>\n  <tbody>\n    <tr>\n      <th>0</th>\n      <td>892420643555336193</td>\n      <td>2017-08-01 16:23:56 +0000</td>\n      <td>&lt;a href=\"http://twitter.com/download/iphone\" r...</td>\n      <td>This is Phineas. He's a mystical boy. Only eve...</td>\n      <td>13</td>\n      <td>10</td>\n      <td>Phineas</td>\n      <td>None</td>\n      <td>None</td>\n      <td>None</td>\n      <td>None</td>\n    </tr>\n    <tr>\n      <th>1</th>\n      <td>892177421306343426</td>\n      <td>2017-08-01 00:17:27 +0000</td>\n      <td>&lt;a href=\"http://twitter.com/download/iphone\" r...</td>\n      <td>This is Tilly. She's just checking pup on you....</td>\n      <td>13</td>\n      <td>10</td>\n      <td>Tilly</td>\n      <td>None</td>\n      <td>None</td>\n      <td>None</td>\n      <td>None</td>\n    </tr>\n    <tr>\n      <th>2</th>\n      <td>891815181378084864</td>\n      <td>2017-07-31 00:18:03 +0000</td>\n      <td>&lt;a href=\"http://twitter.com/download/iphone\" r...</td>\n      <td>This is Archie. He is a rare Norwegian Pouncin...</td>\n      <td>12</td>\n      <td>10</td>\n      <td>Archie</td>\n      <td>None</td>\n      <td>None</td>\n      <td>None</td>\n      <td>None</td>\n    </tr>\n    <tr>\n      <th>3</th>\n      <td>891689557279858688</td>\n      <td>2017-07-30 15:58:51 +0000</td>\n      <td>&lt;a href=\"http://twitter.com/download/iphone\" r...</td>\n      <td>This is Darla. She commenced a snooze mid meal...</td>\n      <td>13</td>\n      <td>10</td>\n      <td>Darla</td>\n      <td>None</td>\n      <td>None</td>\n      <td>None</td>\n      <td>None</td>\n    </tr>\n    <tr>\n      <th>4</th>\n      <td>891327558926688256</td>\n      <td>2017-07-29 16:00:24 +0000</td>\n      <td>&lt;a href=\"http://twitter.com/download/iphone\" r...</td>\n      <td>This is Franklin. He would like you to stop ca...</td>\n      <td>12</td>\n      <td>10</td>\n      <td>Franklin</td>\n      <td>None</td>\n      <td>None</td>\n      <td>None</td>\n      <td>None</td>\n    </tr>\n  </tbody>\n</table>\n</div>"
     },
     "execution_count": 105,
     "metadata": {},
     "output_type": "execute_result"
    }
   ],
   "source": [
    "drop_col = ['in_reply_to_status_id', 'in_reply_to_user_id', 'retweeted_status_id', 'retweeted_status_user_id','retweeted_status_timestamp', 'expanded_urls']\n",
    "drop_missing(twitter_archived_copy, drop_col, axis= 1)"
   ],
   "metadata": {
    "collapsed": false,
    "pycharm": {
     "name": "#%%\n"
    }
   }
  },
  {
   "cell_type": "markdown",
   "metadata": {},
   "source": [
    "#### Test"
   ]
  },
  {
   "cell_type": "code",
   "execution_count": 106,
   "metadata": {},
   "outputs": [
    {
     "name": "stdout",
     "output_type": "stream",
     "text": [
      "<class 'pandas.core.frame.DataFrame'>\n",
      "RangeIndex: 2356 entries, 0 to 2355\n",
      "Data columns (total 11 columns):\n",
      " #   Column              Non-Null Count  Dtype \n",
      "---  ------              --------------  ----- \n",
      " 0   tweet_id            2356 non-null   int64 \n",
      " 1   timestamp           2356 non-null   object\n",
      " 2   source              2356 non-null   object\n",
      " 3   text                2356 non-null   object\n",
      " 4   rating_numerator    2356 non-null   int64 \n",
      " 5   rating_denominator  2356 non-null   int64 \n",
      " 6   name                2356 non-null   object\n",
      " 7   doggo               2356 non-null   object\n",
      " 8   floofer             2356 non-null   object\n",
      " 9   pupper              2356 non-null   object\n",
      " 10  puppo               2356 non-null   object\n",
      "dtypes: int64(3), object(8)\n",
      "memory usage: 202.6+ KB\n"
     ]
    }
   ],
   "source": [
    "twitter_archived_copy.info()"
   ]
  },
  {
   "cell_type": "markdown",
   "metadata": {},
   "source": [
    "### Issue #2: Missing Values are present in the JSON file extracted from the Twitter API"
   ]
  },
  {
   "cell_type": "markdown",
   "metadata": {
    "collapsed": true,
    "extensions": {
     "jupyter_dashboards": {
      "version": 1,
      "views": {
       "grid_default": {
        "hidden": true
       },
       "report_default": {
        "hidden": true
       }
      }
     }
    }
   },
   "source": [
    "##### Define: The missing values present are to be dropped since the values are not easily replaced. I would use the function defined above.\n"
   ]
  },
  {
   "cell_type": "markdown",
   "metadata": {},
   "source": [
    "#### Code"
   ]
  },
  {
   "cell_type": "code",
   "execution_count": 107,
   "outputs": [
    {
     "name": "stdout",
     "output_type": "stream",
     "text": [
      "<class 'pandas.core.frame.DataFrame'>\n",
      "RangeIndex: 2354 entries, 0 to 2353\n",
      "Data columns (total 31 columns):\n",
      " #   Column                         Non-Null Count  Dtype              \n",
      "---  ------                         --------------  -----              \n",
      " 0   created_at                     2354 non-null   datetime64[ns, UTC]\n",
      " 1   id                             2354 non-null   int64              \n",
      " 2   id_str                         2354 non-null   int64              \n",
      " 3   full_text                      2354 non-null   object             \n",
      " 4   truncated                      2354 non-null   bool               \n",
      " 5   display_text_range             2354 non-null   object             \n",
      " 6   entities                       2354 non-null   object             \n",
      " 7   extended_entities              2073 non-null   object             \n",
      " 8   source                         2354 non-null   object             \n",
      " 9   in_reply_to_status_id          78 non-null     float64            \n",
      " 10  in_reply_to_status_id_str      78 non-null     float64            \n",
      " 11  in_reply_to_user_id            78 non-null     float64            \n",
      " 12  in_reply_to_user_id_str        78 non-null     float64            \n",
      " 13  in_reply_to_screen_name        78 non-null     object             \n",
      " 14  user                           2354 non-null   object             \n",
      " 15  geo                            0 non-null      float64            \n",
      " 16  coordinates                    0 non-null      float64            \n",
      " 17  place                          1 non-null      object             \n",
      " 18  contributors                   0 non-null      float64            \n",
      " 19  is_quote_status                2354 non-null   bool               \n",
      " 20  retweet_count                  2354 non-null   int64              \n",
      " 21  favorite_count                 2354 non-null   int64              \n",
      " 22  favorited                      2354 non-null   bool               \n",
      " 23  retweeted                      2354 non-null   bool               \n",
      " 24  possibly_sensitive             2211 non-null   float64            \n",
      " 25  possibly_sensitive_appealable  2211 non-null   float64            \n",
      " 26  lang                           2354 non-null   object             \n",
      " 27  retweeted_status               179 non-null    object             \n",
      " 28  quoted_status_id               29 non-null     float64            \n",
      " 29  quoted_status_id_str           29 non-null     float64            \n",
      " 30  quoted_status                  28 non-null     object             \n",
      "dtypes: bool(4), datetime64[ns, UTC](1), float64(11), int64(4), object(11)\n",
      "memory usage: 505.9+ KB\n"
     ]
    }
   ],
   "source": [
    "tweet_json.info()"
   ],
   "metadata": {
    "collapsed": false,
    "pycharm": {
     "name": "#%%\n"
    }
   }
  },
  {
   "cell_type": "code",
   "execution_count": 108,
   "outputs": [],
   "source": [
    "drop_json = ['in_reply_to_status_id', 'in_reply_to_status_id_str','in_reply_to_user_id','in_reply_to_user_id_str','in_reply_to_screen_name', 'geo','coordinates', 'retweeted_status', 'quoted_status_id', 'quoted_status_id', 'quoted_status_id_str','quoted_status']"
   ],
   "metadata": {
    "collapsed": false,
    "pycharm": {
     "name": "#%%\n"
    }
   }
  },
  {
   "cell_type": "code",
   "execution_count": 109,
   "outputs": [
    {
     "data": {
      "text/plain": "                 created_at                  id              id_str  \\\n0 2017-08-01 16:23:56+00:00  892420643555336193  892420643555336192   \n1 2017-08-01 00:17:27+00:00  892177421306343426  892177421306343424   \n2 2017-07-31 00:18:03+00:00  891815181378084864  891815181378084864   \n3 2017-07-30 15:58:51+00:00  891689557279858688  891689557279858688   \n4 2017-07-29 16:00:24+00:00  891327558926688256  891327558926688256   \n\n                                           full_text  truncated  \\\n0  This is Phineas. He's a mystical boy. Only eve...      False   \n1  This is Tilly. She's just checking pup on you....      False   \n2  This is Archie. He is a rare Norwegian Pouncin...      False   \n3  This is Darla. She commenced a snooze mid meal...      False   \n4  This is Franklin. He would like you to stop ca...      False   \n\n  display_text_range                                           entities  \\\n0            [0, 85]  {'hashtags': [], 'symbols': [], 'user_mentions...   \n1           [0, 138]  {'hashtags': [], 'symbols': [], 'user_mentions...   \n2           [0, 121]  {'hashtags': [], 'symbols': [], 'user_mentions...   \n3            [0, 79]  {'hashtags': [], 'symbols': [], 'user_mentions...   \n4           [0, 138]  {'hashtags': [{'text': 'BarkWeek', 'indices': ...   \n\n                                   extended_entities  \\\n0  {'media': [{'id': 892420639486877696, 'id_str'...   \n1  {'media': [{'id': 892177413194625024, 'id_str'...   \n2  {'media': [{'id': 891815175371796480, 'id_str'...   \n3  {'media': [{'id': 891689552724799489, 'id_str'...   \n4  {'media': [{'id': 891327551943041024, 'id_str'...   \n\n                                              source  \\\n0  <a href=\"http://twitter.com/download/iphone\" r...   \n1  <a href=\"http://twitter.com/download/iphone\" r...   \n2  <a href=\"http://twitter.com/download/iphone\" r...   \n3  <a href=\"http://twitter.com/download/iphone\" r...   \n4  <a href=\"http://twitter.com/download/iphone\" r...   \n\n                                                user place  contributors  \\\n0  {'id': 4196983835, 'id_str': '4196983835', 'na...  None           NaN   \n1  {'id': 4196983835, 'id_str': '4196983835', 'na...  None           NaN   \n2  {'id': 4196983835, 'id_str': '4196983835', 'na...  None           NaN   \n3  {'id': 4196983835, 'id_str': '4196983835', 'na...  None           NaN   \n4  {'id': 4196983835, 'id_str': '4196983835', 'na...  None           NaN   \n\n   is_quote_status  retweet_count  favorite_count  favorited  retweeted  \\\n0            False           8853           39467      False      False   \n1            False           6514           33819      False      False   \n2            False           4328           25461      False      False   \n3            False           8964           42908      False      False   \n4            False           9774           41048      False      False   \n\n   possibly_sensitive  possibly_sensitive_appealable lang  \n0                 0.0                            0.0   en  \n1                 0.0                            0.0   en  \n2                 0.0                            0.0   en  \n3                 0.0                            0.0   en  \n4                 0.0                            0.0   en  ",
      "text/html": "<div>\n<style scoped>\n    .dataframe tbody tr th:only-of-type {\n        vertical-align: middle;\n    }\n\n    .dataframe tbody tr th {\n        vertical-align: top;\n    }\n\n    .dataframe thead th {\n        text-align: right;\n    }\n</style>\n<table border=\"1\" class=\"dataframe\">\n  <thead>\n    <tr style=\"text-align: right;\">\n      <th></th>\n      <th>created_at</th>\n      <th>id</th>\n      <th>id_str</th>\n      <th>full_text</th>\n      <th>truncated</th>\n      <th>display_text_range</th>\n      <th>entities</th>\n      <th>extended_entities</th>\n      <th>source</th>\n      <th>user</th>\n      <th>place</th>\n      <th>contributors</th>\n      <th>is_quote_status</th>\n      <th>retweet_count</th>\n      <th>favorite_count</th>\n      <th>favorited</th>\n      <th>retweeted</th>\n      <th>possibly_sensitive</th>\n      <th>possibly_sensitive_appealable</th>\n      <th>lang</th>\n    </tr>\n  </thead>\n  <tbody>\n    <tr>\n      <th>0</th>\n      <td>2017-08-01 16:23:56+00:00</td>\n      <td>892420643555336193</td>\n      <td>892420643555336192</td>\n      <td>This is Phineas. He's a mystical boy. Only eve...</td>\n      <td>False</td>\n      <td>[0, 85]</td>\n      <td>{'hashtags': [], 'symbols': [], 'user_mentions...</td>\n      <td>{'media': [{'id': 892420639486877696, 'id_str'...</td>\n      <td>&lt;a href=\"http://twitter.com/download/iphone\" r...</td>\n      <td>{'id': 4196983835, 'id_str': '4196983835', 'na...</td>\n      <td>None</td>\n      <td>NaN</td>\n      <td>False</td>\n      <td>8853</td>\n      <td>39467</td>\n      <td>False</td>\n      <td>False</td>\n      <td>0.0</td>\n      <td>0.0</td>\n      <td>en</td>\n    </tr>\n    <tr>\n      <th>1</th>\n      <td>2017-08-01 00:17:27+00:00</td>\n      <td>892177421306343426</td>\n      <td>892177421306343424</td>\n      <td>This is Tilly. She's just checking pup on you....</td>\n      <td>False</td>\n      <td>[0, 138]</td>\n      <td>{'hashtags': [], 'symbols': [], 'user_mentions...</td>\n      <td>{'media': [{'id': 892177413194625024, 'id_str'...</td>\n      <td>&lt;a href=\"http://twitter.com/download/iphone\" r...</td>\n      <td>{'id': 4196983835, 'id_str': '4196983835', 'na...</td>\n      <td>None</td>\n      <td>NaN</td>\n      <td>False</td>\n      <td>6514</td>\n      <td>33819</td>\n      <td>False</td>\n      <td>False</td>\n      <td>0.0</td>\n      <td>0.0</td>\n      <td>en</td>\n    </tr>\n    <tr>\n      <th>2</th>\n      <td>2017-07-31 00:18:03+00:00</td>\n      <td>891815181378084864</td>\n      <td>891815181378084864</td>\n      <td>This is Archie. He is a rare Norwegian Pouncin...</td>\n      <td>False</td>\n      <td>[0, 121]</td>\n      <td>{'hashtags': [], 'symbols': [], 'user_mentions...</td>\n      <td>{'media': [{'id': 891815175371796480, 'id_str'...</td>\n      <td>&lt;a href=\"http://twitter.com/download/iphone\" r...</td>\n      <td>{'id': 4196983835, 'id_str': '4196983835', 'na...</td>\n      <td>None</td>\n      <td>NaN</td>\n      <td>False</td>\n      <td>4328</td>\n      <td>25461</td>\n      <td>False</td>\n      <td>False</td>\n      <td>0.0</td>\n      <td>0.0</td>\n      <td>en</td>\n    </tr>\n    <tr>\n      <th>3</th>\n      <td>2017-07-30 15:58:51+00:00</td>\n      <td>891689557279858688</td>\n      <td>891689557279858688</td>\n      <td>This is Darla. She commenced a snooze mid meal...</td>\n      <td>False</td>\n      <td>[0, 79]</td>\n      <td>{'hashtags': [], 'symbols': [], 'user_mentions...</td>\n      <td>{'media': [{'id': 891689552724799489, 'id_str'...</td>\n      <td>&lt;a href=\"http://twitter.com/download/iphone\" r...</td>\n      <td>{'id': 4196983835, 'id_str': '4196983835', 'na...</td>\n      <td>None</td>\n      <td>NaN</td>\n      <td>False</td>\n      <td>8964</td>\n      <td>42908</td>\n      <td>False</td>\n      <td>False</td>\n      <td>0.0</td>\n      <td>0.0</td>\n      <td>en</td>\n    </tr>\n    <tr>\n      <th>4</th>\n      <td>2017-07-29 16:00:24+00:00</td>\n      <td>891327558926688256</td>\n      <td>891327558926688256</td>\n      <td>This is Franklin. He would like you to stop ca...</td>\n      <td>False</td>\n      <td>[0, 138]</td>\n      <td>{'hashtags': [{'text': 'BarkWeek', 'indices': ...</td>\n      <td>{'media': [{'id': 891327551943041024, 'id_str'...</td>\n      <td>&lt;a href=\"http://twitter.com/download/iphone\" r...</td>\n      <td>{'id': 4196983835, 'id_str': '4196983835', 'na...</td>\n      <td>None</td>\n      <td>NaN</td>\n      <td>False</td>\n      <td>9774</td>\n      <td>41048</td>\n      <td>False</td>\n      <td>False</td>\n      <td>0.0</td>\n      <td>0.0</td>\n      <td>en</td>\n    </tr>\n  </tbody>\n</table>\n</div>"
     },
     "execution_count": 109,
     "metadata": {},
     "output_type": "execute_result"
    }
   ],
   "source": [
    "drop_missing(df= tweet_json_copy, lists=drop_json, axis= 1)"
   ],
   "metadata": {
    "collapsed": false,
    "pycharm": {
     "name": "#%%\n"
    }
   }
  },
  {
   "cell_type": "markdown",
   "metadata": {},
   "source": [
    "#### Test"
   ]
  },
  {
   "cell_type": "code",
   "execution_count": 110,
   "metadata": {},
   "outputs": [
    {
     "data": {
      "text/plain": "                 created_at                  id              id_str  \\\n0 2017-08-01 16:23:56+00:00  892420643555336193  892420643555336192   \n1 2017-08-01 00:17:27+00:00  892177421306343426  892177421306343424   \n2 2017-07-31 00:18:03+00:00  891815181378084864  891815181378084864   \n3 2017-07-30 15:58:51+00:00  891689557279858688  891689557279858688   \n4 2017-07-29 16:00:24+00:00  891327558926688256  891327558926688256   \n\n                                           full_text  truncated  \\\n0  This is Phineas. He's a mystical boy. Only eve...      False   \n1  This is Tilly. She's just checking pup on you....      False   \n2  This is Archie. He is a rare Norwegian Pouncin...      False   \n3  This is Darla. She commenced a snooze mid meal...      False   \n4  This is Franklin. He would like you to stop ca...      False   \n\n  display_text_range                                           entities  \\\n0            [0, 85]  {'hashtags': [], 'symbols': [], 'user_mentions...   \n1           [0, 138]  {'hashtags': [], 'symbols': [], 'user_mentions...   \n2           [0, 121]  {'hashtags': [], 'symbols': [], 'user_mentions...   \n3            [0, 79]  {'hashtags': [], 'symbols': [], 'user_mentions...   \n4           [0, 138]  {'hashtags': [{'text': 'BarkWeek', 'indices': ...   \n\n                                   extended_entities  \\\n0  {'media': [{'id': 892420639486877696, 'id_str'...   \n1  {'media': [{'id': 892177413194625024, 'id_str'...   \n2  {'media': [{'id': 891815175371796480, 'id_str'...   \n3  {'media': [{'id': 891689552724799489, 'id_str'...   \n4  {'media': [{'id': 891327551943041024, 'id_str'...   \n\n                                              source  \\\n0  <a href=\"http://twitter.com/download/iphone\" r...   \n1  <a href=\"http://twitter.com/download/iphone\" r...   \n2  <a href=\"http://twitter.com/download/iphone\" r...   \n3  <a href=\"http://twitter.com/download/iphone\" r...   \n4  <a href=\"http://twitter.com/download/iphone\" r...   \n\n                                                user place  contributors  \\\n0  {'id': 4196983835, 'id_str': '4196983835', 'na...  None           NaN   \n1  {'id': 4196983835, 'id_str': '4196983835', 'na...  None           NaN   \n2  {'id': 4196983835, 'id_str': '4196983835', 'na...  None           NaN   \n3  {'id': 4196983835, 'id_str': '4196983835', 'na...  None           NaN   \n4  {'id': 4196983835, 'id_str': '4196983835', 'na...  None           NaN   \n\n   is_quote_status  retweet_count  favorite_count  favorited  retweeted  \\\n0            False           8853           39467      False      False   \n1            False           6514           33819      False      False   \n2            False           4328           25461      False      False   \n3            False           8964           42908      False      False   \n4            False           9774           41048      False      False   \n\n   possibly_sensitive  possibly_sensitive_appealable lang  \n0                 0.0                            0.0   en  \n1                 0.0                            0.0   en  \n2                 0.0                            0.0   en  \n3                 0.0                            0.0   en  \n4                 0.0                            0.0   en  ",
      "text/html": "<div>\n<style scoped>\n    .dataframe tbody tr th:only-of-type {\n        vertical-align: middle;\n    }\n\n    .dataframe tbody tr th {\n        vertical-align: top;\n    }\n\n    .dataframe thead th {\n        text-align: right;\n    }\n</style>\n<table border=\"1\" class=\"dataframe\">\n  <thead>\n    <tr style=\"text-align: right;\">\n      <th></th>\n      <th>created_at</th>\n      <th>id</th>\n      <th>id_str</th>\n      <th>full_text</th>\n      <th>truncated</th>\n      <th>display_text_range</th>\n      <th>entities</th>\n      <th>extended_entities</th>\n      <th>source</th>\n      <th>user</th>\n      <th>place</th>\n      <th>contributors</th>\n      <th>is_quote_status</th>\n      <th>retweet_count</th>\n      <th>favorite_count</th>\n      <th>favorited</th>\n      <th>retweeted</th>\n      <th>possibly_sensitive</th>\n      <th>possibly_sensitive_appealable</th>\n      <th>lang</th>\n    </tr>\n  </thead>\n  <tbody>\n    <tr>\n      <th>0</th>\n      <td>2017-08-01 16:23:56+00:00</td>\n      <td>892420643555336193</td>\n      <td>892420643555336192</td>\n      <td>This is Phineas. He's a mystical boy. Only eve...</td>\n      <td>False</td>\n      <td>[0, 85]</td>\n      <td>{'hashtags': [], 'symbols': [], 'user_mentions...</td>\n      <td>{'media': [{'id': 892420639486877696, 'id_str'...</td>\n      <td>&lt;a href=\"http://twitter.com/download/iphone\" r...</td>\n      <td>{'id': 4196983835, 'id_str': '4196983835', 'na...</td>\n      <td>None</td>\n      <td>NaN</td>\n      <td>False</td>\n      <td>8853</td>\n      <td>39467</td>\n      <td>False</td>\n      <td>False</td>\n      <td>0.0</td>\n      <td>0.0</td>\n      <td>en</td>\n    </tr>\n    <tr>\n      <th>1</th>\n      <td>2017-08-01 00:17:27+00:00</td>\n      <td>892177421306343426</td>\n      <td>892177421306343424</td>\n      <td>This is Tilly. She's just checking pup on you....</td>\n      <td>False</td>\n      <td>[0, 138]</td>\n      <td>{'hashtags': [], 'symbols': [], 'user_mentions...</td>\n      <td>{'media': [{'id': 892177413194625024, 'id_str'...</td>\n      <td>&lt;a href=\"http://twitter.com/download/iphone\" r...</td>\n      <td>{'id': 4196983835, 'id_str': '4196983835', 'na...</td>\n      <td>None</td>\n      <td>NaN</td>\n      <td>False</td>\n      <td>6514</td>\n      <td>33819</td>\n      <td>False</td>\n      <td>False</td>\n      <td>0.0</td>\n      <td>0.0</td>\n      <td>en</td>\n    </tr>\n    <tr>\n      <th>2</th>\n      <td>2017-07-31 00:18:03+00:00</td>\n      <td>891815181378084864</td>\n      <td>891815181378084864</td>\n      <td>This is Archie. He is a rare Norwegian Pouncin...</td>\n      <td>False</td>\n      <td>[0, 121]</td>\n      <td>{'hashtags': [], 'symbols': [], 'user_mentions...</td>\n      <td>{'media': [{'id': 891815175371796480, 'id_str'...</td>\n      <td>&lt;a href=\"http://twitter.com/download/iphone\" r...</td>\n      <td>{'id': 4196983835, 'id_str': '4196983835', 'na...</td>\n      <td>None</td>\n      <td>NaN</td>\n      <td>False</td>\n      <td>4328</td>\n      <td>25461</td>\n      <td>False</td>\n      <td>False</td>\n      <td>0.0</td>\n      <td>0.0</td>\n      <td>en</td>\n    </tr>\n    <tr>\n      <th>3</th>\n      <td>2017-07-30 15:58:51+00:00</td>\n      <td>891689557279858688</td>\n      <td>891689557279858688</td>\n      <td>This is Darla. She commenced a snooze mid meal...</td>\n      <td>False</td>\n      <td>[0, 79]</td>\n      <td>{'hashtags': [], 'symbols': [], 'user_mentions...</td>\n      <td>{'media': [{'id': 891689552724799489, 'id_str'...</td>\n      <td>&lt;a href=\"http://twitter.com/download/iphone\" r...</td>\n      <td>{'id': 4196983835, 'id_str': '4196983835', 'na...</td>\n      <td>None</td>\n      <td>NaN</td>\n      <td>False</td>\n      <td>8964</td>\n      <td>42908</td>\n      <td>False</td>\n      <td>False</td>\n      <td>0.0</td>\n      <td>0.0</td>\n      <td>en</td>\n    </tr>\n    <tr>\n      <th>4</th>\n      <td>2017-07-29 16:00:24+00:00</td>\n      <td>891327558926688256</td>\n      <td>891327558926688256</td>\n      <td>This is Franklin. He would like you to stop ca...</td>\n      <td>False</td>\n      <td>[0, 138]</td>\n      <td>{'hashtags': [{'text': 'BarkWeek', 'indices': ...</td>\n      <td>{'media': [{'id': 891327551943041024, 'id_str'...</td>\n      <td>&lt;a href=\"http://twitter.com/download/iphone\" r...</td>\n      <td>{'id': 4196983835, 'id_str': '4196983835', 'na...</td>\n      <td>None</td>\n      <td>NaN</td>\n      <td>False</td>\n      <td>9774</td>\n      <td>41048</td>\n      <td>False</td>\n      <td>False</td>\n      <td>0.0</td>\n      <td>0.0</td>\n      <td>en</td>\n    </tr>\n  </tbody>\n</table>\n</div>"
     },
     "execution_count": 110,
     "metadata": {},
     "output_type": "execute_result"
    }
   ],
   "source": [
    "tweet_json_copy.head()"
   ]
  },
  {
   "cell_type": "markdown",
   "source": [
    "#### Issue 3: Wrong datatypes."
   ],
   "metadata": {
    "collapsed": false,
    "pycharm": {
     "name": "#%% md\n"
    }
   }
  },
  {
   "cell_type": "markdown",
   "source": [
    "##### Define: Some columns present in the tweet_json dataset have a wrong datatype. I would go ahead to change the datatype of this columns"
   ],
   "metadata": {
    "collapsed": false,
    "pycharm": {
     "name": "#%% md\n"
    }
   }
  },
  {
   "cell_type": "markdown",
   "source": [
    "#### Code"
   ],
   "metadata": {
    "collapsed": false,
    "pycharm": {
     "name": "#%% md\n"
    }
   }
  },
  {
   "cell_type": "code",
   "execution_count": 111,
   "outputs": [],
   "source": [
    "def change_type(df, col, dtype):\n",
    "    df[col] = df[col].astype(str(dtype))\n",
    "    return df.info()"
   ],
   "metadata": {
    "collapsed": false,
    "pycharm": {
     "name": "#%%\n"
    }
   }
  },
  {
   "cell_type": "code",
   "execution_count": 112,
   "outputs": [
    {
     "name": "stdout",
     "output_type": "stream",
     "text": [
      "<class 'pandas.core.frame.DataFrame'>\n",
      "RangeIndex: 2354 entries, 0 to 2353\n",
      "Data columns (total 20 columns):\n",
      " #   Column                         Non-Null Count  Dtype              \n",
      "---  ------                         --------------  -----              \n",
      " 0   created_at                     2354 non-null   datetime64[ns, UTC]\n",
      " 1   id                             2354 non-null   int64              \n",
      " 2   id_str                         2354 non-null   object             \n",
      " 3   full_text                      2354 non-null   object             \n",
      " 4   truncated                      2354 non-null   bool               \n",
      " 5   display_text_range             2354 non-null   object             \n",
      " 6   entities                       2354 non-null   object             \n",
      " 7   extended_entities              2073 non-null   object             \n",
      " 8   source                         2354 non-null   object             \n",
      " 9   user                           2354 non-null   object             \n",
      " 10  place                          1 non-null      object             \n",
      " 11  contributors                   0 non-null      float64            \n",
      " 12  is_quote_status                2354 non-null   bool               \n",
      " 13  retweet_count                  2354 non-null   int64              \n",
      " 14  favorite_count                 2354 non-null   int64              \n",
      " 15  favorited                      2354 non-null   bool               \n",
      " 16  retweeted                      2354 non-null   bool               \n",
      " 17  possibly_sensitive             2211 non-null   float64            \n",
      " 18  possibly_sensitive_appealable  2211 non-null   float64            \n",
      " 19  lang                           2354 non-null   object             \n",
      "dtypes: bool(4), datetime64[ns, UTC](1), float64(3), int64(3), object(9)\n",
      "memory usage: 303.6+ KB\n"
     ]
    }
   ],
   "source": [
    "cols  = ['id_str']\n",
    "change_type(df= tweet_json_copy, col= cols, dtype= 'str')"
   ],
   "metadata": {
    "collapsed": false,
    "pycharm": {
     "name": "#%%\n"
    }
   }
  },
  {
   "cell_type": "markdown",
   "metadata": {},
   "source": [
    "<a id = 'storing'></a>\n",
    "\n",
    "## Storing Data\n",
    "Save gathered, assessed, and cleaned master dataset to a CSV file named \"twitter_archive_master.csv\". First, the id column name is changed so all the datasets have an id column. Then, the three individual datasets are merged into a single CSV file named \"twitter_archive_master.csv\"."
   ]
  },
  {
   "cell_type": "code",
   "execution_count": 113,
   "outputs": [],
   "source": [
    "twitter_archived_copy.rename(columns={'tweet_id': 'id'}, inplace= True)"
   ],
   "metadata": {
    "collapsed": false,
    "pycharm": {
     "name": "#%%\n"
    }
   }
  },
  {
   "cell_type": "code",
   "execution_count": 114,
   "outputs": [
    {
     "name": "stdout",
     "output_type": "stream",
     "text": [
      "<class 'pandas.core.frame.DataFrame'>\n",
      "RangeIndex: 2356 entries, 0 to 2355\n",
      "Data columns (total 11 columns):\n",
      " #   Column              Non-Null Count  Dtype \n",
      "---  ------              --------------  ----- \n",
      " 0   id                  2356 non-null   int64 \n",
      " 1   timestamp           2356 non-null   object\n",
      " 2   source              2356 non-null   object\n",
      " 3   text                2356 non-null   object\n",
      " 4   rating_numerator    2356 non-null   int64 \n",
      " 5   rating_denominator  2356 non-null   int64 \n",
      " 6   name                2356 non-null   object\n",
      " 7   doggo               2356 non-null   object\n",
      " 8   floofer             2356 non-null   object\n",
      " 9   pupper              2356 non-null   object\n",
      " 10  puppo               2356 non-null   object\n",
      "dtypes: int64(3), object(8)\n",
      "memory usage: 202.6+ KB\n"
     ]
    }
   ],
   "source": [
    "twitter_archived_copy.info()"
   ],
   "metadata": {
    "collapsed": false,
    "pycharm": {
     "name": "#%%\n"
    }
   }
  },
  {
   "cell_type": "code",
   "execution_count": 115,
   "metadata": {},
   "outputs": [],
   "source": [
    "merged_twitter = pd.merge(left= twitter_archived_copy, right= tweet_json_copy, left_on= 'id', right_on= 'id')"
   ]
  },
  {
   "cell_type": "code",
   "execution_count": 116,
   "outputs": [],
   "source": [
    "image_pred_copy.rename(columns = {'tweet_id': 'id'}, inplace = True)"
   ],
   "metadata": {
    "collapsed": false,
    "pycharm": {
     "name": "#%%\n"
    }
   }
  },
  {
   "cell_type": "code",
   "execution_count": 117,
   "outputs": [],
   "source": [
    "merged_comp = pd.merge(left= merged_twitter,right= image_pred_copy, left_on= 'id', right_on= 'id')"
   ],
   "metadata": {
    "collapsed": false,
    "pycharm": {
     "name": "#%%\n"
    }
   }
  },
  {
   "cell_type": "code",
   "execution_count": 118,
   "outputs": [
    {
     "name": "stdout",
     "output_type": "stream",
     "text": [
      "<class 'pandas.core.frame.DataFrame'>\n",
      "Int64Index: 2073 entries, 0 to 2072\n",
      "Data columns (total 41 columns):\n",
      " #   Column                         Non-Null Count  Dtype              \n",
      "---  ------                         --------------  -----              \n",
      " 0   id                             2073 non-null   int64              \n",
      " 1   timestamp                      2073 non-null   object             \n",
      " 2   source_x                       2073 non-null   object             \n",
      " 3   text                           2073 non-null   object             \n",
      " 4   rating_numerator               2073 non-null   int64              \n",
      " 5   rating_denominator             2073 non-null   int64              \n",
      " 6   name                           2073 non-null   object             \n",
      " 7   doggo                          2073 non-null   object             \n",
      " 8   floofer                        2073 non-null   object             \n",
      " 9   pupper                         2073 non-null   object             \n",
      " 10  puppo                          2073 non-null   object             \n",
      " 11  created_at                     2073 non-null   datetime64[ns, UTC]\n",
      " 12  id_str                         2073 non-null   object             \n",
      " 13  full_text                      2073 non-null   object             \n",
      " 14  truncated                      2073 non-null   bool               \n",
      " 15  display_text_range             2073 non-null   object             \n",
      " 16  entities                       2073 non-null   object             \n",
      " 17  extended_entities              2073 non-null   object             \n",
      " 18  source_y                       2073 non-null   object             \n",
      " 19  user                           2073 non-null   object             \n",
      " 20  place                          1 non-null      object             \n",
      " 21  contributors                   0 non-null      float64            \n",
      " 22  is_quote_status                2073 non-null   bool               \n",
      " 23  retweet_count                  2073 non-null   int64              \n",
      " 24  favorite_count                 2073 non-null   int64              \n",
      " 25  favorited                      2073 non-null   bool               \n",
      " 26  retweeted                      2073 non-null   bool               \n",
      " 27  possibly_sensitive             2073 non-null   float64            \n",
      " 28  possibly_sensitive_appealable  2073 non-null   float64            \n",
      " 29  lang                           2073 non-null   object             \n",
      " 30  jpg_url                        2073 non-null   object             \n",
      " 31  img_num                        2073 non-null   int64              \n",
      " 32  p1                             2073 non-null   object             \n",
      " 33  p1_conf                        2073 non-null   float64            \n",
      " 34  p1_dog                         2073 non-null   bool               \n",
      " 35  p2                             2073 non-null   object             \n",
      " 36  p2_conf                        2073 non-null   float64            \n",
      " 37  p2_dog                         2073 non-null   bool               \n",
      " 38  p3                             2073 non-null   object             \n",
      " 39  p3_conf                        2073 non-null   float64            \n",
      " 40  p3_dog                         2073 non-null   bool               \n",
      "dtypes: bool(7), datetime64[ns, UTC](1), float64(6), int64(6), object(21)\n",
      "memory usage: 581.0+ KB\n"
     ]
    }
   ],
   "source": [
    "merged_comp.info()"
   ],
   "metadata": {
    "collapsed": false,
    "pycharm": {
     "name": "#%%\n"
    }
   }
  },
  {
   "cell_type": "code",
   "execution_count": 119,
   "outputs": [
    {
     "data": {
      "text/plain": "                   id                  timestamp  \\\n0  892420643555336193  2017-08-01 16:23:56 +0000   \n1  892177421306343426  2017-08-01 00:17:27 +0000   \n2  891815181378084864  2017-07-31 00:18:03 +0000   \n3  891689557279858688  2017-07-30 15:58:51 +0000   \n4  891327558926688256  2017-07-29 16:00:24 +0000   \n\n                                            source_x  \\\n0  <a href=\"http://twitter.com/download/iphone\" r...   \n1  <a href=\"http://twitter.com/download/iphone\" r...   \n2  <a href=\"http://twitter.com/download/iphone\" r...   \n3  <a href=\"http://twitter.com/download/iphone\" r...   \n4  <a href=\"http://twitter.com/download/iphone\" r...   \n\n                                                text  rating_numerator  \\\n0  This is Phineas. He's a mystical boy. Only eve...                13   \n1  This is Tilly. She's just checking pup on you....                13   \n2  This is Archie. He is a rare Norwegian Pouncin...                12   \n3  This is Darla. She commenced a snooze mid meal...                13   \n4  This is Franklin. He would like you to stop ca...                12   \n\n   rating_denominator      name doggo floofer pupper  ... img_num  \\\n0                  10   Phineas  None    None   None  ...       1   \n1                  10     Tilly  None    None   None  ...       1   \n2                  10    Archie  None    None   None  ...       1   \n3                  10     Darla  None    None   None  ...       1   \n4                  10  Franklin  None    None   None  ...       2   \n\n            p1   p1_conf p1_dog                  p2   p2_conf p2_dog  \\\n0       orange  0.097049  False               bagel  0.085851  False   \n1    Chihuahua  0.323581   True            Pekinese  0.090647   True   \n2    Chihuahua  0.716012   True            malamute  0.078253   True   \n3  paper_towel  0.170278  False  Labrador_retriever  0.168086   True   \n4       basset  0.555712   True    English_springer  0.225770   True   \n\n                            p3   p3_conf p3_dog  \n0                       banana  0.076110  False  \n1                     papillon  0.068957   True  \n2                       kelpie  0.031379   True  \n3                      spatula  0.040836  False  \n4  German_short-haired_pointer  0.175219   True  \n\n[5 rows x 39 columns]",
      "text/html": "<div>\n<style scoped>\n    .dataframe tbody tr th:only-of-type {\n        vertical-align: middle;\n    }\n\n    .dataframe tbody tr th {\n        vertical-align: top;\n    }\n\n    .dataframe thead th {\n        text-align: right;\n    }\n</style>\n<table border=\"1\" class=\"dataframe\">\n  <thead>\n    <tr style=\"text-align: right;\">\n      <th></th>\n      <th>id</th>\n      <th>timestamp</th>\n      <th>source_x</th>\n      <th>text</th>\n      <th>rating_numerator</th>\n      <th>rating_denominator</th>\n      <th>name</th>\n      <th>doggo</th>\n      <th>floofer</th>\n      <th>pupper</th>\n      <th>...</th>\n      <th>img_num</th>\n      <th>p1</th>\n      <th>p1_conf</th>\n      <th>p1_dog</th>\n      <th>p2</th>\n      <th>p2_conf</th>\n      <th>p2_dog</th>\n      <th>p3</th>\n      <th>p3_conf</th>\n      <th>p3_dog</th>\n    </tr>\n  </thead>\n  <tbody>\n    <tr>\n      <th>0</th>\n      <td>892420643555336193</td>\n      <td>2017-08-01 16:23:56 +0000</td>\n      <td>&lt;a href=\"http://twitter.com/download/iphone\" r...</td>\n      <td>This is Phineas. He's a mystical boy. Only eve...</td>\n      <td>13</td>\n      <td>10</td>\n      <td>Phineas</td>\n      <td>None</td>\n      <td>None</td>\n      <td>None</td>\n      <td>...</td>\n      <td>1</td>\n      <td>orange</td>\n      <td>0.097049</td>\n      <td>False</td>\n      <td>bagel</td>\n      <td>0.085851</td>\n      <td>False</td>\n      <td>banana</td>\n      <td>0.076110</td>\n      <td>False</td>\n    </tr>\n    <tr>\n      <th>1</th>\n      <td>892177421306343426</td>\n      <td>2017-08-01 00:17:27 +0000</td>\n      <td>&lt;a href=\"http://twitter.com/download/iphone\" r...</td>\n      <td>This is Tilly. She's just checking pup on you....</td>\n      <td>13</td>\n      <td>10</td>\n      <td>Tilly</td>\n      <td>None</td>\n      <td>None</td>\n      <td>None</td>\n      <td>...</td>\n      <td>1</td>\n      <td>Chihuahua</td>\n      <td>0.323581</td>\n      <td>True</td>\n      <td>Pekinese</td>\n      <td>0.090647</td>\n      <td>True</td>\n      <td>papillon</td>\n      <td>0.068957</td>\n      <td>True</td>\n    </tr>\n    <tr>\n      <th>2</th>\n      <td>891815181378084864</td>\n      <td>2017-07-31 00:18:03 +0000</td>\n      <td>&lt;a href=\"http://twitter.com/download/iphone\" r...</td>\n      <td>This is Archie. He is a rare Norwegian Pouncin...</td>\n      <td>12</td>\n      <td>10</td>\n      <td>Archie</td>\n      <td>None</td>\n      <td>None</td>\n      <td>None</td>\n      <td>...</td>\n      <td>1</td>\n      <td>Chihuahua</td>\n      <td>0.716012</td>\n      <td>True</td>\n      <td>malamute</td>\n      <td>0.078253</td>\n      <td>True</td>\n      <td>kelpie</td>\n      <td>0.031379</td>\n      <td>True</td>\n    </tr>\n    <tr>\n      <th>3</th>\n      <td>891689557279858688</td>\n      <td>2017-07-30 15:58:51 +0000</td>\n      <td>&lt;a href=\"http://twitter.com/download/iphone\" r...</td>\n      <td>This is Darla. She commenced a snooze mid meal...</td>\n      <td>13</td>\n      <td>10</td>\n      <td>Darla</td>\n      <td>None</td>\n      <td>None</td>\n      <td>None</td>\n      <td>...</td>\n      <td>1</td>\n      <td>paper_towel</td>\n      <td>0.170278</td>\n      <td>False</td>\n      <td>Labrador_retriever</td>\n      <td>0.168086</td>\n      <td>True</td>\n      <td>spatula</td>\n      <td>0.040836</td>\n      <td>False</td>\n    </tr>\n    <tr>\n      <th>4</th>\n      <td>891327558926688256</td>\n      <td>2017-07-29 16:00:24 +0000</td>\n      <td>&lt;a href=\"http://twitter.com/download/iphone\" r...</td>\n      <td>This is Franklin. He would like you to stop ca...</td>\n      <td>12</td>\n      <td>10</td>\n      <td>Franklin</td>\n      <td>None</td>\n      <td>None</td>\n      <td>None</td>\n      <td>...</td>\n      <td>2</td>\n      <td>basset</td>\n      <td>0.555712</td>\n      <td>True</td>\n      <td>English_springer</td>\n      <td>0.225770</td>\n      <td>True</td>\n      <td>German_short-haired_pointer</td>\n      <td>0.175219</td>\n      <td>True</td>\n    </tr>\n  </tbody>\n</table>\n<p>5 rows × 39 columns</p>\n</div>"
     },
     "execution_count": 119,
     "metadata": {},
     "output_type": "execute_result"
    }
   ],
   "source": [
    "miss_comp = ['place', 'contributors']\n",
    "drop_missing(df= merged_comp, lists= miss_comp, axis= 1)"
   ],
   "metadata": {
    "collapsed": false,
    "pycharm": {
     "name": "#%%\n"
    }
   }
  },
  {
   "cell_type": "code",
   "execution_count": 120,
   "outputs": [
    {
     "name": "stdout",
     "output_type": "stream",
     "text": [
      "<class 'pandas.core.frame.DataFrame'>\n",
      "Int64Index: 2073 entries, 0 to 2072\n",
      "Data columns (total 39 columns):\n",
      " #   Column                         Non-Null Count  Dtype              \n",
      "---  ------                         --------------  -----              \n",
      " 0   id                             2073 non-null   int64              \n",
      " 1   timestamp                      2073 non-null   object             \n",
      " 2   source_x                       2073 non-null   object             \n",
      " 3   text                           2073 non-null   object             \n",
      " 4   rating_numerator               2073 non-null   int64              \n",
      " 5   rating_denominator             2073 non-null   int64              \n",
      " 6   name                           2073 non-null   object             \n",
      " 7   doggo                          2073 non-null   object             \n",
      " 8   floofer                        2073 non-null   object             \n",
      " 9   pupper                         2073 non-null   object             \n",
      " 10  puppo                          2073 non-null   object             \n",
      " 11  created_at                     2073 non-null   datetime64[ns, UTC]\n",
      " 12  id_str                         2073 non-null   object             \n",
      " 13  full_text                      2073 non-null   object             \n",
      " 14  truncated                      2073 non-null   bool               \n",
      " 15  display_text_range             2073 non-null   object             \n",
      " 16  entities                       2073 non-null   object             \n",
      " 17  extended_entities              2073 non-null   object             \n",
      " 18  source_y                       2073 non-null   object             \n",
      " 19  user                           2073 non-null   object             \n",
      " 20  is_quote_status                2073 non-null   bool               \n",
      " 21  retweet_count                  2073 non-null   int64              \n",
      " 22  favorite_count                 2073 non-null   int64              \n",
      " 23  favorited                      2073 non-null   bool               \n",
      " 24  retweeted                      2073 non-null   bool               \n",
      " 25  possibly_sensitive             2073 non-null   float64            \n",
      " 26  possibly_sensitive_appealable  2073 non-null   float64            \n",
      " 27  lang                           2073 non-null   object             \n",
      " 28  jpg_url                        2073 non-null   object             \n",
      " 29  img_num                        2073 non-null   int64              \n",
      " 30  p1                             2073 non-null   object             \n",
      " 31  p1_conf                        2073 non-null   float64            \n",
      " 32  p1_dog                         2073 non-null   bool               \n",
      " 33  p2                             2073 non-null   object             \n",
      " 34  p2_conf                        2073 non-null   float64            \n",
      " 35  p2_dog                         2073 non-null   bool               \n",
      " 36  p3                             2073 non-null   object             \n",
      " 37  p3_conf                        2073 non-null   float64            \n",
      " 38  p3_dog                         2073 non-null   bool               \n",
      "dtypes: bool(7), datetime64[ns, UTC](1), float64(5), int64(6), object(20)\n",
      "memory usage: 548.6+ KB\n"
     ]
    }
   ],
   "source": [
    "merged_comp.info()"
   ],
   "metadata": {
    "collapsed": false,
    "pycharm": {
     "name": "#%%\n"
    }
   }
  },
  {
   "cell_type": "code",
   "execution_count": 65,
   "outputs": [],
   "source": [
    "merged_comp.to_csv('twitter_archive_master.csv', index= False, header=False)"
   ],
   "metadata": {
    "collapsed": false,
    "pycharm": {
     "name": "#%%\n"
    }
   }
  },
  {
   "cell_type": "markdown",
   "source": [
    "<a id= 'analysis'></a>\n",
    "## Analyzing and Visualizing Data\n",
    "\n",
    "From the dataset gotten,we would carry out an analysis on the dataset and draw out some interesting insights and also give necessary visualization when needed."
   ],
   "metadata": {
    "collapsed": false
   }
  },
  {
   "cell_type": "markdown",
   "metadata": {},
   "source": [
    "### Insights:\n",
    "Answers to the following questions would be drawn by programmatically analyzing the data. Different methods and functions provided in pandas would be used to draw out major conclusions and insights.\n",
    "\n",
    "The following questions would be dealt with moving forward.\n",
    "\n",
    "1. What are the top 5 most liked posts?\n",
    "\n",
    "2. What type of dog appeared the most?\n",
    "\n",
    "3. What are the most retweeted post?\n",
    "\n"
   ]
  },
  {
   "cell_type": "markdown",
   "source": [
    "#### Question 1: What are the top 5 most liked posts?\n",
    "<p> Posts which people love a lot earn more likes than those that are not their favorite. The top 5 favorite posts are the posts with the most favorite count. To get the top 5 liked posts, we simply check out the post wih the highest favorite score. </p>\n"
   ],
   "metadata": {
    "collapsed": false,
    "pycharm": {
     "name": "#%% md\n"
    }
   }
  },
  {
   "cell_type": "code",
   "execution_count": 66,
   "metadata": {},
   "outputs": [],
   "source": [
    "desc_fav = merged_comp.sort_values('favorite_count', ascending= False)"
   ]
  },
  {
   "cell_type": "code",
   "execution_count": 67,
   "outputs": [],
   "source": [
    "fav_group = desc_fav.head(5)"
   ],
   "metadata": {
    "collapsed": false,
    "pycharm": {
     "name": "#%%\n"
    }
   }
  },
  {
   "cell_type": "code",
   "execution_count": 68,
   "outputs": [
    {
     "data": {
      "text/plain": "                     id                  timestamp  \\\n329  822872901745569793  2017-01-21 18:26:02 +0000   \n851  744234799360020481  2016-06-18 18:26:18 +0000   \n59   879415818425184262  2017-06-26 19:07:24 +0000   \n432  807106840509214720  2016-12-09 06:17:20 +0000   \n112  866450705531457537  2017-05-22 00:28:40 +0000   \n\n                                              source_x  \\\n329  <a href=\"http://twitter.com/download/iphone\" r...   \n851  <a href=\"http://twitter.com/download/iphone\" r...   \n59   <a href=\"http://twitter.com/download/iphone\" r...   \n432  <a href=\"http://twitter.com/download/iphone\" r...   \n112  <a href=\"http://twitter.com/download/iphone\" r...   \n\n                                                  text  rating_numerator  \\\n329  Here's a super supportive puppo participating ...                13   \n851  Here's a doggo realizing you can stand in a po...                13   \n59   This is Duddles. He did an attempt. 13/10 some...                13   \n432  This is Stephan. He just wants to help. 13/10 ...                13   \n112  This is Jamesy. He gives a kiss to every other...                13   \n\n     rating_denominator     name  doggo floofer  pupper  ... img_num  \\\n329                  10     None   None    None    None  ...       1   \n851                  10     None  doggo    None    None  ...       1   \n59                   10  Duddles   None    None    None  ...       1   \n432                  10  Stephan   None    None    None  ...       1   \n112                  10   Jamesy   None    None  pupper  ...       2   \n\n                     p1   p1_conf p1_dog                  p2   p2_conf p2_dog  \\\n329    Lakeland_terrier  0.196015   True  Labrador_retriever  0.160329   True   \n851  Labrador_retriever  0.825333   True            ice_bear  0.044681  False   \n59     English_springer  0.383404   True         Boston_bull  0.134967   True   \n432           Chihuahua  0.505370   True          Pomeranian  0.120358   True   \n112      French_bulldog  0.905334   True         Boston_bull  0.078060   True   \n\n                p3   p3_conf p3_dog  \n329  Irish_terrier  0.069126   True  \n851        whippet  0.018442   True  \n59        Cardigan  0.110481   True  \n432    toy_terrier  0.077008   True  \n112            pug  0.001771   True  \n\n[5 rows x 39 columns]",
      "text/html": "<div>\n<style scoped>\n    .dataframe tbody tr th:only-of-type {\n        vertical-align: middle;\n    }\n\n    .dataframe tbody tr th {\n        vertical-align: top;\n    }\n\n    .dataframe thead th {\n        text-align: right;\n    }\n</style>\n<table border=\"1\" class=\"dataframe\">\n  <thead>\n    <tr style=\"text-align: right;\">\n      <th></th>\n      <th>id</th>\n      <th>timestamp</th>\n      <th>source_x</th>\n      <th>text</th>\n      <th>rating_numerator</th>\n      <th>rating_denominator</th>\n      <th>name</th>\n      <th>doggo</th>\n      <th>floofer</th>\n      <th>pupper</th>\n      <th>...</th>\n      <th>img_num</th>\n      <th>p1</th>\n      <th>p1_conf</th>\n      <th>p1_dog</th>\n      <th>p2</th>\n      <th>p2_conf</th>\n      <th>p2_dog</th>\n      <th>p3</th>\n      <th>p3_conf</th>\n      <th>p3_dog</th>\n    </tr>\n  </thead>\n  <tbody>\n    <tr>\n      <th>329</th>\n      <td>822872901745569793</td>\n      <td>2017-01-21 18:26:02 +0000</td>\n      <td>&lt;a href=\"http://twitter.com/download/iphone\" r...</td>\n      <td>Here's a super supportive puppo participating ...</td>\n      <td>13</td>\n      <td>10</td>\n      <td>None</td>\n      <td>None</td>\n      <td>None</td>\n      <td>None</td>\n      <td>...</td>\n      <td>1</td>\n      <td>Lakeland_terrier</td>\n      <td>0.196015</td>\n      <td>True</td>\n      <td>Labrador_retriever</td>\n      <td>0.160329</td>\n      <td>True</td>\n      <td>Irish_terrier</td>\n      <td>0.069126</td>\n      <td>True</td>\n    </tr>\n    <tr>\n      <th>851</th>\n      <td>744234799360020481</td>\n      <td>2016-06-18 18:26:18 +0000</td>\n      <td>&lt;a href=\"http://twitter.com/download/iphone\" r...</td>\n      <td>Here's a doggo realizing you can stand in a po...</td>\n      <td>13</td>\n      <td>10</td>\n      <td>None</td>\n      <td>doggo</td>\n      <td>None</td>\n      <td>None</td>\n      <td>...</td>\n      <td>1</td>\n      <td>Labrador_retriever</td>\n      <td>0.825333</td>\n      <td>True</td>\n      <td>ice_bear</td>\n      <td>0.044681</td>\n      <td>False</td>\n      <td>whippet</td>\n      <td>0.018442</td>\n      <td>True</td>\n    </tr>\n    <tr>\n      <th>59</th>\n      <td>879415818425184262</td>\n      <td>2017-06-26 19:07:24 +0000</td>\n      <td>&lt;a href=\"http://twitter.com/download/iphone\" r...</td>\n      <td>This is Duddles. He did an attempt. 13/10 some...</td>\n      <td>13</td>\n      <td>10</td>\n      <td>Duddles</td>\n      <td>None</td>\n      <td>None</td>\n      <td>None</td>\n      <td>...</td>\n      <td>1</td>\n      <td>English_springer</td>\n      <td>0.383404</td>\n      <td>True</td>\n      <td>Boston_bull</td>\n      <td>0.134967</td>\n      <td>True</td>\n      <td>Cardigan</td>\n      <td>0.110481</td>\n      <td>True</td>\n    </tr>\n    <tr>\n      <th>432</th>\n      <td>807106840509214720</td>\n      <td>2016-12-09 06:17:20 +0000</td>\n      <td>&lt;a href=\"http://twitter.com/download/iphone\" r...</td>\n      <td>This is Stephan. He just wants to help. 13/10 ...</td>\n      <td>13</td>\n      <td>10</td>\n      <td>Stephan</td>\n      <td>None</td>\n      <td>None</td>\n      <td>None</td>\n      <td>...</td>\n      <td>1</td>\n      <td>Chihuahua</td>\n      <td>0.505370</td>\n      <td>True</td>\n      <td>Pomeranian</td>\n      <td>0.120358</td>\n      <td>True</td>\n      <td>toy_terrier</td>\n      <td>0.077008</td>\n      <td>True</td>\n    </tr>\n    <tr>\n      <th>112</th>\n      <td>866450705531457537</td>\n      <td>2017-05-22 00:28:40 +0000</td>\n      <td>&lt;a href=\"http://twitter.com/download/iphone\" r...</td>\n      <td>This is Jamesy. He gives a kiss to every other...</td>\n      <td>13</td>\n      <td>10</td>\n      <td>Jamesy</td>\n      <td>None</td>\n      <td>None</td>\n      <td>pupper</td>\n      <td>...</td>\n      <td>2</td>\n      <td>French_bulldog</td>\n      <td>0.905334</td>\n      <td>True</td>\n      <td>Boston_bull</td>\n      <td>0.078060</td>\n      <td>True</td>\n      <td>pug</td>\n      <td>0.001771</td>\n      <td>True</td>\n    </tr>\n  </tbody>\n</table>\n<p>5 rows × 39 columns</p>\n</div>"
     },
     "execution_count": 68,
     "metadata": {},
     "output_type": "execute_result"
    }
   ],
   "source": [
    "fav_group"
   ],
   "metadata": {
    "collapsed": false,
    "pycharm": {
     "name": "#%%\n"
    }
   }
  },
  {
   "cell_type": "code",
   "execution_count": 69,
   "outputs": [],
   "source": [
    "labels_id = ['id1', 'id2', 'id3', 'id4', 'id5']"
   ],
   "metadata": {
    "collapsed": false,
    "pycharm": {
     "name": "#%%\n"
    }
   }
  },
  {
   "cell_type": "code",
   "execution_count": 70,
   "outputs": [],
   "source": [
    "def bar(x,y):\n",
    "    plt.figure(figsize= (30,20))\n",
    "    sns.barplot(x, y )"
   ],
   "metadata": {
    "collapsed": false,
    "pycharm": {
     "name": "#%%\n"
    }
   }
  },
  {
   "cell_type": "code",
   "execution_count": 71,
   "outputs": [
    {
     "name": "stderr",
     "output_type": "stream",
     "text": [
      "C:\\Users\\Testys\\anaconda3\\lib\\site-packages\\seaborn\\_decorators.py:36: FutureWarning: Pass the following variables as keyword args: x, y. From version 0.12, the only valid positional argument will be `data`, and passing other arguments without an explicit keyword will result in an error or misinterpretation.\n",
      "  warnings.warn(\n"
     ]
    },
    {
     "data": {
      "text/plain": "Text(0, 0.5, 'Favorite Count')"
     },
     "execution_count": 71,
     "metadata": {},
     "output_type": "execute_result"
    },
    {
     "data": {
      "text/plain": "<Figure size 2160x1440 with 1 Axes>",
      "image/png": "[encoded data removed]"
     },
     "metadata": {
      "needs_background": "light"
     },
     "output_type": "display_data"
    }
   ],
   "source": [
    "bar(x= labels_id, y=fav_group.favorite_count)\n",
    "plt.title('Top 5 tweets with the highest likes')\n",
    "plt.xlabel('Tweet Id')\n",
    "plt.ylabel('Favorite Count')"
   ],
   "metadata": {
    "collapsed": false,
    "pycharm": {
     "name": "#%%\n"
    }
   }
  },
  {
   "cell_type": "markdown",
   "source": [
    "> The chart shows the top 5 tweet with the highest likes. The chart shows this from the highest to the lowest."
   ],
   "metadata": {
    "collapsed": false,
    "pycharm": {
     "name": "#%% md\n"
    }
   }
  },
  {
   "cell_type": "markdown",
   "source": [
    "#### Question 2: What dogs appeared the most?\n",
    "According to the posts, different type of dogs were rated by the account handler. Here, we get the top 5 dogs that appear the most on the twitter account."
   ],
   "metadata": {
    "collapsed": false,
    "pycharm": {
     "name": "#%% md\n"
    }
   }
  },
  {
   "cell_type": "code",
   "execution_count": 72,
   "outputs": [
    {
     "data": {
      "text/plain": "golden_retriever      150\nLabrador_retriever    100\nPembroke               88\nChihuahua              83\npug                    57\n                     ... \nwater_bottle            1\ndamselfly               1\nmilitary_uniform        1\nnail                    1\nconch                   1\nName: p1, Length: 378, dtype: int64"
     },
     "execution_count": 72,
     "metadata": {},
     "output_type": "execute_result"
    }
   ],
   "source": [
    "p1 = merged_comp.p1.value_counts()\n",
    "p1"
   ],
   "metadata": {
    "collapsed": false,
    "pycharm": {
     "name": "#%%\n"
    }
   }
  },
  {
   "cell_type": "code",
   "execution_count": 73,
   "outputs": [
    {
     "data": {
      "text/plain": "Labrador_retriever    104\ngolden_retriever       92\nCardigan               73\nChihuahua              44\nPomeranian             42\n                     ... \nashcan                  1\nshovel                  1\nhay                     1\ncomputer_keyboard       1\nbow                     1\nName: p2, Length: 404, dtype: int64"
     },
     "execution_count": 73,
     "metadata": {},
     "output_type": "execute_result"
    }
   ],
   "source": [
    "p2 = merged_comp.p2.value_counts()\n",
    "p2"
   ],
   "metadata": {
    "collapsed": false,
    "pycharm": {
     "name": "#%%\n"
    }
   }
  },
  {
   "cell_type": "code",
   "execution_count": 74,
   "outputs": [
    {
     "data": {
      "text/plain": "Labrador_retriever    79\nChihuahua             58\ngolden_retriever      48\nEskimo_dog            38\nkelpie                35\n                      ..\nscreen                 1\nbell_cote              1\nhatchet                1\nchickadee              1\nscrew                  1\nName: p3, Length: 407, dtype: int64"
     },
     "execution_count": 74,
     "metadata": {},
     "output_type": "execute_result"
    }
   ],
   "source": [
    "p3 = merged_comp.p3.value_counts()\n",
    "p3"
   ],
   "metadata": {
    "collapsed": false,
    "pycharm": {
     "name": "#%%\n"
    }
   }
  },
  {
   "cell_type": "code",
   "execution_count": 75,
   "outputs": [],
   "source": [
    "total_dogs = p1 + p2 + p3"
   ],
   "metadata": {
    "collapsed": false,
    "pycharm": {
     "name": "#%%\n"
    }
   }
  },
  {
   "cell_type": "code",
   "execution_count": 76,
   "outputs": [],
   "source": [
    "total_dogs.sort_values(ascending= False, inplace= True)"
   ],
   "metadata": {
    "collapsed": false,
    "pycharm": {
     "name": "#%%\n"
    }
   }
  },
  {
   "cell_type": "code",
   "execution_count": 77,
   "outputs": [],
   "source": [
    "top_5_dogs = total_dogs.head(5)"
   ],
   "metadata": {
    "collapsed": false,
    "pycharm": {
     "name": "#%%\n"
    }
   }
  },
  {
   "cell_type": "code",
   "execution_count": 78,
   "outputs": [
    {
     "data": {
      "text/plain": "golden_retriever      290.0\nLabrador_retriever    283.0\nChihuahua             185.0\nPembroke              142.0\nCardigan              115.0\ndtype: float64"
     },
     "execution_count": 78,
     "metadata": {},
     "output_type": "execute_result"
    }
   ],
   "source": [
    "top_5_dogs"
   ],
   "metadata": {
    "collapsed": false,
    "pycharm": {
     "name": "#%%\n"
    }
   }
  },
  {
   "cell_type": "code",
   "execution_count": 79,
   "outputs": [
    {
     "name": "stderr",
     "output_type": "stream",
     "text": [
      "C:\\Users\\Testys\\anaconda3\\lib\\site-packages\\seaborn\\_decorators.py:36: FutureWarning: Pass the following variables as keyword args: x, y. From version 0.12, the only valid positional argument will be `data`, and passing other arguments without an explicit keyword will result in an error or misinterpretation.\n",
      "  warnings.warn(\n"
     ]
    },
    {
     "data": {
      "text/plain": "Text(0, 0.5, 'Number of time appeared.')"
     },
     "execution_count": 79,
     "metadata": {},
     "output_type": "execute_result"
    },
    {
     "data": {
      "text/plain": "<Figure size 2160x1440 with 1 Axes>",
      "image/png": "[encoded data removed]"
     },
     "metadata": {
      "needs_background": "light"
     },
     "output_type": "display_data"
    }
   ],
   "source": [
    "bar(x= top_5_dogs.index, y= top_5_dogs)\n",
    "plt.title('Breeds of dogs that appear the most.')\n",
    "plt.xlabel('Dog Breed')\n",
    "plt.ylabel('Number of time appeared.')"
   ],
   "metadata": {
    "collapsed": false,
    "pycharm": {
     "name": "#%%\n"
    }
   }
  },
  {
   "cell_type": "markdown",
   "source": [
    "The above diagram shows the dog with the most breed, we can assume that since this dogs showed up a lot, people were very much interested in them.\n",
    "\n",
    "#### Question 3: What is the most retweeted post?\n"
   ],
   "metadata": {
    "collapsed": false,
    "pycharm": {
     "name": "#%% md\n"
    }
   }
  },
  {
   "cell_type": "code",
   "execution_count": 80,
   "outputs": [],
   "source": [
    "most_retweeted = merged_comp.sort_values('retweet_count', ascending= False)"
   ],
   "metadata": {
    "collapsed": false,
    "pycharm": {
     "name": "#%%\n"
    }
   }
  },
  {
   "cell_type": "code",
   "execution_count": 81,
   "outputs": [
    {
     "data": {
      "text/plain": "                      id                  timestamp  \\\n851   744234799360020481  2016-06-18 18:26:18 +0000   \n432   807106840509214720  2016-12-09 06:17:20 +0000   \n209   842892208864923648  2017-03-18 00:15:37 +0000   \n886   739238157791694849  2016-06-04 23:31:25 +0000   \n329   822872901745569793  2017-01-21 18:26:02 +0000   \n...                  ...                        ...   \n1942  668291999406125056  2015-11-22 04:56:43 +0000   \n1978  667550882905632768  2015-11-20 03:51:47 +0000   \n2036  666447344410484738  2015-11-17 02:46:43 +0000   \n171   851861385021730816  2017-04-11 18:15:55 +0000   \n2056  666102155909144576  2015-11-16 03:55:04 +0000   \n\n                                               source_x  \\\n851   <a href=\"http://twitter.com/download/iphone\" r...   \n432   <a href=\"http://twitter.com/download/iphone\" r...   \n209   <a href=\"http://twitter.com/download/iphone\" r...   \n886   <a href=\"http://twitter.com/download/iphone\" r...   \n329   <a href=\"http://twitter.com/download/iphone\" r...   \n...                                                 ...   \n1942  <a href=\"http://twitter.com/download/iphone\" r...   \n1978  <a href=\"http://twitter.com\" rel=\"nofollow\">Tw...   \n2036  <a href=\"http://twitter.com/download/iphone\" r...   \n171   <a href=\"http://twitter.com/download/iphone\" r...   \n2056  <a href=\"http://twitter.com/download/iphone\" r...   \n\n                                                   text  rating_numerator  \\\n851   Here's a doggo realizing you can stand in a po...                13   \n432   This is Stephan. He just wants to help. 13/10 ...                13   \n209   RT @dog_rates: This is Stephan. He just wants ...                13   \n886   Here's a doggo blowing bubbles. It's downright...                13   \n329   Here's a super supportive puppo participating ...                13   \n...                                                 ...               ...   \n1942  I can't do better than he did. 10/10 https://t...                10   \n1978  RT @dogratingrating: Unoriginal idea. Blatant ...                 5   \n2036  This is Scout. She is a black Downton Abbey. I...                 9   \n171   RT @eddie_coe98: Thanks @dog_rates completed m...                10   \n2056  Oh my. Here you are seeing an Adobe Setter giv...                11   \n\n      rating_denominator     name  doggo floofer pupper  ... img_num  \\\n851                   10     None  doggo    None   None  ...       1   \n432                   10  Stephan   None    None   None  ...       1   \n209                   10  Stephan   None    None   None  ...       1   \n886                   10     None  doggo    None   None  ...       1   \n329                   10     None   None    None   None  ...       1   \n...                  ...      ...    ...     ...    ...  ...     ...   \n1942                  10     None   None    None   None  ...       1   \n1978                  10     None   None    None   None  ...       1   \n2036                  10    Scout   None    None   None  ...       1   \n171                   10     None   None    None   None  ...       1   \n2056                  10     None   None    None   None  ...       1   \n\n                          p1   p1_conf p1_dog                  p2   p2_conf  \\\n851       Labrador_retriever  0.825333   True            ice_bear  0.044681   \n432                Chihuahua  0.505370   True          Pomeranian  0.120358   \n209                Chihuahua  0.505370   True          Pomeranian  0.120358   \n886               Eskimo_dog  0.503372   True      Siberian_husky  0.390413   \n329         Lakeland_terrier  0.196015   True  Labrador_retriever  0.160329   \n...                      ...       ...    ...                 ...       ...   \n1942                web_site  0.995535  False               skunk  0.001363   \n1978                web_site  0.998258  False          dishwasher  0.000201   \n2036  curly-coated_retriever  0.322084   True     giant_schnauzer  0.287955   \n171               pencil_box  0.662183  False               purse  0.066505   \n2056          English_setter  0.298617   True        Newfoundland  0.149842   \n\n     p2_dog                  p3   p3_conf p3_dog  \n851   False             whippet  0.018442   True  \n432    True         toy_terrier  0.077008   True  \n209    True         toy_terrier  0.077008   True  \n886    True            malamute  0.080901   True  \n329    True       Irish_terrier  0.069126   True  \n...     ...                 ...       ...    ...  \n1942  False              badger  0.000686  False  \n1978  False        oscilloscope  0.000142  False  \n2036   True  Labrador_retriever  0.166331   True  \n171   False              pillow  0.044725  False  \n2056   True              borzoi  0.133649   True  \n\n[2073 rows x 39 columns]",
      "text/html": "<div>\n<style scoped>\n    .dataframe tbody tr th:only-of-type {\n        vertical-align: middle;\n    }\n\n    .dataframe tbody tr th {\n        vertical-align: top;\n    }\n\n    .dataframe thead th {\n        text-align: right;\n    }\n</style>\n<table border=\"1\" class=\"dataframe\">\n  <thead>\n    <tr style=\"text-align: right;\">\n      <th></th>\n      <th>id</th>\n      <th>timestamp</th>\n      <th>source_x</th>\n      <th>text</th>\n      <th>rating_numerator</th>\n      <th>rating_denominator</th>\n      <th>name</th>\n      <th>doggo</th>\n      <th>floofer</th>\n      <th>pupper</th>\n      <th>...</th>\n      <th>img_num</th>\n      <th>p1</th>\n      <th>p1_conf</th>\n      <th>p1_dog</th>\n      <th>p2</th>\n      <th>p2_conf</th>\n      <th>p2_dog</th>\n      <th>p3</th>\n      <th>p3_conf</th>\n      <th>p3_dog</th>\n    </tr>\n  </thead>\n  <tbody>\n    <tr>\n      <th>851</th>\n      <td>744234799360020481</td>\n      <td>2016-06-18 18:26:18 +0000</td>\n      <td>&lt;a href=\"http://twitter.com/download/iphone\" r...</td>\n      <td>Here's a doggo realizing you can stand in a po...</td>\n      <td>13</td>\n      <td>10</td>\n      <td>None</td>\n      <td>doggo</td>\n      <td>None</td>\n      <td>None</td>\n      <td>...</td>\n      <td>1</td>\n      <td>Labrador_retriever</td>\n      <td>0.825333</td>\n      <td>True</td>\n      <td>ice_bear</td>\n      <td>0.044681</td>\n      <td>False</td>\n      <td>whippet</td>\n      <td>0.018442</td>\n      <td>True</td>\n    </tr>\n    <tr>\n      <th>432</th>\n      <td>807106840509214720</td>\n      <td>2016-12-09 06:17:20 +0000</td>\n      <td>&lt;a href=\"http://twitter.com/download/iphone\" r...</td>\n      <td>This is Stephan. He just wants to help. 13/10 ...</td>\n      <td>13</td>\n      <td>10</td>\n      <td>Stephan</td>\n      <td>None</td>\n      <td>None</td>\n      <td>None</td>\n      <td>...</td>\n      <td>1</td>\n      <td>Chihuahua</td>\n      <td>0.505370</td>\n      <td>True</td>\n      <td>Pomeranian</td>\n      <td>0.120358</td>\n      <td>True</td>\n      <td>toy_terrier</td>\n      <td>0.077008</td>\n      <td>True</td>\n    </tr>\n    <tr>\n      <th>209</th>\n      <td>842892208864923648</td>\n      <td>2017-03-18 00:15:37 +0000</td>\n      <td>&lt;a href=\"http://twitter.com/download/iphone\" r...</td>\n      <td>RT @dog_rates: This is Stephan. He just wants ...</td>\n      <td>13</td>\n      <td>10</td>\n      <td>Stephan</td>\n      <td>None</td>\n      <td>None</td>\n      <td>None</td>\n      <td>...</td>\n      <td>1</td>\n      <td>Chihuahua</td>\n      <td>0.505370</td>\n      <td>True</td>\n      <td>Pomeranian</td>\n      <td>0.120358</td>\n      <td>True</td>\n      <td>toy_terrier</td>\n      <td>0.077008</td>\n      <td>True</td>\n    </tr>\n    <tr>\n      <th>886</th>\n      <td>739238157791694849</td>\n      <td>2016-06-04 23:31:25 +0000</td>\n      <td>&lt;a href=\"http://twitter.com/download/iphone\" r...</td>\n      <td>Here's a doggo blowing bubbles. It's downright...</td>\n      <td>13</td>\n      <td>10</td>\n      <td>None</td>\n      <td>doggo</td>\n      <td>None</td>\n      <td>None</td>\n      <td>...</td>\n      <td>1</td>\n      <td>Eskimo_dog</td>\n      <td>0.503372</td>\n      <td>True</td>\n      <td>Siberian_husky</td>\n      <td>0.390413</td>\n      <td>True</td>\n      <td>malamute</td>\n      <td>0.080901</td>\n      <td>True</td>\n    </tr>\n    <tr>\n      <th>329</th>\n      <td>822872901745569793</td>\n      <td>2017-01-21 18:26:02 +0000</td>\n      <td>&lt;a href=\"http://twitter.com/download/iphone\" r...</td>\n      <td>Here's a super supportive puppo participating ...</td>\n      <td>13</td>\n      <td>10</td>\n      <td>None</td>\n      <td>None</td>\n      <td>None</td>\n      <td>None</td>\n      <td>...</td>\n      <td>1</td>\n      <td>Lakeland_terrier</td>\n      <td>0.196015</td>\n      <td>True</td>\n      <td>Labrador_retriever</td>\n      <td>0.160329</td>\n      <td>True</td>\n      <td>Irish_terrier</td>\n      <td>0.069126</td>\n      <td>True</td>\n    </tr>\n    <tr>\n      <th>...</th>\n      <td>...</td>\n      <td>...</td>\n      <td>...</td>\n      <td>...</td>\n      <td>...</td>\n      <td>...</td>\n      <td>...</td>\n      <td>...</td>\n      <td>...</td>\n      <td>...</td>\n      <td>...</td>\n      <td>...</td>\n      <td>...</td>\n      <td>...</td>\n      <td>...</td>\n      <td>...</td>\n      <td>...</td>\n      <td>...</td>\n      <td>...</td>\n      <td>...</td>\n      <td>...</td>\n    </tr>\n    <tr>\n      <th>1942</th>\n      <td>668291999406125056</td>\n      <td>2015-11-22 04:56:43 +0000</td>\n      <td>&lt;a href=\"http://twitter.com/download/iphone\" r...</td>\n      <td>I can't do better than he did. 10/10 https://t...</td>\n      <td>10</td>\n      <td>10</td>\n      <td>None</td>\n      <td>None</td>\n      <td>None</td>\n      <td>None</td>\n      <td>...</td>\n      <td>1</td>\n      <td>web_site</td>\n      <td>0.995535</td>\n      <td>False</td>\n      <td>skunk</td>\n      <td>0.001363</td>\n      <td>False</td>\n      <td>badger</td>\n      <td>0.000686</td>\n      <td>False</td>\n    </tr>\n    <tr>\n      <th>1978</th>\n      <td>667550882905632768</td>\n      <td>2015-11-20 03:51:47 +0000</td>\n      <td>&lt;a href=\"http://twitter.com\" rel=\"nofollow\"&gt;Tw...</td>\n      <td>RT @dogratingrating: Unoriginal idea. Blatant ...</td>\n      <td>5</td>\n      <td>10</td>\n      <td>None</td>\n      <td>None</td>\n      <td>None</td>\n      <td>None</td>\n      <td>...</td>\n      <td>1</td>\n      <td>web_site</td>\n      <td>0.998258</td>\n      <td>False</td>\n      <td>dishwasher</td>\n      <td>0.000201</td>\n      <td>False</td>\n      <td>oscilloscope</td>\n      <td>0.000142</td>\n      <td>False</td>\n    </tr>\n    <tr>\n      <th>2036</th>\n      <td>666447344410484738</td>\n      <td>2015-11-17 02:46:43 +0000</td>\n      <td>&lt;a href=\"http://twitter.com/download/iphone\" r...</td>\n      <td>This is Scout. She is a black Downton Abbey. I...</td>\n      <td>9</td>\n      <td>10</td>\n      <td>Scout</td>\n      <td>None</td>\n      <td>None</td>\n      <td>None</td>\n      <td>...</td>\n      <td>1</td>\n      <td>curly-coated_retriever</td>\n      <td>0.322084</td>\n      <td>True</td>\n      <td>giant_schnauzer</td>\n      <td>0.287955</td>\n      <td>True</td>\n      <td>Labrador_retriever</td>\n      <td>0.166331</td>\n      <td>True</td>\n    </tr>\n    <tr>\n      <th>171</th>\n      <td>851861385021730816</td>\n      <td>2017-04-11 18:15:55 +0000</td>\n      <td>&lt;a href=\"http://twitter.com/download/iphone\" r...</td>\n      <td>RT @eddie_coe98: Thanks @dog_rates completed m...</td>\n      <td>10</td>\n      <td>10</td>\n      <td>None</td>\n      <td>None</td>\n      <td>None</td>\n      <td>None</td>\n      <td>...</td>\n      <td>1</td>\n      <td>pencil_box</td>\n      <td>0.662183</td>\n      <td>False</td>\n      <td>purse</td>\n      <td>0.066505</td>\n      <td>False</td>\n      <td>pillow</td>\n      <td>0.044725</td>\n      <td>False</td>\n    </tr>\n    <tr>\n      <th>2056</th>\n      <td>666102155909144576</td>\n      <td>2015-11-16 03:55:04 +0000</td>\n      <td>&lt;a href=\"http://twitter.com/download/iphone\" r...</td>\n      <td>Oh my. Here you are seeing an Adobe Setter giv...</td>\n      <td>11</td>\n      <td>10</td>\n      <td>None</td>\n      <td>None</td>\n      <td>None</td>\n      <td>None</td>\n      <td>...</td>\n      <td>1</td>\n      <td>English_setter</td>\n      <td>0.298617</td>\n      <td>True</td>\n      <td>Newfoundland</td>\n      <td>0.149842</td>\n      <td>True</td>\n      <td>borzoi</td>\n      <td>0.133649</td>\n      <td>True</td>\n    </tr>\n  </tbody>\n</table>\n<p>2073 rows × 39 columns</p>\n</div>"
     },
     "execution_count": 81,
     "metadata": {},
     "output_type": "execute_result"
    }
   ],
   "source": [
    "most_retweeted"
   ],
   "metadata": {
    "collapsed": false,
    "pycharm": {
     "name": "#%%\n"
    }
   }
  },
  {
   "cell_type": "markdown",
   "source": [
    "The most retweeted post is with the id: 744234799360020481, which was retweeted 79525. The post contained a Labrador retriever and a Whippet."
   ],
   "metadata": {
    "collapsed": false,
    "pycharm": {
     "name": "#%% md\n"
    }
   }
  },
  {
   "cell_type": "code",
   "execution_count": 87,
   "outputs": [
    {
     "data": {
      "text/plain": "Text(0, 0.5, 'Number of Likes')"
     },
     "execution_count": 87,
     "metadata": {},
     "output_type": "execute_result"
    },
    {
     "data": {
      "text/plain": "<Figure size 2160x1440 with 1 Axes>",
      "image/png": "[encoded data removed]"
     },
     "metadata": {
      "needs_background": "light"
     },
     "output_type": "display_data"
    }
   ],
   "source": [
    "plt.figure(figsize = (30,20))\n",
    "sns.scatterplot(x= merged_comp.retweet_count, y= merged_comp.favorite_count)\n",
    "plt.title('Correlation between the Number of Retweets and the Number of likes.')\n",
    "plt.xlabel('Number of Retweets.')\n",
    "plt.ylabel('Number of Likes')"
   ],
   "metadata": {
    "collapsed": false,
    "pycharm": {
     "name": "#%%\n"
    }
   }
  },
  {
   "cell_type": "markdown",
   "source": [
    "The above chart shows a correlation between the retweet_count and the favorite_count. It shows a positive correlation between the two columns"
   ],
   "metadata": {
    "collapsed": false,
    "pycharm": {
     "name": "#%% md\n",
     "is_executing": true
    }
   }
  },
  {
   "cell_type": "markdown",
   "source": [
    "<body>\n",
    "<a id = 'conclusions'></a>\n",
    "<h2> Conclusions </h2>\n",
    "\n",
    "In conclusion, a proper wrangling and cleaning exercise was carried out on the dataset has shown above. First, the data was gather using the request module to programmatically download the image prediction tsv file off the website. Then, the other two datasets where read using the pandas read_csv function.\n",
    "\n",
    "Afterwards, each data was assessed one after the other both programmatically and virtually, while assessing the datasets, we came across some issues that where perfectly listed in the <a href=\"#assess\">Assessing Data</a> section.\n",
    "\n",
    "In order to move forward with analyzing the data, the data was further cleaned to take care of these issues, as shown above in the <a href=\"#cleaning\">Cleaning Data</a> section. After proper cleaning, the data set was then merged together to get a new data which was named twitter_archive_master.csv file. In order to save this file to a csv file, I used the pandas to_csv function to carry out the operation.\n",
    "\n",
    "Moving on to the next task, I went ahead to analyze the data to get insights from the data. In answering the questions posed above, I did the following:\n",
    "> To answer the first question,\n",
    "\n",
    "<h2> Limitation </h2>\n",
    "<li> For some columns with missing values, due to their unavailabilty originally it is impossible to fill them. Hence, one option to solving this issue is filling the missing values with \"Not Avaliable\" or, the columns with this type of issue can easily be dropped off after getting any insights available.\n",
    "</li>\n",
    "<li>\n",
    "</li>\n",
    "</body>\n"
   ],
   "metadata": {
    "collapsed": false
   }
  }
 ],
 "metadata": {
  "extensions": {
   "jupyter_dashboards": {
    "activeView": "report_default",
    "version": 1,
    "views": {
     "grid_default": {
      "cellMargin": 10,
      "defaultCellHeight": 20,
      "maxColumns": 12,
      "name": "grid",
      "type": "grid"
     },
     "report_default": {
      "name": "report",
      "type": "report"
     }
    }
   }
  },
  "kernelspec": {
   "display_name": "Python 3",
   "language": "python",
   "name": "python3"
  },
  "language_info": {
   "codemirror_mode": {
    "name": "ipython",
    "version": 3
   },
   "file_extension": ".py",
   "mimetype": "text/x-python",
   "name": "python",
   "nbconvert_exporter": "python",
   "pygments_lexer": "ipython3",
   "version": "3.6.3"
  }
 },
 "nbformat": 4,
 "nbformat_minor": 2
}