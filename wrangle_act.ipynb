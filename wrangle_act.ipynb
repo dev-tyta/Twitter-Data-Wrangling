{
 "cells": [
  {
   "cell_type": "markdown",
   "metadata": {
    "extensions": {
     "jupyter_dashboards": {
      "version": 1,
      "views": {
       "grid_default": {
        "col": 0,
        "height": 4,
        "hidden": false,
        "row": 0,
        "width": 4
       },
       "report_default": {
        "hidden": false
       }
      }
     }
    }
   },
   "source": [
    "# Project: Wrangling and Analyze Data"
   ]
  },
  {
   "cell_type": "markdown",
   "metadata": {},
   "source": [
    "## Data Gathering\n",
    "In the cell below, gather **all** three pieces of data for this project and load them in the notebook. **Note:** the methods required to gather each data are different.\n",
    "1. Directly download the WeRateDogs Twitter archive data (twitter_archive_enhanced.csv)"
   ]
  },
  {
   "cell_type": "code",
   "execution_count": 2,
   "outputs": [],
   "source": [
    "import pandas as pd\n",
    "# import requests"
   ],
   "metadata": {
    "collapsed": false,
    "pycharm": {
     "name": "#%%\n"
    }
   }
  },
  {
   "cell_type": "code",
   "execution_count": 3,
   "outputs": [],
   "source": [
    "twitter_archived = pd.read_csv('twitter-archive-enhanced.csv')"
   ],
   "metadata": {
    "collapsed": false,
    "pycharm": {
     "name": "#%%\n"
    }
   }
  },
  {
   "cell_type": "markdown",
   "metadata": {},
   "source": [
    "2. Use the Requests library to download the tweet image prediction (image_predictions.tsv)"
   ]
  },
  {
   "cell_type": "code",
   "execution_count": 4,
   "metadata": {},
   "outputs": [],
   "source": [
    "# url = ''\n",
    "# resp = requests.get(url)"
   ]
  },
  {
   "cell_type": "code",
   "execution_count": 5,
   "outputs": [],
   "source": [
    "image_pred = pd.read_csv('image-predictions.tsv', sep= '\\t')"
   ],
   "metadata": {
    "collapsed": false,
    "pycharm": {
     "name": "#%%\n"
    }
   }
  },
  {
   "cell_type": "markdown",
   "metadata": {},
   "source": [
    "3. Use the Tweepy library to query additional data via the Twitter API (tweet_json.txt)\n",
    "> The dataset provided on the udacity course would be used because of difficulty to gain access to the twitter API."
   ]
  },
  {
   "cell_type": "code",
   "execution_count": 6,
   "metadata": {},
   "outputs": [],
   "source": [
    "tweet_json = pd.read_json('tweet-json copy', lines=True)"
   ]
  },
  {
   "cell_type": "markdown",
   "metadata": {
    "extensions": {
     "jupyter_dashboards": {
      "version": 1,
      "views": {
       "grid_default": {
        "col": 4,
        "height": 4,
        "hidden": false,
        "row": 28,
        "width": 4
       },
       "report_default": {
        "hidden": false
       }
      }
     }
    }
   },
   "source": [
    "\n",
    "## Assessing Data\n",
    "In this section, detect and document at least **eight (8) quality issues and two (2) tidiness issue**. You must use **both** visual assessment\n",
    "programmatic assessment to assess the data.\n",
    "\n",
    "**Note:** pay attention to the following key points when you access the data.\n",
    "\n",
    "* You only want original ratings (no retweets) that have images. Though there are 5000+ tweets in the dataset, not all are dog ratings and some are retweets.\n",
    "* Assessing and cleaning the entire dataset completely would require a lot of time, and is not necessary to practice and demonstrate your skills in data wrangling. Therefore, the requirements of this project are only to assess and clean at least 8 quality issues and at least 2 tidiness issues in this dataset.\n",
    "* The fact that the rating numerators are greater than the denominators does not need to be cleaned. This [unique rating system](http://knowyourmeme.com/memes/theyre-good-dogs-brent) is a big part of the popularity of WeRateDogs.\n",
    "* You do not need to gather the tweets beyond August 1st, 2017. You can, but note that you won't be able to gather the image predictions for these tweets since you don't have access to the algorithm used.\n",
    "\n"
   ]
  },
  {
   "cell_type": "code",
   "execution_count": 7,
   "metadata": {},
   "outputs": [
    {
     "data": {
      "text/plain": "                tweet_id  in_reply_to_status_id  in_reply_to_user_id  \\\n0     892420643555336193                    NaN                  NaN   \n1     892177421306343426                    NaN                  NaN   \n2     891815181378084864                    NaN                  NaN   \n3     891689557279858688                    NaN                  NaN   \n4     891327558926688256                    NaN                  NaN   \n...                  ...                    ...                  ...   \n2351  666049248165822465                    NaN                  NaN   \n2352  666044226329800704                    NaN                  NaN   \n2353  666033412701032449                    NaN                  NaN   \n2354  666029285002620928                    NaN                  NaN   \n2355  666020888022790149                    NaN                  NaN   \n\n                      timestamp  \\\n0     2017-08-01 16:23:56 +0000   \n1     2017-08-01 00:17:27 +0000   \n2     2017-07-31 00:18:03 +0000   \n3     2017-07-30 15:58:51 +0000   \n4     2017-07-29 16:00:24 +0000   \n...                         ...   \n2351  2015-11-16 00:24:50 +0000   \n2352  2015-11-16 00:04:52 +0000   \n2353  2015-11-15 23:21:54 +0000   \n2354  2015-11-15 23:05:30 +0000   \n2355  2015-11-15 22:32:08 +0000   \n\n                                                 source  \\\n0     <a href=\"http://twitter.com/download/iphone\" r...   \n1     <a href=\"http://twitter.com/download/iphone\" r...   \n2     <a href=\"http://twitter.com/download/iphone\" r...   \n3     <a href=\"http://twitter.com/download/iphone\" r...   \n4     <a href=\"http://twitter.com/download/iphone\" r...   \n...                                                 ...   \n2351  <a href=\"http://twitter.com/download/iphone\" r...   \n2352  <a href=\"http://twitter.com/download/iphone\" r...   \n2353  <a href=\"http://twitter.com/download/iphone\" r...   \n2354  <a href=\"http://twitter.com/download/iphone\" r...   \n2355  <a href=\"http://twitter.com/download/iphone\" r...   \n\n                                                   text  retweeted_status_id  \\\n0     This is Phineas. He's a mystical boy. Only eve...                  NaN   \n1     This is Tilly. She's just checking pup on you....                  NaN   \n2     This is Archie. He is a rare Norwegian Pouncin...                  NaN   \n3     This is Darla. She commenced a snooze mid meal...                  NaN   \n4     This is Franklin. He would like you to stop ca...                  NaN   \n...                                                 ...                  ...   \n2351  Here we have a 1949 1st generation vulpix. Enj...                  NaN   \n2352  This is a purebred Piers Morgan. Loves to Netf...                  NaN   \n2353  Here is a very happy pup. Big fan of well-main...                  NaN   \n2354  This is a western brown Mitsubishi terrier. Up...                  NaN   \n2355  Here we have a Japanese Irish Setter. Lost eye...                  NaN   \n\n      retweeted_status_user_id retweeted_status_timestamp  \\\n0                          NaN                        NaN   \n1                          NaN                        NaN   \n2                          NaN                        NaN   \n3                          NaN                        NaN   \n4                          NaN                        NaN   \n...                        ...                        ...   \n2351                       NaN                        NaN   \n2352                       NaN                        NaN   \n2353                       NaN                        NaN   \n2354                       NaN                        NaN   \n2355                       NaN                        NaN   \n\n                                          expanded_urls  rating_numerator  \\\n0     https://twitter.com/dog_rates/status/892420643...                13   \n1     https://twitter.com/dog_rates/status/892177421...                13   \n2     https://twitter.com/dog_rates/status/891815181...                12   \n3     https://twitter.com/dog_rates/status/891689557...                13   \n4     https://twitter.com/dog_rates/status/891327558...                12   \n...                                                 ...               ...   \n2351  https://twitter.com/dog_rates/status/666049248...                 5   \n2352  https://twitter.com/dog_rates/status/666044226...                 6   \n2353  https://twitter.com/dog_rates/status/666033412...                 9   \n2354  https://twitter.com/dog_rates/status/666029285...                 7   \n2355  https://twitter.com/dog_rates/status/666020888...                 8   \n\n      rating_denominator      name doggo floofer pupper puppo  \n0                     10   Phineas  None    None   None  None  \n1                     10     Tilly  None    None   None  None  \n2                     10    Archie  None    None   None  None  \n3                     10     Darla  None    None   None  None  \n4                     10  Franklin  None    None   None  None  \n...                  ...       ...   ...     ...    ...   ...  \n2351                  10      None  None    None   None  None  \n2352                  10         a  None    None   None  None  \n2353                  10         a  None    None   None  None  \n2354                  10         a  None    None   None  None  \n2355                  10      None  None    None   None  None  \n\n[2356 rows x 17 columns]",
      "text/html": "<div>\n<style scoped>\n    .dataframe tbody tr th:only-of-type {\n        vertical-align: middle;\n    }\n\n    .dataframe tbody tr th {\n        vertical-align: top;\n    }\n\n    .dataframe thead th {\n        text-align: right;\n    }\n</style>\n<table border=\"1\" class=\"dataframe\">\n  <thead>\n    <tr style=\"text-align: right;\">\n      <th></th>\n      <th>tweet_id</th>\n      <th>in_reply_to_status_id</th>\n      <th>in_reply_to_user_id</th>\n      <th>timestamp</th>\n      <th>source</th>\n      <th>text</th>\n      <th>retweeted_status_id</th>\n      <th>retweeted_status_user_id</th>\n      <th>retweeted_status_timestamp</th>\n      <th>expanded_urls</th>\n      <th>rating_numerator</th>\n      <th>rating_denominator</th>\n      <th>name</th>\n      <th>doggo</th>\n      <th>floofer</th>\n      <th>pupper</th>\n      <th>puppo</th>\n    </tr>\n  </thead>\n  <tbody>\n    <tr>\n      <th>0</th>\n      <td>892420643555336193</td>\n      <td>NaN</td>\n      <td>NaN</td>\n      <td>2017-08-01 16:23:56 +0000</td>\n      <td>&lt;a href=\"http://twitter.com/download/iphone\" r...</td>\n      <td>This is Phineas. He's a mystical boy. Only eve...</td>\n      <td>NaN</td>\n      <td>NaN</td>\n      <td>NaN</td>\n      <td>https://twitter.com/dog_rates/status/892420643...</td>\n      <td>13</td>\n      <td>10</td>\n      <td>Phineas</td>\n      <td>None</td>\n      <td>None</td>\n      <td>None</td>\n      <td>None</td>\n    </tr>\n    <tr>\n      <th>1</th>\n      <td>892177421306343426</td>\n      <td>NaN</td>\n      <td>NaN</td>\n      <td>2017-08-01 00:17:27 +0000</td>\n      <td>&lt;a href=\"http://twitter.com/download/iphone\" r...</td>\n      <td>This is Tilly. She's just checking pup on you....</td>\n      <td>NaN</td>\n      <td>NaN</td>\n      <td>NaN</td>\n      <td>https://twitter.com/dog_rates/status/892177421...</td>\n      <td>13</td>\n      <td>10</td>\n      <td>Tilly</td>\n      <td>None</td>\n      <td>None</td>\n      <td>None</td>\n      <td>None</td>\n    </tr>\n    <tr>\n      <th>2</th>\n      <td>891815181378084864</td>\n      <td>NaN</td>\n      <td>NaN</td>\n      <td>2017-07-31 00:18:03 +0000</td>\n      <td>&lt;a href=\"http://twitter.com/download/iphone\" r...</td>\n      <td>This is Archie. He is a rare Norwegian Pouncin...</td>\n      <td>NaN</td>\n      <td>NaN</td>\n      <td>NaN</td>\n      <td>https://twitter.com/dog_rates/status/891815181...</td>\n      <td>12</td>\n      <td>10</td>\n      <td>Archie</td>\n      <td>None</td>\n      <td>None</td>\n      <td>None</td>\n      <td>None</td>\n    </tr>\n    <tr>\n      <th>3</th>\n      <td>891689557279858688</td>\n      <td>NaN</td>\n      <td>NaN</td>\n      <td>2017-07-30 15:58:51 +0000</td>\n      <td>&lt;a href=\"http://twitter.com/download/iphone\" r...</td>\n      <td>This is Darla. She commenced a snooze mid meal...</td>\n      <td>NaN</td>\n      <td>NaN</td>\n      <td>NaN</td>\n      <td>https://twitter.com/dog_rates/status/891689557...</td>\n      <td>13</td>\n      <td>10</td>\n      <td>Darla</td>\n      <td>None</td>\n      <td>None</td>\n      <td>None</td>\n      <td>None</td>\n    </tr>\n    <tr>\n      <th>4</th>\n      <td>891327558926688256</td>\n      <td>NaN</td>\n      <td>NaN</td>\n      <td>2017-07-29 16:00:24 +0000</td>\n      <td>&lt;a href=\"http://twitter.com/download/iphone\" r...</td>\n      <td>This is Franklin. He would like you to stop ca...</td>\n      <td>NaN</td>\n      <td>NaN</td>\n      <td>NaN</td>\n      <td>https://twitter.com/dog_rates/status/891327558...</td>\n      <td>12</td>\n      <td>10</td>\n      <td>Franklin</td>\n      <td>None</td>\n      <td>None</td>\n      <td>None</td>\n      <td>None</td>\n    </tr>\n    <tr>\n      <th>...</th>\n      <td>...</td>\n      <td>...</td>\n      <td>...</td>\n      <td>...</td>\n      <td>...</td>\n      <td>...</td>\n      <td>...</td>\n      <td>...</td>\n      <td>...</td>\n      <td>...</td>\n      <td>...</td>\n      <td>...</td>\n      <td>...</td>\n      <td>...</td>\n      <td>...</td>\n      <td>...</td>\n      <td>...</td>\n    </tr>\n    <tr>\n      <th>2351</th>\n      <td>666049248165822465</td>\n      <td>NaN</td>\n      <td>NaN</td>\n      <td>2015-11-16 00:24:50 +0000</td>\n      <td>&lt;a href=\"http://twitter.com/download/iphone\" r...</td>\n      <td>Here we have a 1949 1st generation vulpix. Enj...</td>\n      <td>NaN</td>\n      <td>NaN</td>\n      <td>NaN</td>\n      <td>https://twitter.com/dog_rates/status/666049248...</td>\n      <td>5</td>\n      <td>10</td>\n      <td>None</td>\n      <td>None</td>\n      <td>None</td>\n      <td>None</td>\n      <td>None</td>\n    </tr>\n    <tr>\n      <th>2352</th>\n      <td>666044226329800704</td>\n      <td>NaN</td>\n      <td>NaN</td>\n      <td>2015-11-16 00:04:52 +0000</td>\n      <td>&lt;a href=\"http://twitter.com/download/iphone\" r...</td>\n      <td>This is a purebred Piers Morgan. Loves to Netf...</td>\n      <td>NaN</td>\n      <td>NaN</td>\n      <td>NaN</td>\n      <td>https://twitter.com/dog_rates/status/666044226...</td>\n      <td>6</td>\n      <td>10</td>\n      <td>a</td>\n      <td>None</td>\n      <td>None</td>\n      <td>None</td>\n      <td>None</td>\n    </tr>\n    <tr>\n      <th>2353</th>\n      <td>666033412701032449</td>\n      <td>NaN</td>\n      <td>NaN</td>\n      <td>2015-11-15 23:21:54 +0000</td>\n      <td>&lt;a href=\"http://twitter.com/download/iphone\" r...</td>\n      <td>Here is a very happy pup. Big fan of well-main...</td>\n      <td>NaN</td>\n      <td>NaN</td>\n      <td>NaN</td>\n      <td>https://twitter.com/dog_rates/status/666033412...</td>\n      <td>9</td>\n      <td>10</td>\n      <td>a</td>\n      <td>None</td>\n      <td>None</td>\n      <td>None</td>\n      <td>None</td>\n    </tr>\n    <tr>\n      <th>2354</th>\n      <td>666029285002620928</td>\n      <td>NaN</td>\n      <td>NaN</td>\n      <td>2015-11-15 23:05:30 +0000</td>\n      <td>&lt;a href=\"http://twitter.com/download/iphone\" r...</td>\n      <td>This is a western brown Mitsubishi terrier. Up...</td>\n      <td>NaN</td>\n      <td>NaN</td>\n      <td>NaN</td>\n      <td>https://twitter.com/dog_rates/status/666029285...</td>\n      <td>7</td>\n      <td>10</td>\n      <td>a</td>\n      <td>None</td>\n      <td>None</td>\n      <td>None</td>\n      <td>None</td>\n    </tr>\n    <tr>\n      <th>2355</th>\n      <td>666020888022790149</td>\n      <td>NaN</td>\n      <td>NaN</td>\n      <td>2015-11-15 22:32:08 +0000</td>\n      <td>&lt;a href=\"http://twitter.com/download/iphone\" r...</td>\n      <td>Here we have a Japanese Irish Setter. Lost eye...</td>\n      <td>NaN</td>\n      <td>NaN</td>\n      <td>NaN</td>\n      <td>https://twitter.com/dog_rates/status/666020888...</td>\n      <td>8</td>\n      <td>10</td>\n      <td>None</td>\n      <td>None</td>\n      <td>None</td>\n      <td>None</td>\n      <td>None</td>\n    </tr>\n  </tbody>\n</table>\n<p>2356 rows × 17 columns</p>\n</div>"
     },
     "execution_count": 7,
     "metadata": {},
     "output_type": "execute_result"
    }
   ],
   "source": [
    "twitter_archived"
   ]
  },
  {
   "cell_type": "code",
   "execution_count": 8,
   "outputs": [
    {
     "data": {
      "text/plain": "                tweet_id                                          jpg_url  \\\n0     666020888022790149  https://pbs.twimg.com/media/CT4udn0WwAA0aMy.jpg   \n1     666029285002620928  https://pbs.twimg.com/media/CT42GRgUYAA5iDo.jpg   \n2     666033412701032449  https://pbs.twimg.com/media/CT4521TWwAEvMyu.jpg   \n3     666044226329800704  https://pbs.twimg.com/media/CT5Dr8HUEAA-lEu.jpg   \n4     666049248165822465  https://pbs.twimg.com/media/CT5IQmsXIAAKY4A.jpg   \n...                  ...                                              ...   \n2070  891327558926688256  https://pbs.twimg.com/media/DF6hr6BUMAAzZgT.jpg   \n2071  891689557279858688  https://pbs.twimg.com/media/DF_q7IAWsAEuuN8.jpg   \n2072  891815181378084864  https://pbs.twimg.com/media/DGBdLU1WsAANxJ9.jpg   \n2073  892177421306343426  https://pbs.twimg.com/media/DGGmoV4XsAAUL6n.jpg   \n2074  892420643555336193  https://pbs.twimg.com/media/DGKD1-bXoAAIAUK.jpg   \n\n      img_num                      p1   p1_conf  p1_dog                  p2  \\\n0           1  Welsh_springer_spaniel  0.465074    True              collie   \n1           1                 redbone  0.506826    True  miniature_pinscher   \n2           1         German_shepherd  0.596461    True            malinois   \n3           1     Rhodesian_ridgeback  0.408143    True             redbone   \n4           1      miniature_pinscher  0.560311    True          Rottweiler   \n...       ...                     ...       ...     ...                 ...   \n2070        2                  basset  0.555712    True    English_springer   \n2071        1             paper_towel  0.170278   False  Labrador_retriever   \n2072        1               Chihuahua  0.716012    True            malamute   \n2073        1               Chihuahua  0.323581    True            Pekinese   \n2074        1                  orange  0.097049   False               bagel   \n\n       p2_conf  p2_dog                           p3   p3_conf  p3_dog  \n0     0.156665    True            Shetland_sheepdog  0.061428    True  \n1     0.074192    True          Rhodesian_ridgeback  0.072010    True  \n2     0.138584    True                   bloodhound  0.116197    True  \n3     0.360687    True           miniature_pinscher  0.222752    True  \n4     0.243682    True                     Doberman  0.154629    True  \n...        ...     ...                          ...       ...     ...  \n2070  0.225770    True  German_short-haired_pointer  0.175219    True  \n2071  0.168086    True                      spatula  0.040836   False  \n2072  0.078253    True                       kelpie  0.031379    True  \n2073  0.090647    True                     papillon  0.068957    True  \n2074  0.085851   False                       banana  0.076110   False  \n\n[2075 rows x 12 columns]",
      "text/html": "<div>\n<style scoped>\n    .dataframe tbody tr th:only-of-type {\n        vertical-align: middle;\n    }\n\n    .dataframe tbody tr th {\n        vertical-align: top;\n    }\n\n    .dataframe thead th {\n        text-align: right;\n    }\n</style>\n<table border=\"1\" class=\"dataframe\">\n  <thead>\n    <tr style=\"text-align: right;\">\n      <th></th>\n      <th>tweet_id</th>\n      <th>jpg_url</th>\n      <th>img_num</th>\n      <th>p1</th>\n      <th>p1_conf</th>\n      <th>p1_dog</th>\n      <th>p2</th>\n      <th>p2_conf</th>\n      <th>p2_dog</th>\n      <th>p3</th>\n      <th>p3_conf</th>\n      <th>p3_dog</th>\n    </tr>\n  </thead>\n  <tbody>\n    <tr>\n      <th>0</th>\n      <td>666020888022790149</td>\n      <td>https://pbs.twimg.com/media/CT4udn0WwAA0aMy.jpg</td>\n      <td>1</td>\n      <td>Welsh_springer_spaniel</td>\n      <td>0.465074</td>\n      <td>True</td>\n      <td>collie</td>\n      <td>0.156665</td>\n      <td>True</td>\n      <td>Shetland_sheepdog</td>\n      <td>0.061428</td>\n      <td>True</td>\n    </tr>\n    <tr>\n      <th>1</th>\n      <td>666029285002620928</td>\n      <td>https://pbs.twimg.com/media/CT42GRgUYAA5iDo.jpg</td>\n      <td>1</td>\n      <td>redbone</td>\n      <td>0.506826</td>\n      <td>True</td>\n      <td>miniature_pinscher</td>\n      <td>0.074192</td>\n      <td>True</td>\n      <td>Rhodesian_ridgeback</td>\n      <td>0.072010</td>\n      <td>True</td>\n    </tr>\n    <tr>\n      <th>2</th>\n      <td>666033412701032449</td>\n      <td>https://pbs.twimg.com/media/CT4521TWwAEvMyu.jpg</td>\n      <td>1</td>\n      <td>German_shepherd</td>\n      <td>0.596461</td>\n      <td>True</td>\n      <td>malinois</td>\n      <td>0.138584</td>\n      <td>True</td>\n      <td>bloodhound</td>\n      <td>0.116197</td>\n      <td>True</td>\n    </tr>\n    <tr>\n      <th>3</th>\n      <td>666044226329800704</td>\n      <td>https://pbs.twimg.com/media/CT5Dr8HUEAA-lEu.jpg</td>\n      <td>1</td>\n      <td>Rhodesian_ridgeback</td>\n      <td>0.408143</td>\n      <td>True</td>\n      <td>redbone</td>\n      <td>0.360687</td>\n      <td>True</td>\n      <td>miniature_pinscher</td>\n      <td>0.222752</td>\n      <td>True</td>\n    </tr>\n    <tr>\n      <th>4</th>\n      <td>666049248165822465</td>\n      <td>https://pbs.twimg.com/media/CT5IQmsXIAAKY4A.jpg</td>\n      <td>1</td>\n      <td>miniature_pinscher</td>\n      <td>0.560311</td>\n      <td>True</td>\n      <td>Rottweiler</td>\n      <td>0.243682</td>\n      <td>True</td>\n      <td>Doberman</td>\n      <td>0.154629</td>\n      <td>True</td>\n    </tr>\n    <tr>\n      <th>...</th>\n      <td>...</td>\n      <td>...</td>\n      <td>...</td>\n      <td>...</td>\n      <td>...</td>\n      <td>...</td>\n      <td>...</td>\n      <td>...</td>\n      <td>...</td>\n      <td>...</td>\n      <td>...</td>\n      <td>...</td>\n    </tr>\n    <tr>\n      <th>2070</th>\n      <td>891327558926688256</td>\n      <td>https://pbs.twimg.com/media/DF6hr6BUMAAzZgT.jpg</td>\n      <td>2</td>\n      <td>basset</td>\n      <td>0.555712</td>\n      <td>True</td>\n      <td>English_springer</td>\n      <td>0.225770</td>\n      <td>True</td>\n      <td>German_short-haired_pointer</td>\n      <td>0.175219</td>\n      <td>True</td>\n    </tr>\n    <tr>\n      <th>2071</th>\n      <td>891689557279858688</td>\n      <td>https://pbs.twimg.com/media/DF_q7IAWsAEuuN8.jpg</td>\n      <td>1</td>\n      <td>paper_towel</td>\n      <td>0.170278</td>\n      <td>False</td>\n      <td>Labrador_retriever</td>\n      <td>0.168086</td>\n      <td>True</td>\n      <td>spatula</td>\n      <td>0.040836</td>\n      <td>False</td>\n    </tr>\n    <tr>\n      <th>2072</th>\n      <td>891815181378084864</td>\n      <td>https://pbs.twimg.com/media/DGBdLU1WsAANxJ9.jpg</td>\n      <td>1</td>\n      <td>Chihuahua</td>\n      <td>0.716012</td>\n      <td>True</td>\n      <td>malamute</td>\n      <td>0.078253</td>\n      <td>True</td>\n      <td>kelpie</td>\n      <td>0.031379</td>\n      <td>True</td>\n    </tr>\n    <tr>\n      <th>2073</th>\n      <td>892177421306343426</td>\n      <td>https://pbs.twimg.com/media/DGGmoV4XsAAUL6n.jpg</td>\n      <td>1</td>\n      <td>Chihuahua</td>\n      <td>0.323581</td>\n      <td>True</td>\n      <td>Pekinese</td>\n      <td>0.090647</td>\n      <td>True</td>\n      <td>papillon</td>\n      <td>0.068957</td>\n      <td>True</td>\n    </tr>\n    <tr>\n      <th>2074</th>\n      <td>892420643555336193</td>\n      <td>https://pbs.twimg.com/media/DGKD1-bXoAAIAUK.jpg</td>\n      <td>1</td>\n      <td>orange</td>\n      <td>0.097049</td>\n      <td>False</td>\n      <td>bagel</td>\n      <td>0.085851</td>\n      <td>False</td>\n      <td>banana</td>\n      <td>0.076110</td>\n      <td>False</td>\n    </tr>\n  </tbody>\n</table>\n<p>2075 rows × 12 columns</p>\n</div>"
     },
     "execution_count": 8,
     "metadata": {},
     "output_type": "execute_result"
    }
   ],
   "source": [
    "image_pred"
   ],
   "metadata": {
    "collapsed": false,
    "pycharm": {
     "name": "#%%\n"
    }
   }
  },
  {
   "cell_type": "code",
   "execution_count": 9,
   "outputs": [
    {
     "data": {
      "text/plain": "                    created_at                  id              id_str  \\\n0    2017-08-01 16:23:56+00:00  892420643555336193  892420643555336192   \n1    2017-08-01 00:17:27+00:00  892177421306343426  892177421306343424   \n2    2017-07-31 00:18:03+00:00  891815181378084864  891815181378084864   \n3    2017-07-30 15:58:51+00:00  891689557279858688  891689557279858688   \n4    2017-07-29 16:00:24+00:00  891327558926688256  891327558926688256   \n...                        ...                 ...                 ...   \n2349 2015-11-16 00:24:50+00:00  666049248165822465  666049248165822464   \n2350 2015-11-16 00:04:52+00:00  666044226329800704  666044226329800704   \n2351 2015-11-15 23:21:54+00:00  666033412701032449  666033412701032448   \n2352 2015-11-15 23:05:30+00:00  666029285002620928  666029285002620928   \n2353 2015-11-15 22:32:08+00:00  666020888022790149  666020888022790144   \n\n                                              full_text  truncated  \\\n0     This is Phineas. He's a mystical boy. Only eve...      False   \n1     This is Tilly. She's just checking pup on you....      False   \n2     This is Archie. He is a rare Norwegian Pouncin...      False   \n3     This is Darla. She commenced a snooze mid meal...      False   \n4     This is Franklin. He would like you to stop ca...      False   \n...                                                 ...        ...   \n2349  Here we have a 1949 1st generation vulpix. Enj...      False   \n2350  This is a purebred Piers Morgan. Loves to Netf...      False   \n2351  Here is a very happy pup. Big fan of well-main...      False   \n2352  This is a western brown Mitsubishi terrier. Up...      False   \n2353  Here we have a Japanese Irish Setter. Lost eye...      False   \n\n     display_text_range                                           entities  \\\n0               [0, 85]  {'hashtags': [], 'symbols': [], 'user_mentions...   \n1              [0, 138]  {'hashtags': [], 'symbols': [], 'user_mentions...   \n2              [0, 121]  {'hashtags': [], 'symbols': [], 'user_mentions...   \n3               [0, 79]  {'hashtags': [], 'symbols': [], 'user_mentions...   \n4              [0, 138]  {'hashtags': [{'text': 'BarkWeek', 'indices': ...   \n...                 ...                                                ...   \n2349           [0, 120]  {'hashtags': [], 'symbols': [], 'user_mentions...   \n2350           [0, 137]  {'hashtags': [], 'symbols': [], 'user_mentions...   \n2351           [0, 130]  {'hashtags': [], 'symbols': [], 'user_mentions...   \n2352           [0, 139]  {'hashtags': [], 'symbols': [], 'user_mentions...   \n2353           [0, 131]  {'hashtags': [], 'symbols': [], 'user_mentions...   \n\n                                      extended_entities  \\\n0     {'media': [{'id': 892420639486877696, 'id_str'...   \n1     {'media': [{'id': 892177413194625024, 'id_str'...   \n2     {'media': [{'id': 891815175371796480, 'id_str'...   \n3     {'media': [{'id': 891689552724799489, 'id_str'...   \n4     {'media': [{'id': 891327551943041024, 'id_str'...   \n...                                                 ...   \n2349  {'media': [{'id': 666049244999131136, 'id_str'...   \n2350  {'media': [{'id': 666044217047650304, 'id_str'...   \n2351  {'media': [{'id': 666033409081393153, 'id_str'...   \n2352  {'media': [{'id': 666029276303482880, 'id_str'...   \n2353  {'media': [{'id': 666020881337073664, 'id_str'...   \n\n                                                 source  \\\n0     <a href=\"http://twitter.com/download/iphone\" r...   \n1     <a href=\"http://twitter.com/download/iphone\" r...   \n2     <a href=\"http://twitter.com/download/iphone\" r...   \n3     <a href=\"http://twitter.com/download/iphone\" r...   \n4     <a href=\"http://twitter.com/download/iphone\" r...   \n...                                                 ...   \n2349  <a href=\"http://twitter.com/download/iphone\" r...   \n2350  <a href=\"http://twitter.com/download/iphone\" r...   \n2351  <a href=\"http://twitter.com/download/iphone\" r...   \n2352  <a href=\"http://twitter.com/download/iphone\" r...   \n2353  <a href=\"http://twitter.com/download/iphone\" r...   \n\n      in_reply_to_status_id  ...  favorite_count  favorited  retweeted  \\\n0                       NaN  ...           39467      False      False   \n1                       NaN  ...           33819      False      False   \n2                       NaN  ...           25461      False      False   \n3                       NaN  ...           42908      False      False   \n4                       NaN  ...           41048      False      False   \n...                     ...  ...             ...        ...        ...   \n2349                    NaN  ...             111      False      False   \n2350                    NaN  ...             311      False      False   \n2351                    NaN  ...             128      False      False   \n2352                    NaN  ...             132      False      False   \n2353                    NaN  ...            2535      False      False   \n\n     possibly_sensitive possibly_sensitive_appealable  lang  retweeted_status  \\\n0                   0.0                           0.0    en               NaN   \n1                   0.0                           0.0    en               NaN   \n2                   0.0                           0.0    en               NaN   \n3                   0.0                           0.0    en               NaN   \n4                   0.0                           0.0    en               NaN   \n...                 ...                           ...   ...               ...   \n2349                0.0                           0.0    en               NaN   \n2350                0.0                           0.0    en               NaN   \n2351                0.0                           0.0    en               NaN   \n2352                0.0                           0.0    en               NaN   \n2353                0.0                           0.0    en               NaN   \n\n     quoted_status_id  quoted_status_id_str  quoted_status  \n0                 NaN                   NaN            NaN  \n1                 NaN                   NaN            NaN  \n2                 NaN                   NaN            NaN  \n3                 NaN                   NaN            NaN  \n4                 NaN                   NaN            NaN  \n...               ...                   ...            ...  \n2349              NaN                   NaN            NaN  \n2350              NaN                   NaN            NaN  \n2351              NaN                   NaN            NaN  \n2352              NaN                   NaN            NaN  \n2353              NaN                   NaN            NaN  \n\n[2354 rows x 31 columns]",
      "text/html": "<div>\n<style scoped>\n    .dataframe tbody tr th:only-of-type {\n        vertical-align: middle;\n    }\n\n    .dataframe tbody tr th {\n        vertical-align: top;\n    }\n\n    .dataframe thead th {\n        text-align: right;\n    }\n</style>\n<table border=\"1\" class=\"dataframe\">\n  <thead>\n    <tr style=\"text-align: right;\">\n      <th></th>\n      <th>created_at</th>\n      <th>id</th>\n      <th>id_str</th>\n      <th>full_text</th>\n      <th>truncated</th>\n      <th>display_text_range</th>\n      <th>entities</th>\n      <th>extended_entities</th>\n      <th>source</th>\n      <th>in_reply_to_status_id</th>\n      <th>...</th>\n      <th>favorite_count</th>\n      <th>favorited</th>\n      <th>retweeted</th>\n      <th>possibly_sensitive</th>\n      <th>possibly_sensitive_appealable</th>\n      <th>lang</th>\n      <th>retweeted_status</th>\n      <th>quoted_status_id</th>\n      <th>quoted_status_id_str</th>\n      <th>quoted_status</th>\n    </tr>\n  </thead>\n  <tbody>\n    <tr>\n      <th>0</th>\n      <td>2017-08-01 16:23:56+00:00</td>\n      <td>892420643555336193</td>\n      <td>892420643555336192</td>\n      <td>This is Phineas. He's a mystical boy. Only eve...</td>\n      <td>False</td>\n      <td>[0, 85]</td>\n      <td>{'hashtags': [], 'symbols': [], 'user_mentions...</td>\n      <td>{'media': [{'id': 892420639486877696, 'id_str'...</td>\n      <td>&lt;a href=\"http://twitter.com/download/iphone\" r...</td>\n      <td>NaN</td>\n      <td>...</td>\n      <td>39467</td>\n      <td>False</td>\n      <td>False</td>\n      <td>0.0</td>\n      <td>0.0</td>\n      <td>en</td>\n      <td>NaN</td>\n      <td>NaN</td>\n      <td>NaN</td>\n      <td>NaN</td>\n    </tr>\n    <tr>\n      <th>1</th>\n      <td>2017-08-01 00:17:27+00:00</td>\n      <td>892177421306343426</td>\n      <td>892177421306343424</td>\n      <td>This is Tilly. She's just checking pup on you....</td>\n      <td>False</td>\n      <td>[0, 138]</td>\n      <td>{'hashtags': [], 'symbols': [], 'user_mentions...</td>\n      <td>{'media': [{'id': 892177413194625024, 'id_str'...</td>\n      <td>&lt;a href=\"http://twitter.com/download/iphone\" r...</td>\n      <td>NaN</td>\n      <td>...</td>\n      <td>33819</td>\n      <td>False</td>\n      <td>False</td>\n      <td>0.0</td>\n      <td>0.0</td>\n      <td>en</td>\n      <td>NaN</td>\n      <td>NaN</td>\n      <td>NaN</td>\n      <td>NaN</td>\n    </tr>\n    <tr>\n      <th>2</th>\n      <td>2017-07-31 00:18:03+00:00</td>\n      <td>891815181378084864</td>\n      <td>891815181378084864</td>\n      <td>This is Archie. He is a rare Norwegian Pouncin...</td>\n      <td>False</td>\n      <td>[0, 121]</td>\n      <td>{'hashtags': [], 'symbols': [], 'user_mentions...</td>\n      <td>{'media': [{'id': 891815175371796480, 'id_str'...</td>\n      <td>&lt;a href=\"http://twitter.com/download/iphone\" r...</td>\n      <td>NaN</td>\n      <td>...</td>\n      <td>25461</td>\n      <td>False</td>\n      <td>False</td>\n      <td>0.0</td>\n      <td>0.0</td>\n      <td>en</td>\n      <td>NaN</td>\n      <td>NaN</td>\n      <td>NaN</td>\n      <td>NaN</td>\n    </tr>\n    <tr>\n      <th>3</th>\n      <td>2017-07-30 15:58:51+00:00</td>\n      <td>891689557279858688</td>\n      <td>891689557279858688</td>\n      <td>This is Darla. She commenced a snooze mid meal...</td>\n      <td>False</td>\n      <td>[0, 79]</td>\n      <td>{'hashtags': [], 'symbols': [], 'user_mentions...</td>\n      <td>{'media': [{'id': 891689552724799489, 'id_str'...</td>\n      <td>&lt;a href=\"http://twitter.com/download/iphone\" r...</td>\n      <td>NaN</td>\n      <td>...</td>\n      <td>42908</td>\n      <td>False</td>\n      <td>False</td>\n      <td>0.0</td>\n      <td>0.0</td>\n      <td>en</td>\n      <td>NaN</td>\n      <td>NaN</td>\n      <td>NaN</td>\n      <td>NaN</td>\n    </tr>\n    <tr>\n      <th>4</th>\n      <td>2017-07-29 16:00:24+00:00</td>\n      <td>891327558926688256</td>\n      <td>891327558926688256</td>\n      <td>This is Franklin. He would like you to stop ca...</td>\n      <td>False</td>\n      <td>[0, 138]</td>\n      <td>{'hashtags': [{'text': 'BarkWeek', 'indices': ...</td>\n      <td>{'media': [{'id': 891327551943041024, 'id_str'...</td>\n      <td>&lt;a href=\"http://twitter.com/download/iphone\" r...</td>\n      <td>NaN</td>\n      <td>...</td>\n      <td>41048</td>\n      <td>False</td>\n      <td>False</td>\n      <td>0.0</td>\n      <td>0.0</td>\n      <td>en</td>\n      <td>NaN</td>\n      <td>NaN</td>\n      <td>NaN</td>\n      <td>NaN</td>\n    </tr>\n    <tr>\n      <th>...</th>\n      <td>...</td>\n      <td>...</td>\n      <td>...</td>\n      <td>...</td>\n      <td>...</td>\n      <td>...</td>\n      <td>...</td>\n      <td>...</td>\n      <td>...</td>\n      <td>...</td>\n      <td>...</td>\n      <td>...</td>\n      <td>...</td>\n      <td>...</td>\n      <td>...</td>\n      <td>...</td>\n      <td>...</td>\n      <td>...</td>\n      <td>...</td>\n      <td>...</td>\n      <td>...</td>\n    </tr>\n    <tr>\n      <th>2349</th>\n      <td>2015-11-16 00:24:50+00:00</td>\n      <td>666049248165822465</td>\n      <td>666049248165822464</td>\n      <td>Here we have a 1949 1st generation vulpix. Enj...</td>\n      <td>False</td>\n      <td>[0, 120]</td>\n      <td>{'hashtags': [], 'symbols': [], 'user_mentions...</td>\n      <td>{'media': [{'id': 666049244999131136, 'id_str'...</td>\n      <td>&lt;a href=\"http://twitter.com/download/iphone\" r...</td>\n      <td>NaN</td>\n      <td>...</td>\n      <td>111</td>\n      <td>False</td>\n      <td>False</td>\n      <td>0.0</td>\n      <td>0.0</td>\n      <td>en</td>\n      <td>NaN</td>\n      <td>NaN</td>\n      <td>NaN</td>\n      <td>NaN</td>\n    </tr>\n    <tr>\n      <th>2350</th>\n      <td>2015-11-16 00:04:52+00:00</td>\n      <td>666044226329800704</td>\n      <td>666044226329800704</td>\n      <td>This is a purebred Piers Morgan. Loves to Netf...</td>\n      <td>False</td>\n      <td>[0, 137]</td>\n      <td>{'hashtags': [], 'symbols': [], 'user_mentions...</td>\n      <td>{'media': [{'id': 666044217047650304, 'id_str'...</td>\n      <td>&lt;a href=\"http://twitter.com/download/iphone\" r...</td>\n      <td>NaN</td>\n      <td>...</td>\n      <td>311</td>\n      <td>False</td>\n      <td>False</td>\n      <td>0.0</td>\n      <td>0.0</td>\n      <td>en</td>\n      <td>NaN</td>\n      <td>NaN</td>\n      <td>NaN</td>\n      <td>NaN</td>\n    </tr>\n    <tr>\n      <th>2351</th>\n      <td>2015-11-15 23:21:54+00:00</td>\n      <td>666033412701032449</td>\n      <td>666033412701032448</td>\n      <td>Here is a very happy pup. Big fan of well-main...</td>\n      <td>False</td>\n      <td>[0, 130]</td>\n      <td>{'hashtags': [], 'symbols': [], 'user_mentions...</td>\n      <td>{'media': [{'id': 666033409081393153, 'id_str'...</td>\n      <td>&lt;a href=\"http://twitter.com/download/iphone\" r...</td>\n      <td>NaN</td>\n      <td>...</td>\n      <td>128</td>\n      <td>False</td>\n      <td>False</td>\n      <td>0.0</td>\n      <td>0.0</td>\n      <td>en</td>\n      <td>NaN</td>\n      <td>NaN</td>\n      <td>NaN</td>\n      <td>NaN</td>\n    </tr>\n    <tr>\n      <th>2352</th>\n      <td>2015-11-15 23:05:30+00:00</td>\n      <td>666029285002620928</td>\n      <td>666029285002620928</td>\n      <td>This is a western brown Mitsubishi terrier. Up...</td>\n      <td>False</td>\n      <td>[0, 139]</td>\n      <td>{'hashtags': [], 'symbols': [], 'user_mentions...</td>\n      <td>{'media': [{'id': 666029276303482880, 'id_str'...</td>\n      <td>&lt;a href=\"http://twitter.com/download/iphone\" r...</td>\n      <td>NaN</td>\n      <td>...</td>\n      <td>132</td>\n      <td>False</td>\n      <td>False</td>\n      <td>0.0</td>\n      <td>0.0</td>\n      <td>en</td>\n      <td>NaN</td>\n      <td>NaN</td>\n      <td>NaN</td>\n      <td>NaN</td>\n    </tr>\n    <tr>\n      <th>2353</th>\n      <td>2015-11-15 22:32:08+00:00</td>\n      <td>666020888022790149</td>\n      <td>666020888022790144</td>\n      <td>Here we have a Japanese Irish Setter. Lost eye...</td>\n      <td>False</td>\n      <td>[0, 131]</td>\n      <td>{'hashtags': [], 'symbols': [], 'user_mentions...</td>\n      <td>{'media': [{'id': 666020881337073664, 'id_str'...</td>\n      <td>&lt;a href=\"http://twitter.com/download/iphone\" r...</td>\n      <td>NaN</td>\n      <td>...</td>\n      <td>2535</td>\n      <td>False</td>\n      <td>False</td>\n      <td>0.0</td>\n      <td>0.0</td>\n      <td>en</td>\n      <td>NaN</td>\n      <td>NaN</td>\n      <td>NaN</td>\n      <td>NaN</td>\n    </tr>\n  </tbody>\n</table>\n<p>2354 rows × 31 columns</p>\n</div>"
     },
     "execution_count": 9,
     "metadata": {},
     "output_type": "execute_result"
    }
   ],
   "source": [
    "tweet_json"
   ],
   "metadata": {
    "collapsed": false,
    "pycharm": {
     "name": "#%%\n"
    }
   }
  },
  {
   "cell_type": "code",
   "execution_count": 10,
   "outputs": [
    {
     "name": "stdout",
     "output_type": "stream",
     "text": [
      "<class 'pandas.core.frame.DataFrame'>\n",
      "RangeIndex: 2356 entries, 0 to 2355\n",
      "Data columns (total 17 columns):\n",
      " #   Column                      Non-Null Count  Dtype  \n",
      "---  ------                      --------------  -----  \n",
      " 0   tweet_id                    2356 non-null   int64  \n",
      " 1   in_reply_to_status_id       78 non-null     float64\n",
      " 2   in_reply_to_user_id         78 non-null     float64\n",
      " 3   timestamp                   2356 non-null   object \n",
      " 4   source                      2356 non-null   object \n",
      " 5   text                        2356 non-null   object \n",
      " 6   retweeted_status_id         181 non-null    float64\n",
      " 7   retweeted_status_user_id    181 non-null    float64\n",
      " 8   retweeted_status_timestamp  181 non-null    object \n",
      " 9   expanded_urls               2297 non-null   object \n",
      " 10  rating_numerator            2356 non-null   int64  \n",
      " 11  rating_denominator          2356 non-null   int64  \n",
      " 12  name                        2356 non-null   object \n",
      " 13  doggo                       2356 non-null   object \n",
      " 14  floofer                     2356 non-null   object \n",
      " 15  pupper                      2356 non-null   object \n",
      " 16  puppo                       2356 non-null   object \n",
      "dtypes: float64(4), int64(3), object(10)\n",
      "memory usage: 313.0+ KB\n"
     ]
    }
   ],
   "source": [
    "twitter_archived.info()"
   ],
   "metadata": {
    "collapsed": false,
    "pycharm": {
     "name": "#%%\n"
    }
   }
  },
  {
   "cell_type": "code",
   "execution_count": 11,
   "outputs": [
    {
     "name": "stdout",
     "output_type": "stream",
     "text": [
      "<class 'pandas.core.frame.DataFrame'>\n",
      "RangeIndex: 2075 entries, 0 to 2074\n",
      "Data columns (total 12 columns):\n",
      " #   Column    Non-Null Count  Dtype  \n",
      "---  ------    --------------  -----  \n",
      " 0   tweet_id  2075 non-null   int64  \n",
      " 1   jpg_url   2075 non-null   object \n",
      " 2   img_num   2075 non-null   int64  \n",
      " 3   p1        2075 non-null   object \n",
      " 4   p1_conf   2075 non-null   float64\n",
      " 5   p1_dog    2075 non-null   bool   \n",
      " 6   p2        2075 non-null   object \n",
      " 7   p2_conf   2075 non-null   float64\n",
      " 8   p2_dog    2075 non-null   bool   \n",
      " 9   p3        2075 non-null   object \n",
      " 10  p3_conf   2075 non-null   float64\n",
      " 11  p3_dog    2075 non-null   bool   \n",
      "dtypes: bool(3), float64(3), int64(2), object(4)\n",
      "memory usage: 152.1+ KB\n"
     ]
    }
   ],
   "source": [
    "image_pred.info()"
   ],
   "metadata": {
    "collapsed": false,
    "pycharm": {
     "name": "#%%\n"
    }
   }
  },
  {
   "cell_type": "code",
   "execution_count": 12,
   "outputs": [
    {
     "name": "stdout",
     "output_type": "stream",
     "text": [
      "<class 'pandas.core.frame.DataFrame'>\n",
      "RangeIndex: 2354 entries, 0 to 2353\n",
      "Data columns (total 31 columns):\n",
      " #   Column                         Non-Null Count  Dtype              \n",
      "---  ------                         --------------  -----              \n",
      " 0   created_at                     2354 non-null   datetime64[ns, UTC]\n",
      " 1   id                             2354 non-null   int64              \n",
      " 2   id_str                         2354 non-null   int64              \n",
      " 3   full_text                      2354 non-null   object             \n",
      " 4   truncated                      2354 non-null   bool               \n",
      " 5   display_text_range             2354 non-null   object             \n",
      " 6   entities                       2354 non-null   object             \n",
      " 7   extended_entities              2073 non-null   object             \n",
      " 8   source                         2354 non-null   object             \n",
      " 9   in_reply_to_status_id          78 non-null     float64            \n",
      " 10  in_reply_to_status_id_str      78 non-null     float64            \n",
      " 11  in_reply_to_user_id            78 non-null     float64            \n",
      " 12  in_reply_to_user_id_str        78 non-null     float64            \n",
      " 13  in_reply_to_screen_name        78 non-null     object             \n",
      " 14  user                           2354 non-null   object             \n",
      " 15  geo                            0 non-null      float64            \n",
      " 16  coordinates                    0 non-null      float64            \n",
      " 17  place                          1 non-null      object             \n",
      " 18  contributors                   0 non-null      float64            \n",
      " 19  is_quote_status                2354 non-null   bool               \n",
      " 20  retweet_count                  2354 non-null   int64              \n",
      " 21  favorite_count                 2354 non-null   int64              \n",
      " 22  favorited                      2354 non-null   bool               \n",
      " 23  retweeted                      2354 non-null   bool               \n",
      " 24  possibly_sensitive             2211 non-null   float64            \n",
      " 25  possibly_sensitive_appealable  2211 non-null   float64            \n",
      " 26  lang                           2354 non-null   object             \n",
      " 27  retweeted_status               179 non-null    object             \n",
      " 28  quoted_status_id               29 non-null     float64            \n",
      " 29  quoted_status_id_str           29 non-null     float64            \n",
      " 30  quoted_status                  28 non-null     object             \n",
      "dtypes: bool(4), datetime64[ns, UTC](1), float64(11), int64(4), object(11)\n",
      "memory usage: 505.9+ KB\n"
     ]
    }
   ],
   "source": [
    "tweet_json.info()"
   ],
   "metadata": {
    "collapsed": false,
    "pycharm": {
     "name": "#%%\n"
    }
   }
  },
  {
   "cell_type": "code",
   "execution_count": 13,
   "outputs": [
    {
     "data": {
      "text/plain": "           tweet_id  in_reply_to_status_id  in_reply_to_user_id  \\\ncount  2.356000e+03           7.800000e+01         7.800000e+01   \nmean   7.427716e+17           7.455079e+17         2.014171e+16   \nstd    6.856705e+16           7.582492e+16         1.252797e+17   \nmin    6.660209e+17           6.658147e+17         1.185634e+07   \n25%    6.783989e+17           6.757419e+17         3.086374e+08   \n50%    7.196279e+17           7.038708e+17         4.196984e+09   \n75%    7.993373e+17           8.257804e+17         4.196984e+09   \nmax    8.924206e+17           8.862664e+17         8.405479e+17   \n\n       retweeted_status_id  retweeted_status_user_id  rating_numerator  \\\ncount         1.810000e+02              1.810000e+02       2356.000000   \nmean          7.720400e+17              1.241698e+16         13.126486   \nstd           6.236928e+16              9.599254e+16         45.876648   \nmin           6.661041e+17              7.832140e+05          0.000000   \n25%           7.186315e+17              4.196984e+09         10.000000   \n50%           7.804657e+17              4.196984e+09         11.000000   \n75%           8.203146e+17              4.196984e+09         12.000000   \nmax           8.874740e+17              7.874618e+17       1776.000000   \n\n       rating_denominator  \ncount         2356.000000  \nmean            10.455433  \nstd              6.745237  \nmin              0.000000  \n25%             10.000000  \n50%             10.000000  \n75%             10.000000  \nmax            170.000000  ",
      "text/html": "<div>\n<style scoped>\n    .dataframe tbody tr th:only-of-type {\n        vertical-align: middle;\n    }\n\n    .dataframe tbody tr th {\n        vertical-align: top;\n    }\n\n    .dataframe thead th {\n        text-align: right;\n    }\n</style>\n<table border=\"1\" class=\"dataframe\">\n  <thead>\n    <tr style=\"text-align: right;\">\n      <th></th>\n      <th>tweet_id</th>\n      <th>in_reply_to_status_id</th>\n      <th>in_reply_to_user_id</th>\n      <th>retweeted_status_id</th>\n      <th>retweeted_status_user_id</th>\n      <th>rating_numerator</th>\n      <th>rating_denominator</th>\n    </tr>\n  </thead>\n  <tbody>\n    <tr>\n      <th>count</th>\n      <td>2.356000e+03</td>\n      <td>7.800000e+01</td>\n      <td>7.800000e+01</td>\n      <td>1.810000e+02</td>\n      <td>1.810000e+02</td>\n      <td>2356.000000</td>\n      <td>2356.000000</td>\n    </tr>\n    <tr>\n      <th>mean</th>\n      <td>7.427716e+17</td>\n      <td>7.455079e+17</td>\n      <td>2.014171e+16</td>\n      <td>7.720400e+17</td>\n      <td>1.241698e+16</td>\n      <td>13.126486</td>\n      <td>10.455433</td>\n    </tr>\n    <tr>\n      <th>std</th>\n      <td>6.856705e+16</td>\n      <td>7.582492e+16</td>\n      <td>1.252797e+17</td>\n      <td>6.236928e+16</td>\n      <td>9.599254e+16</td>\n      <td>45.876648</td>\n      <td>6.745237</td>\n    </tr>\n    <tr>\n      <th>min</th>\n      <td>6.660209e+17</td>\n      <td>6.658147e+17</td>\n      <td>1.185634e+07</td>\n      <td>6.661041e+17</td>\n      <td>7.832140e+05</td>\n      <td>0.000000</td>\n      <td>0.000000</td>\n    </tr>\n    <tr>\n      <th>25%</th>\n      <td>6.783989e+17</td>\n      <td>6.757419e+17</td>\n      <td>3.086374e+08</td>\n      <td>7.186315e+17</td>\n      <td>4.196984e+09</td>\n      <td>10.000000</td>\n      <td>10.000000</td>\n    </tr>\n    <tr>\n      <th>50%</th>\n      <td>7.196279e+17</td>\n      <td>7.038708e+17</td>\n      <td>4.196984e+09</td>\n      <td>7.804657e+17</td>\n      <td>4.196984e+09</td>\n      <td>11.000000</td>\n      <td>10.000000</td>\n    </tr>\n    <tr>\n      <th>75%</th>\n      <td>7.993373e+17</td>\n      <td>8.257804e+17</td>\n      <td>4.196984e+09</td>\n      <td>8.203146e+17</td>\n      <td>4.196984e+09</td>\n      <td>12.000000</td>\n      <td>10.000000</td>\n    </tr>\n    <tr>\n      <th>max</th>\n      <td>8.924206e+17</td>\n      <td>8.862664e+17</td>\n      <td>8.405479e+17</td>\n      <td>8.874740e+17</td>\n      <td>7.874618e+17</td>\n      <td>1776.000000</td>\n      <td>170.000000</td>\n    </tr>\n  </tbody>\n</table>\n</div>"
     },
     "execution_count": 13,
     "metadata": {},
     "output_type": "execute_result"
    }
   ],
   "source": [
    "twitter_archived.describe()"
   ],
   "metadata": {
    "collapsed": false,
    "pycharm": {
     "name": "#%%\n"
    }
   }
  },
  {
   "cell_type": "code",
   "execution_count": 14,
   "outputs": [
    {
     "data": {
      "text/plain": "0"
     },
     "execution_count": 14,
     "metadata": {},
     "output_type": "execute_result"
    }
   ],
   "source": [
    "twitter_archived.duplicated().sum()"
   ],
   "metadata": {
    "collapsed": false,
    "pycharm": {
     "name": "#%%\n"
    }
   }
  },
  {
   "cell_type": "code",
   "execution_count": 15,
   "outputs": [
    {
     "data": {
      "text/plain": "0"
     },
     "execution_count": 15,
     "metadata": {},
     "output_type": "execute_result"
    }
   ],
   "source": [
    "image_pred.duplicated().sum()"
   ],
   "metadata": {
    "collapsed": false,
    "pycharm": {
     "name": "#%%\n"
    }
   }
  },
  {
   "cell_type": "code",
   "execution_count": 16,
   "outputs": [
    {
     "data": {
      "text/plain": "                 id        id_str  in_reply_to_status_id  \\\ncount  2.354000e+03  2.354000e+03           7.800000e+01   \nmean   7.426978e+17  7.426978e+17           7.455079e+17   \nstd    6.852812e+16  6.852812e+16           7.582492e+16   \nmin    6.660209e+17  6.660209e+17           6.658147e+17   \n25%    6.783975e+17  6.783975e+17           6.757419e+17   \n50%    7.194596e+17  7.194596e+17           7.038708e+17   \n75%    7.993058e+17  7.993058e+17           8.257804e+17   \nmax    8.924206e+17  8.924206e+17           8.862664e+17   \n\n       in_reply_to_status_id_str  in_reply_to_user_id  \\\ncount               7.800000e+01         7.800000e+01   \nmean                7.455079e+17         2.014171e+16   \nstd                 7.582492e+16         1.252797e+17   \nmin                 6.658147e+17         1.185634e+07   \n25%                 6.757419e+17         3.086374e+08   \n50%                 7.038708e+17         4.196984e+09   \n75%                 8.257804e+17         4.196984e+09   \nmax                 8.862664e+17         8.405479e+17   \n\n       in_reply_to_user_id_str  geo  coordinates  contributors  retweet_count  \\\ncount             7.800000e+01  0.0          0.0           0.0    2354.000000   \nmean              2.014171e+16  NaN          NaN           NaN    3164.797366   \nstd               1.252797e+17  NaN          NaN           NaN    5284.770364   \nmin               1.185634e+07  NaN          NaN           NaN       0.000000   \n25%               3.086374e+08  NaN          NaN           NaN     624.500000   \n50%               4.196984e+09  NaN          NaN           NaN    1473.500000   \n75%               4.196984e+09  NaN          NaN           NaN    3652.000000   \nmax               8.405479e+17  NaN          NaN           NaN   79515.000000   \n\n       favorite_count  possibly_sensitive  possibly_sensitive_appealable  \\\ncount     2354.000000              2211.0                         2211.0   \nmean      8080.968564                 0.0                            0.0   \nstd      11814.771334                 0.0                            0.0   \nmin          0.000000                 0.0                            0.0   \n25%       1415.000000                 0.0                            0.0   \n50%       3603.500000                 0.0                            0.0   \n75%      10122.250000                 0.0                            0.0   \nmax     132810.000000                 0.0                            0.0   \n\n       quoted_status_id  quoted_status_id_str  \ncount      2.900000e+01          2.900000e+01  \nmean       8.162686e+17          8.162686e+17  \nstd        6.164161e+16          6.164161e+16  \nmin        6.721083e+17          6.721083e+17  \n25%        7.888183e+17          7.888183e+17  \n50%        8.340867e+17          8.340867e+17  \n75%        8.664587e+17          8.664587e+17  \nmax        8.860534e+17          8.860534e+17  ",
      "text/html": "<div>\n<style scoped>\n    .dataframe tbody tr th:only-of-type {\n        vertical-align: middle;\n    }\n\n    .dataframe tbody tr th {\n        vertical-align: top;\n    }\n\n    .dataframe thead th {\n        text-align: right;\n    }\n</style>\n<table border=\"1\" class=\"dataframe\">\n  <thead>\n    <tr style=\"text-align: right;\">\n      <th></th>\n      <th>id</th>\n      <th>id_str</th>\n      <th>in_reply_to_status_id</th>\n      <th>in_reply_to_status_id_str</th>\n      <th>in_reply_to_user_id</th>\n      <th>in_reply_to_user_id_str</th>\n      <th>geo</th>\n      <th>coordinates</th>\n      <th>contributors</th>\n      <th>retweet_count</th>\n      <th>favorite_count</th>\n      <th>possibly_sensitive</th>\n      <th>possibly_sensitive_appealable</th>\n      <th>quoted_status_id</th>\n      <th>quoted_status_id_str</th>\n    </tr>\n  </thead>\n  <tbody>\n    <tr>\n      <th>count</th>\n      <td>2.354000e+03</td>\n      <td>2.354000e+03</td>\n      <td>7.800000e+01</td>\n      <td>7.800000e+01</td>\n      <td>7.800000e+01</td>\n      <td>7.800000e+01</td>\n      <td>0.0</td>\n      <td>0.0</td>\n      <td>0.0</td>\n      <td>2354.000000</td>\n      <td>2354.000000</td>\n      <td>2211.0</td>\n      <td>2211.0</td>\n      <td>2.900000e+01</td>\n      <td>2.900000e+01</td>\n    </tr>\n    <tr>\n      <th>mean</th>\n      <td>7.426978e+17</td>\n      <td>7.426978e+17</td>\n      <td>7.455079e+17</td>\n      <td>7.455079e+17</td>\n      <td>2.014171e+16</td>\n      <td>2.014171e+16</td>\n      <td>NaN</td>\n      <td>NaN</td>\n      <td>NaN</td>\n      <td>3164.797366</td>\n      <td>8080.968564</td>\n      <td>0.0</td>\n      <td>0.0</td>\n      <td>8.162686e+17</td>\n      <td>8.162686e+17</td>\n    </tr>\n    <tr>\n      <th>std</th>\n      <td>6.852812e+16</td>\n      <td>6.852812e+16</td>\n      <td>7.582492e+16</td>\n      <td>7.582492e+16</td>\n      <td>1.252797e+17</td>\n      <td>1.252797e+17</td>\n      <td>NaN</td>\n      <td>NaN</td>\n      <td>NaN</td>\n      <td>5284.770364</td>\n      <td>11814.771334</td>\n      <td>0.0</td>\n      <td>0.0</td>\n      <td>6.164161e+16</td>\n      <td>6.164161e+16</td>\n    </tr>\n    <tr>\n      <th>min</th>\n      <td>6.660209e+17</td>\n      <td>6.660209e+17</td>\n      <td>6.658147e+17</td>\n      <td>6.658147e+17</td>\n      <td>1.185634e+07</td>\n      <td>1.185634e+07</td>\n      <td>NaN</td>\n      <td>NaN</td>\n      <td>NaN</td>\n      <td>0.000000</td>\n      <td>0.000000</td>\n      <td>0.0</td>\n      <td>0.0</td>\n      <td>6.721083e+17</td>\n      <td>6.721083e+17</td>\n    </tr>\n    <tr>\n      <th>25%</th>\n      <td>6.783975e+17</td>\n      <td>6.783975e+17</td>\n      <td>6.757419e+17</td>\n      <td>6.757419e+17</td>\n      <td>3.086374e+08</td>\n      <td>3.086374e+08</td>\n      <td>NaN</td>\n      <td>NaN</td>\n      <td>NaN</td>\n      <td>624.500000</td>\n      <td>1415.000000</td>\n      <td>0.0</td>\n      <td>0.0</td>\n      <td>7.888183e+17</td>\n      <td>7.888183e+17</td>\n    </tr>\n    <tr>\n      <th>50%</th>\n      <td>7.194596e+17</td>\n      <td>7.194596e+17</td>\n      <td>7.038708e+17</td>\n      <td>7.038708e+17</td>\n      <td>4.196984e+09</td>\n      <td>4.196984e+09</td>\n      <td>NaN</td>\n      <td>NaN</td>\n      <td>NaN</td>\n      <td>1473.500000</td>\n      <td>3603.500000</td>\n      <td>0.0</td>\n      <td>0.0</td>\n      <td>8.340867e+17</td>\n      <td>8.340867e+17</td>\n    </tr>\n    <tr>\n      <th>75%</th>\n      <td>7.993058e+17</td>\n      <td>7.993058e+17</td>\n      <td>8.257804e+17</td>\n      <td>8.257804e+17</td>\n      <td>4.196984e+09</td>\n      <td>4.196984e+09</td>\n      <td>NaN</td>\n      <td>NaN</td>\n      <td>NaN</td>\n      <td>3652.000000</td>\n      <td>10122.250000</td>\n      <td>0.0</td>\n      <td>0.0</td>\n      <td>8.664587e+17</td>\n      <td>8.664587e+17</td>\n    </tr>\n    <tr>\n      <th>max</th>\n      <td>8.924206e+17</td>\n      <td>8.924206e+17</td>\n      <td>8.862664e+17</td>\n      <td>8.862664e+17</td>\n      <td>8.405479e+17</td>\n      <td>8.405479e+17</td>\n      <td>NaN</td>\n      <td>NaN</td>\n      <td>NaN</td>\n      <td>79515.000000</td>\n      <td>132810.000000</td>\n      <td>0.0</td>\n      <td>0.0</td>\n      <td>8.860534e+17</td>\n      <td>8.860534e+17</td>\n    </tr>\n  </tbody>\n</table>\n</div>"
     },
     "execution_count": 16,
     "metadata": {},
     "output_type": "execute_result"
    }
   ],
   "source": [
    "tweet_json.describe()"
   ],
   "metadata": {
    "collapsed": false,
    "pycharm": {
     "name": "#%%\n"
    }
   }
  },
  {
   "cell_type": "code",
   "execution_count": 17,
   "outputs": [
    {
     "data": {
      "text/plain": "1    1780\n2     198\n3      66\n4      31\nName: img_num, dtype: int64"
     },
     "execution_count": 17,
     "metadata": {},
     "output_type": "execute_result"
    }
   ],
   "source": [
    "image_pred.img_num.value_counts()"
   ],
   "metadata": {
    "collapsed": false,
    "pycharm": {
     "name": "#%%\n"
    }
   }
  },
  {
   "cell_type": "markdown",
   "metadata": {},
   "source": [
    "### Quality issues\n",
    "\n",
    "#### Archived Tweets\n",
    "##### 1. Missing Values\n",
    "\n",
    "Missing values are present in the following columns:\n",
    "\n",
    "1. in_reply_to_status_id\n",
    "\n",
    "2. in_reply_to_user_id\n",
    "\n",
    "3. retweeted_status_id\n",
    "\n",
    "4. retweeted_status_user_id\n",
    "\n",
    "5. retweeted_status_timestamp\n",
    "\n",
    "##### 2. Validity Error.\n",
    "1. The rating_numerator are sometimes above the rating_denominator column.\n",
    "\n",
    "2. Some dogs where without name\n",
    "\n",
    "#### Predicted Images with Neural Network.\n",
    "\n",
    "1. Some Images were not Dogs.\n",
    "\n",
    "#### Twitter API json file.\n",
    "##### 3. Missing Values\n",
    "Missing values present in the following columns:\n",
    "\n",
    "1. in_reply_to_status_id\n",
    "\n",
    "2. in_reply_to_status_id_str\n",
    "\n",
    "3. in_reply_to_user_id\n",
    "\n",
    "4. in_reply_to_user_id_str\n",
    "\n",
    "5. in_reply_to_screen_time\n",
    "\n",
    "6. geo\n",
    "\n",
    "7. coordinates"
   ]
  },
  {
   "cell_type": "markdown",
   "metadata": {
    "extensions": {
     "jupyter_dashboards": {
      "version": 1,
      "views": {
       "grid_default": {
        "col": 0,
        "height": 7,
        "hidden": false,
        "row": 40,
        "width": 12
       },
       "report_default": {
        "hidden": false
       }
      }
     }
    }
   },
   "source": [
    "### Tidiness issues\n",
    "1. The columns converted to strings still has an integer datatype.\n",
    "\n",
    "2."
   ]
  },
  {
   "cell_type": "markdown",
   "metadata": {
    "extensions": {
     "jupyter_dashboards": {
      "version": 1,
      "views": {
       "grid_default": {
        "col": 4,
        "height": 4,
        "hidden": false,
        "row": 32,
        "width": 4
       },
       "report_default": {
        "hidden": false
       }
      }
     }
    }
   },
   "source": [
    "## Cleaning Data\n",
    "In this section, clean **all** of the issues you documented while assessing. \n",
    "\n",
    "**Note:** Make a copy of the original data before cleaning. Cleaning includes merging individual pieces of data according to the rules of [tidy data](https://cran.r-project.org/web/packages/tidyr/vignettes/tidy-data.html). The result should be a high-quality and tidy master pandas DataFrame (or DataFrames, if appropriate)."
   ]
  },
  {
   "cell_type": "code",
   "execution_count": 18,
   "metadata": {},
   "outputs": [],
   "source": [
    "# Make copies of original pieces of data\n",
    "twitter_archived_copy = twitter_archived.copy()\n",
    "image_pred_copy = image_pred.copy()\n",
    "tweet_json_copy = tweet_json.copy()"
   ]
  },
  {
   "cell_type": "markdown",
   "metadata": {},
   "source": [
    "### Issue #1: Missing Values present in Archived Tweets."
   ]
  },
  {
   "cell_type": "markdown",
   "metadata": {},
   "source": [
    "##### Define: The Archived Tweets dataset (twitter_archived) contained missing values. To solve this issue, I would drop off the columns with large amount of missing values and drop of rows with small amount of missing values."
   ]
  },
  {
   "cell_type": "markdown",
   "metadata": {},
   "source": [
    "#### Codes\n",
    "\n",
    "A function to drop off missing values is written first"
   ]
  },
  {
   "cell_type": "code",
   "execution_count": 19,
   "metadata": {},
   "outputs": [],
   "source": [
    "def drop_missing(df, lists, axis):\n",
    "    \"\"\" The function takes in a dataset and a list of the columns to be dropped off, also the axis to be dropped from.\"\"\"\n",
    "    df.drop(lists, axis= axis, inplace = True)\n",
    "    return df.head()"
   ]
  },
  {
   "cell_type": "code",
   "execution_count": 20,
   "outputs": [
    {
     "name": "stdout",
     "output_type": "stream",
     "text": [
      "<class 'pandas.core.frame.DataFrame'>\n",
      "RangeIndex: 2356 entries, 0 to 2355\n",
      "Data columns (total 17 columns):\n",
      " #   Column                      Non-Null Count  Dtype  \n",
      "---  ------                      --------------  -----  \n",
      " 0   tweet_id                    2356 non-null   int64  \n",
      " 1   in_reply_to_status_id       78 non-null     float64\n",
      " 2   in_reply_to_user_id         78 non-null     float64\n",
      " 3   timestamp                   2356 non-null   object \n",
      " 4   source                      2356 non-null   object \n",
      " 5   text                        2356 non-null   object \n",
      " 6   retweeted_status_id         181 non-null    float64\n",
      " 7   retweeted_status_user_id    181 non-null    float64\n",
      " 8   retweeted_status_timestamp  181 non-null    object \n",
      " 9   expanded_urls               2297 non-null   object \n",
      " 10  rating_numerator            2356 non-null   int64  \n",
      " 11  rating_denominator          2356 non-null   int64  \n",
      " 12  name                        2356 non-null   object \n",
      " 13  doggo                       2356 non-null   object \n",
      " 14  floofer                     2356 non-null   object \n",
      " 15  pupper                      2356 non-null   object \n",
      " 16  puppo                       2356 non-null   object \n",
      "dtypes: float64(4), int64(3), object(10)\n",
      "memory usage: 313.0+ KB\n"
     ]
    }
   ],
   "source": [
    "twitter_archived_copy.info()"
   ],
   "metadata": {
    "collapsed": false,
    "pycharm": {
     "name": "#%%\n"
    }
   }
  },
  {
   "cell_type": "code",
   "execution_count": 21,
   "outputs": [
    {
     "data": {
      "text/plain": "             tweet_id                  timestamp  \\\n0  892420643555336193  2017-08-01 16:23:56 +0000   \n1  892177421306343426  2017-08-01 00:17:27 +0000   \n2  891815181378084864  2017-07-31 00:18:03 +0000   \n3  891689557279858688  2017-07-30 15:58:51 +0000   \n4  891327558926688256  2017-07-29 16:00:24 +0000   \n\n                                              source  \\\n0  <a href=\"http://twitter.com/download/iphone\" r...   \n1  <a href=\"http://twitter.com/download/iphone\" r...   \n2  <a href=\"http://twitter.com/download/iphone\" r...   \n3  <a href=\"http://twitter.com/download/iphone\" r...   \n4  <a href=\"http://twitter.com/download/iphone\" r...   \n\n                                                text  rating_numerator  \\\n0  This is Phineas. He's a mystical boy. Only eve...                13   \n1  This is Tilly. She's just checking pup on you....                13   \n2  This is Archie. He is a rare Norwegian Pouncin...                12   \n3  This is Darla. She commenced a snooze mid meal...                13   \n4  This is Franklin. He would like you to stop ca...                12   \n\n   rating_denominator      name doggo floofer pupper puppo  \n0                  10   Phineas  None    None   None  None  \n1                  10     Tilly  None    None   None  None  \n2                  10    Archie  None    None   None  None  \n3                  10     Darla  None    None   None  None  \n4                  10  Franklin  None    None   None  None  ",
      "text/html": "<div>\n<style scoped>\n    .dataframe tbody tr th:only-of-type {\n        vertical-align: middle;\n    }\n\n    .dataframe tbody tr th {\n        vertical-align: top;\n    }\n\n    .dataframe thead th {\n        text-align: right;\n    }\n</style>\n<table border=\"1\" class=\"dataframe\">\n  <thead>\n    <tr style=\"text-align: right;\">\n      <th></th>\n      <th>tweet_id</th>\n      <th>timestamp</th>\n      <th>source</th>\n      <th>text</th>\n      <th>rating_numerator</th>\n      <th>rating_denominator</th>\n      <th>name</th>\n      <th>doggo</th>\n      <th>floofer</th>\n      <th>pupper</th>\n      <th>puppo</th>\n    </tr>\n  </thead>\n  <tbody>\n    <tr>\n      <th>0</th>\n      <td>892420643555336193</td>\n      <td>2017-08-01 16:23:56 +0000</td>\n      <td>&lt;a href=\"http://twitter.com/download/iphone\" r...</td>\n      <td>This is Phineas. He's a mystical boy. Only eve...</td>\n      <td>13</td>\n      <td>10</td>\n      <td>Phineas</td>\n      <td>None</td>\n      <td>None</td>\n      <td>None</td>\n      <td>None</td>\n    </tr>\n    <tr>\n      <th>1</th>\n      <td>892177421306343426</td>\n      <td>2017-08-01 00:17:27 +0000</td>\n      <td>&lt;a href=\"http://twitter.com/download/iphone\" r...</td>\n      <td>This is Tilly. She's just checking pup on you....</td>\n      <td>13</td>\n      <td>10</td>\n      <td>Tilly</td>\n      <td>None</td>\n      <td>None</td>\n      <td>None</td>\n      <td>None</td>\n    </tr>\n    <tr>\n      <th>2</th>\n      <td>891815181378084864</td>\n      <td>2017-07-31 00:18:03 +0000</td>\n      <td>&lt;a href=\"http://twitter.com/download/iphone\" r...</td>\n      <td>This is Archie. He is a rare Norwegian Pouncin...</td>\n      <td>12</td>\n      <td>10</td>\n      <td>Archie</td>\n      <td>None</td>\n      <td>None</td>\n      <td>None</td>\n      <td>None</td>\n    </tr>\n    <tr>\n      <th>3</th>\n      <td>891689557279858688</td>\n      <td>2017-07-30 15:58:51 +0000</td>\n      <td>&lt;a href=\"http://twitter.com/download/iphone\" r...</td>\n      <td>This is Darla. She commenced a snooze mid meal...</td>\n      <td>13</td>\n      <td>10</td>\n      <td>Darla</td>\n      <td>None</td>\n      <td>None</td>\n      <td>None</td>\n      <td>None</td>\n    </tr>\n    <tr>\n      <th>4</th>\n      <td>891327558926688256</td>\n      <td>2017-07-29 16:00:24 +0000</td>\n      <td>&lt;a href=\"http://twitter.com/download/iphone\" r...</td>\n      <td>This is Franklin. He would like you to stop ca...</td>\n      <td>12</td>\n      <td>10</td>\n      <td>Franklin</td>\n      <td>None</td>\n      <td>None</td>\n      <td>None</td>\n      <td>None</td>\n    </tr>\n  </tbody>\n</table>\n</div>"
     },
     "execution_count": 21,
     "metadata": {},
     "output_type": "execute_result"
    }
   ],
   "source": [
    "drop_col = ['in_reply_to_status_id', 'in_reply_to_user_id', 'retweeted_status_id', 'retweeted_status_user_id','retweeted_status_timestamp', 'expanded_urls']\n",
    "drop_missing(twitter_archived_copy, drop_col, axis= 1)"
   ],
   "metadata": {
    "collapsed": false,
    "pycharm": {
     "name": "#%%\n"
    }
   }
  },
  {
   "cell_type": "markdown",
   "metadata": {},
   "source": [
    "#### Test"
   ]
  },
  {
   "cell_type": "code",
   "execution_count": 22,
   "metadata": {},
   "outputs": [
    {
     "name": "stdout",
     "output_type": "stream",
     "text": [
      "<class 'pandas.core.frame.DataFrame'>\n",
      "RangeIndex: 2356 entries, 0 to 2355\n",
      "Data columns (total 11 columns):\n",
      " #   Column              Non-Null Count  Dtype \n",
      "---  ------              --------------  ----- \n",
      " 0   tweet_id            2356 non-null   int64 \n",
      " 1   timestamp           2356 non-null   object\n",
      " 2   source              2356 non-null   object\n",
      " 3   text                2356 non-null   object\n",
      " 4   rating_numerator    2356 non-null   int64 \n",
      " 5   rating_denominator  2356 non-null   int64 \n",
      " 6   name                2356 non-null   object\n",
      " 7   doggo               2356 non-null   object\n",
      " 8   floofer             2356 non-null   object\n",
      " 9   pupper              2356 non-null   object\n",
      " 10  puppo               2356 non-null   object\n",
      "dtypes: int64(3), object(8)\n",
      "memory usage: 202.6+ KB\n"
     ]
    }
   ],
   "source": [
    "twitter_archived_copy.info()"
   ]
  },
  {
   "cell_type": "markdown",
   "source": [
    "The data is reduced to 2297 from 2356."
   ],
   "metadata": {
    "collapsed": false,
    "pycharm": {
     "name": "#%% md\n"
    }
   }
  },
  {
   "cell_type": "markdown",
   "metadata": {},
   "source": [
    "### Issue #2: Missing Values are present in the JSON file extracted from the Twitter API"
   ]
  },
  {
   "cell_type": "markdown",
   "metadata": {
    "collapsed": true,
    "extensions": {
     "jupyter_dashboards": {
      "version": 1,
      "views": {
       "grid_default": {
        "hidden": true
       },
       "report_default": {
        "hidden": true
       }
      }
     }
    }
   },
   "source": [
    "##### Define: The missing values present are to be dropped since the values are not easily replaced. I would use the function defined above.\n"
   ]
  },
  {
   "cell_type": "markdown",
   "metadata": {},
   "source": [
    "#### Code"
   ]
  },
  {
   "cell_type": "code",
   "execution_count": 23,
   "outputs": [
    {
     "name": "stdout",
     "output_type": "stream",
     "text": [
      "<class 'pandas.core.frame.DataFrame'>\n",
      "RangeIndex: 2354 entries, 0 to 2353\n",
      "Data columns (total 31 columns):\n",
      " #   Column                         Non-Null Count  Dtype              \n",
      "---  ------                         --------------  -----              \n",
      " 0   created_at                     2354 non-null   datetime64[ns, UTC]\n",
      " 1   id                             2354 non-null   int64              \n",
      " 2   id_str                         2354 non-null   int64              \n",
      " 3   full_text                      2354 non-null   object             \n",
      " 4   truncated                      2354 non-null   bool               \n",
      " 5   display_text_range             2354 non-null   object             \n",
      " 6   entities                       2354 non-null   object             \n",
      " 7   extended_entities              2073 non-null   object             \n",
      " 8   source                         2354 non-null   object             \n",
      " 9   in_reply_to_status_id          78 non-null     float64            \n",
      " 10  in_reply_to_status_id_str      78 non-null     float64            \n",
      " 11  in_reply_to_user_id            78 non-null     float64            \n",
      " 12  in_reply_to_user_id_str        78 non-null     float64            \n",
      " 13  in_reply_to_screen_name        78 non-null     object             \n",
      " 14  user                           2354 non-null   object             \n",
      " 15  geo                            0 non-null      float64            \n",
      " 16  coordinates                    0 non-null      float64            \n",
      " 17  place                          1 non-null      object             \n",
      " 18  contributors                   0 non-null      float64            \n",
      " 19  is_quote_status                2354 non-null   bool               \n",
      " 20  retweet_count                  2354 non-null   int64              \n",
      " 21  favorite_count                 2354 non-null   int64              \n",
      " 22  favorited                      2354 non-null   bool               \n",
      " 23  retweeted                      2354 non-null   bool               \n",
      " 24  possibly_sensitive             2211 non-null   float64            \n",
      " 25  possibly_sensitive_appealable  2211 non-null   float64            \n",
      " 26  lang                           2354 non-null   object             \n",
      " 27  retweeted_status               179 non-null    object             \n",
      " 28  quoted_status_id               29 non-null     float64            \n",
      " 29  quoted_status_id_str           29 non-null     float64            \n",
      " 30  quoted_status                  28 non-null     object             \n",
      "dtypes: bool(4), datetime64[ns, UTC](1), float64(11), int64(4), object(11)\n",
      "memory usage: 505.9+ KB\n"
     ]
    }
   ],
   "source": [
    "tweet_json.info()"
   ],
   "metadata": {
    "collapsed": false,
    "pycharm": {
     "name": "#%%\n"
    }
   }
  },
  {
   "cell_type": "code",
   "execution_count": 24,
   "outputs": [],
   "source": [
    "drop_json = ['in_reply_to_status_id', 'in_reply_to_status_id_str','in_reply_to_user_id','in_reply_to_user_id_str','in_reply_to_screen_name', 'geo','coordinates', 'retweeted_status', 'quoted_status_id', 'quoted_status_id', 'quoted_status_id_str','quoted_status']"
   ],
   "metadata": {
    "collapsed": false,
    "pycharm": {
     "name": "#%%\n"
    }
   }
  },
  {
   "cell_type": "code",
   "execution_count": 25,
   "outputs": [
    {
     "data": {
      "text/plain": "                 created_at                  id              id_str  \\\n0 2017-08-01 16:23:56+00:00  892420643555336193  892420643555336192   \n1 2017-08-01 00:17:27+00:00  892177421306343426  892177421306343424   \n2 2017-07-31 00:18:03+00:00  891815181378084864  891815181378084864   \n3 2017-07-30 15:58:51+00:00  891689557279858688  891689557279858688   \n4 2017-07-29 16:00:24+00:00  891327558926688256  891327558926688256   \n\n                                           full_text  truncated  \\\n0  This is Phineas. He's a mystical boy. Only eve...      False   \n1  This is Tilly. She's just checking pup on you....      False   \n2  This is Archie. He is a rare Norwegian Pouncin...      False   \n3  This is Darla. She commenced a snooze mid meal...      False   \n4  This is Franklin. He would like you to stop ca...      False   \n\n  display_text_range                                           entities  \\\n0            [0, 85]  {'hashtags': [], 'symbols': [], 'user_mentions...   \n1           [0, 138]  {'hashtags': [], 'symbols': [], 'user_mentions...   \n2           [0, 121]  {'hashtags': [], 'symbols': [], 'user_mentions...   \n3            [0, 79]  {'hashtags': [], 'symbols': [], 'user_mentions...   \n4           [0, 138]  {'hashtags': [{'text': 'BarkWeek', 'indices': ...   \n\n                                   extended_entities  \\\n0  {'media': [{'id': 892420639486877696, 'id_str'...   \n1  {'media': [{'id': 892177413194625024, 'id_str'...   \n2  {'media': [{'id': 891815175371796480, 'id_str'...   \n3  {'media': [{'id': 891689552724799489, 'id_str'...   \n4  {'media': [{'id': 891327551943041024, 'id_str'...   \n\n                                              source  \\\n0  <a href=\"http://twitter.com/download/iphone\" r...   \n1  <a href=\"http://twitter.com/download/iphone\" r...   \n2  <a href=\"http://twitter.com/download/iphone\" r...   \n3  <a href=\"http://twitter.com/download/iphone\" r...   \n4  <a href=\"http://twitter.com/download/iphone\" r...   \n\n                                                user place  contributors  \\\n0  {'id': 4196983835, 'id_str': '4196983835', 'na...  None           NaN   \n1  {'id': 4196983835, 'id_str': '4196983835', 'na...  None           NaN   \n2  {'id': 4196983835, 'id_str': '4196983835', 'na...  None           NaN   \n3  {'id': 4196983835, 'id_str': '4196983835', 'na...  None           NaN   \n4  {'id': 4196983835, 'id_str': '4196983835', 'na...  None           NaN   \n\n   is_quote_status  retweet_count  favorite_count  favorited  retweeted  \\\n0            False           8853           39467      False      False   \n1            False           6514           33819      False      False   \n2            False           4328           25461      False      False   \n3            False           8964           42908      False      False   \n4            False           9774           41048      False      False   \n\n   possibly_sensitive  possibly_sensitive_appealable lang  \n0                 0.0                            0.0   en  \n1                 0.0                            0.0   en  \n2                 0.0                            0.0   en  \n3                 0.0                            0.0   en  \n4                 0.0                            0.0   en  ",
      "text/html": "<div>\n<style scoped>\n    .dataframe tbody tr th:only-of-type {\n        vertical-align: middle;\n    }\n\n    .dataframe tbody tr th {\n        vertical-align: top;\n    }\n\n    .dataframe thead th {\n        text-align: right;\n    }\n</style>\n<table border=\"1\" class=\"dataframe\">\n  <thead>\n    <tr style=\"text-align: right;\">\n      <th></th>\n      <th>created_at</th>\n      <th>id</th>\n      <th>id_str</th>\n      <th>full_text</th>\n      <th>truncated</th>\n      <th>display_text_range</th>\n      <th>entities</th>\n      <th>extended_entities</th>\n      <th>source</th>\n      <th>user</th>\n      <th>place</th>\n      <th>contributors</th>\n      <th>is_quote_status</th>\n      <th>retweet_count</th>\n      <th>favorite_count</th>\n      <th>favorited</th>\n      <th>retweeted</th>\n      <th>possibly_sensitive</th>\n      <th>possibly_sensitive_appealable</th>\n      <th>lang</th>\n    </tr>\n  </thead>\n  <tbody>\n    <tr>\n      <th>0</th>\n      <td>2017-08-01 16:23:56+00:00</td>\n      <td>892420643555336193</td>\n      <td>892420643555336192</td>\n      <td>This is Phineas. He's a mystical boy. Only eve...</td>\n      <td>False</td>\n      <td>[0, 85]</td>\n      <td>{'hashtags': [], 'symbols': [], 'user_mentions...</td>\n      <td>{'media': [{'id': 892420639486877696, 'id_str'...</td>\n      <td>&lt;a href=\"http://twitter.com/download/iphone\" r...</td>\n      <td>{'id': 4196983835, 'id_str': '4196983835', 'na...</td>\n      <td>None</td>\n      <td>NaN</td>\n      <td>False</td>\n      <td>8853</td>\n      <td>39467</td>\n      <td>False</td>\n      <td>False</td>\n      <td>0.0</td>\n      <td>0.0</td>\n      <td>en</td>\n    </tr>\n    <tr>\n      <th>1</th>\n      <td>2017-08-01 00:17:27+00:00</td>\n      <td>892177421306343426</td>\n      <td>892177421306343424</td>\n      <td>This is Tilly. She's just checking pup on you....</td>\n      <td>False</td>\n      <td>[0, 138]</td>\n      <td>{'hashtags': [], 'symbols': [], 'user_mentions...</td>\n      <td>{'media': [{'id': 892177413194625024, 'id_str'...</td>\n      <td>&lt;a href=\"http://twitter.com/download/iphone\" r...</td>\n      <td>{'id': 4196983835, 'id_str': '4196983835', 'na...</td>\n      <td>None</td>\n      <td>NaN</td>\n      <td>False</td>\n      <td>6514</td>\n      <td>33819</td>\n      <td>False</td>\n      <td>False</td>\n      <td>0.0</td>\n      <td>0.0</td>\n      <td>en</td>\n    </tr>\n    <tr>\n      <th>2</th>\n      <td>2017-07-31 00:18:03+00:00</td>\n      <td>891815181378084864</td>\n      <td>891815181378084864</td>\n      <td>This is Archie. He is a rare Norwegian Pouncin...</td>\n      <td>False</td>\n      <td>[0, 121]</td>\n      <td>{'hashtags': [], 'symbols': [], 'user_mentions...</td>\n      <td>{'media': [{'id': 891815175371796480, 'id_str'...</td>\n      <td>&lt;a href=\"http://twitter.com/download/iphone\" r...</td>\n      <td>{'id': 4196983835, 'id_str': '4196983835', 'na...</td>\n      <td>None</td>\n      <td>NaN</td>\n      <td>False</td>\n      <td>4328</td>\n      <td>25461</td>\n      <td>False</td>\n      <td>False</td>\n      <td>0.0</td>\n      <td>0.0</td>\n      <td>en</td>\n    </tr>\n    <tr>\n      <th>3</th>\n      <td>2017-07-30 15:58:51+00:00</td>\n      <td>891689557279858688</td>\n      <td>891689557279858688</td>\n      <td>This is Darla. She commenced a snooze mid meal...</td>\n      <td>False</td>\n      <td>[0, 79]</td>\n      <td>{'hashtags': [], 'symbols': [], 'user_mentions...</td>\n      <td>{'media': [{'id': 891689552724799489, 'id_str'...</td>\n      <td>&lt;a href=\"http://twitter.com/download/iphone\" r...</td>\n      <td>{'id': 4196983835, 'id_str': '4196983835', 'na...</td>\n      <td>None</td>\n      <td>NaN</td>\n      <td>False</td>\n      <td>8964</td>\n      <td>42908</td>\n      <td>False</td>\n      <td>False</td>\n      <td>0.0</td>\n      <td>0.0</td>\n      <td>en</td>\n    </tr>\n    <tr>\n      <th>4</th>\n      <td>2017-07-29 16:00:24+00:00</td>\n      <td>891327558926688256</td>\n      <td>891327558926688256</td>\n      <td>This is Franklin. He would like you to stop ca...</td>\n      <td>False</td>\n      <td>[0, 138]</td>\n      <td>{'hashtags': [{'text': 'BarkWeek', 'indices': ...</td>\n      <td>{'media': [{'id': 891327551943041024, 'id_str'...</td>\n      <td>&lt;a href=\"http://twitter.com/download/iphone\" r...</td>\n      <td>{'id': 4196983835, 'id_str': '4196983835', 'na...</td>\n      <td>None</td>\n      <td>NaN</td>\n      <td>False</td>\n      <td>9774</td>\n      <td>41048</td>\n      <td>False</td>\n      <td>False</td>\n      <td>0.0</td>\n      <td>0.0</td>\n      <td>en</td>\n    </tr>\n  </tbody>\n</table>\n</div>"
     },
     "execution_count": 25,
     "metadata": {},
     "output_type": "execute_result"
    }
   ],
   "source": [
    "drop_missing(df= tweet_json_copy, lists=drop_json, axis= 1)"
   ],
   "metadata": {
    "collapsed": false,
    "pycharm": {
     "name": "#%%\n"
    }
   }
  },
  {
   "cell_type": "markdown",
   "metadata": {},
   "source": [
    "#### Test"
   ]
  },
  {
   "cell_type": "code",
   "execution_count": 26,
   "metadata": {},
   "outputs": [
    {
     "data": {
      "text/plain": "                 created_at                  id              id_str  \\\n0 2017-08-01 16:23:56+00:00  892420643555336193  892420643555336192   \n1 2017-08-01 00:17:27+00:00  892177421306343426  892177421306343424   \n2 2017-07-31 00:18:03+00:00  891815181378084864  891815181378084864   \n3 2017-07-30 15:58:51+00:00  891689557279858688  891689557279858688   \n4 2017-07-29 16:00:24+00:00  891327558926688256  891327558926688256   \n\n                                           full_text  truncated  \\\n0  This is Phineas. He's a mystical boy. Only eve...      False   \n1  This is Tilly. She's just checking pup on you....      False   \n2  This is Archie. He is a rare Norwegian Pouncin...      False   \n3  This is Darla. She commenced a snooze mid meal...      False   \n4  This is Franklin. He would like you to stop ca...      False   \n\n  display_text_range                                           entities  \\\n0            [0, 85]  {'hashtags': [], 'symbols': [], 'user_mentions...   \n1           [0, 138]  {'hashtags': [], 'symbols': [], 'user_mentions...   \n2           [0, 121]  {'hashtags': [], 'symbols': [], 'user_mentions...   \n3            [0, 79]  {'hashtags': [], 'symbols': [], 'user_mentions...   \n4           [0, 138]  {'hashtags': [{'text': 'BarkWeek', 'indices': ...   \n\n                                   extended_entities  \\\n0  {'media': [{'id': 892420639486877696, 'id_str'...   \n1  {'media': [{'id': 892177413194625024, 'id_str'...   \n2  {'media': [{'id': 891815175371796480, 'id_str'...   \n3  {'media': [{'id': 891689552724799489, 'id_str'...   \n4  {'media': [{'id': 891327551943041024, 'id_str'...   \n\n                                              source  \\\n0  <a href=\"http://twitter.com/download/iphone\" r...   \n1  <a href=\"http://twitter.com/download/iphone\" r...   \n2  <a href=\"http://twitter.com/download/iphone\" r...   \n3  <a href=\"http://twitter.com/download/iphone\" r...   \n4  <a href=\"http://twitter.com/download/iphone\" r...   \n\n                                                user place  contributors  \\\n0  {'id': 4196983835, 'id_str': '4196983835', 'na...  None           NaN   \n1  {'id': 4196983835, 'id_str': '4196983835', 'na...  None           NaN   \n2  {'id': 4196983835, 'id_str': '4196983835', 'na...  None           NaN   \n3  {'id': 4196983835, 'id_str': '4196983835', 'na...  None           NaN   \n4  {'id': 4196983835, 'id_str': '4196983835', 'na...  None           NaN   \n\n   is_quote_status  retweet_count  favorite_count  favorited  retweeted  \\\n0            False           8853           39467      False      False   \n1            False           6514           33819      False      False   \n2            False           4328           25461      False      False   \n3            False           8964           42908      False      False   \n4            False           9774           41048      False      False   \n\n   possibly_sensitive  possibly_sensitive_appealable lang  \n0                 0.0                            0.0   en  \n1                 0.0                            0.0   en  \n2                 0.0                            0.0   en  \n3                 0.0                            0.0   en  \n4                 0.0                            0.0   en  ",
      "text/html": "<div>\n<style scoped>\n    .dataframe tbody tr th:only-of-type {\n        vertical-align: middle;\n    }\n\n    .dataframe tbody tr th {\n        vertical-align: top;\n    }\n\n    .dataframe thead th {\n        text-align: right;\n    }\n</style>\n<table border=\"1\" class=\"dataframe\">\n  <thead>\n    <tr style=\"text-align: right;\">\n      <th></th>\n      <th>created_at</th>\n      <th>id</th>\n      <th>id_str</th>\n      <th>full_text</th>\n      <th>truncated</th>\n      <th>display_text_range</th>\n      <th>entities</th>\n      <th>extended_entities</th>\n      <th>source</th>\n      <th>user</th>\n      <th>place</th>\n      <th>contributors</th>\n      <th>is_quote_status</th>\n      <th>retweet_count</th>\n      <th>favorite_count</th>\n      <th>favorited</th>\n      <th>retweeted</th>\n      <th>possibly_sensitive</th>\n      <th>possibly_sensitive_appealable</th>\n      <th>lang</th>\n    </tr>\n  </thead>\n  <tbody>\n    <tr>\n      <th>0</th>\n      <td>2017-08-01 16:23:56+00:00</td>\n      <td>892420643555336193</td>\n      <td>892420643555336192</td>\n      <td>This is Phineas. He's a mystical boy. Only eve...</td>\n      <td>False</td>\n      <td>[0, 85]</td>\n      <td>{'hashtags': [], 'symbols': [], 'user_mentions...</td>\n      <td>{'media': [{'id': 892420639486877696, 'id_str'...</td>\n      <td>&lt;a href=\"http://twitter.com/download/iphone\" r...</td>\n      <td>{'id': 4196983835, 'id_str': '4196983835', 'na...</td>\n      <td>None</td>\n      <td>NaN</td>\n      <td>False</td>\n      <td>8853</td>\n      <td>39467</td>\n      <td>False</td>\n      <td>False</td>\n      <td>0.0</td>\n      <td>0.0</td>\n      <td>en</td>\n    </tr>\n    <tr>\n      <th>1</th>\n      <td>2017-08-01 00:17:27+00:00</td>\n      <td>892177421306343426</td>\n      <td>892177421306343424</td>\n      <td>This is Tilly. She's just checking pup on you....</td>\n      <td>False</td>\n      <td>[0, 138]</td>\n      <td>{'hashtags': [], 'symbols': [], 'user_mentions...</td>\n      <td>{'media': [{'id': 892177413194625024, 'id_str'...</td>\n      <td>&lt;a href=\"http://twitter.com/download/iphone\" r...</td>\n      <td>{'id': 4196983835, 'id_str': '4196983835', 'na...</td>\n      <td>None</td>\n      <td>NaN</td>\n      <td>False</td>\n      <td>6514</td>\n      <td>33819</td>\n      <td>False</td>\n      <td>False</td>\n      <td>0.0</td>\n      <td>0.0</td>\n      <td>en</td>\n    </tr>\n    <tr>\n      <th>2</th>\n      <td>2017-07-31 00:18:03+00:00</td>\n      <td>891815181378084864</td>\n      <td>891815181378084864</td>\n      <td>This is Archie. He is a rare Norwegian Pouncin...</td>\n      <td>False</td>\n      <td>[0, 121]</td>\n      <td>{'hashtags': [], 'symbols': [], 'user_mentions...</td>\n      <td>{'media': [{'id': 891815175371796480, 'id_str'...</td>\n      <td>&lt;a href=\"http://twitter.com/download/iphone\" r...</td>\n      <td>{'id': 4196983835, 'id_str': '4196983835', 'na...</td>\n      <td>None</td>\n      <td>NaN</td>\n      <td>False</td>\n      <td>4328</td>\n      <td>25461</td>\n      <td>False</td>\n      <td>False</td>\n      <td>0.0</td>\n      <td>0.0</td>\n      <td>en</td>\n    </tr>\n    <tr>\n      <th>3</th>\n      <td>2017-07-30 15:58:51+00:00</td>\n      <td>891689557279858688</td>\n      <td>891689557279858688</td>\n      <td>This is Darla. She commenced a snooze mid meal...</td>\n      <td>False</td>\n      <td>[0, 79]</td>\n      <td>{'hashtags': [], 'symbols': [], 'user_mentions...</td>\n      <td>{'media': [{'id': 891689552724799489, 'id_str'...</td>\n      <td>&lt;a href=\"http://twitter.com/download/iphone\" r...</td>\n      <td>{'id': 4196983835, 'id_str': '4196983835', 'na...</td>\n      <td>None</td>\n      <td>NaN</td>\n      <td>False</td>\n      <td>8964</td>\n      <td>42908</td>\n      <td>False</td>\n      <td>False</td>\n      <td>0.0</td>\n      <td>0.0</td>\n      <td>en</td>\n    </tr>\n    <tr>\n      <th>4</th>\n      <td>2017-07-29 16:00:24+00:00</td>\n      <td>891327558926688256</td>\n      <td>891327558926688256</td>\n      <td>This is Franklin. He would like you to stop ca...</td>\n      <td>False</td>\n      <td>[0, 138]</td>\n      <td>{'hashtags': [{'text': 'BarkWeek', 'indices': ...</td>\n      <td>{'media': [{'id': 891327551943041024, 'id_str'...</td>\n      <td>&lt;a href=\"http://twitter.com/download/iphone\" r...</td>\n      <td>{'id': 4196983835, 'id_str': '4196983835', 'na...</td>\n      <td>None</td>\n      <td>NaN</td>\n      <td>False</td>\n      <td>9774</td>\n      <td>41048</td>\n      <td>False</td>\n      <td>False</td>\n      <td>0.0</td>\n      <td>0.0</td>\n      <td>en</td>\n    </tr>\n  </tbody>\n</table>\n</div>"
     },
     "execution_count": 26,
     "metadata": {},
     "output_type": "execute_result"
    }
   ],
   "source": [
    "tweet_json_copy.head()"
   ]
  },
  {
   "cell_type": "code",
   "execution_count": null,
   "outputs": [],
   "source": [],
   "metadata": {
    "collapsed": false,
    "pycharm": {
     "name": "#%%\n"
    }
   }
  },
  {
   "cell_type": "markdown",
   "source": [
    "#### Issue 3: Wrong datatypes."
   ],
   "metadata": {
    "collapsed": false,
    "pycharm": {
     "name": "#%% md\n"
    }
   }
  },
  {
   "cell_type": "markdown",
   "source": [
    "##### Define: Some columns present in the tweet_json dataset have a wrong datatype. I would go ahead to change the datatype of this columns"
   ],
   "metadata": {
    "collapsed": false,
    "pycharm": {
     "name": "#%% md\n"
    }
   }
  },
  {
   "cell_type": "markdown",
   "source": [
    "#### Code"
   ],
   "metadata": {
    "collapsed": false,
    "pycharm": {
     "name": "#%% md\n"
    }
   }
  },
  {
   "cell_type": "code",
   "execution_count": 32,
   "outputs": [],
   "source": [
    "def change_type(df, col, dtype):\n",
    "    df[col] = df[col].astype(str(dtype))\n",
    "    return df.info()"
   ],
   "metadata": {
    "collapsed": false,
    "pycharm": {
     "name": "#%%\n"
    }
   }
  },
  {
   "cell_type": "code",
   "execution_count": 33,
   "outputs": [
    {
     "name": "stdout",
     "output_type": "stream",
     "text": [
      "<class 'pandas.core.frame.DataFrame'>\n",
      "RangeIndex: 2354 entries, 0 to 2353\n",
      "Data columns (total 20 columns):\n",
      " #   Column                         Non-Null Count  Dtype              \n",
      "---  ------                         --------------  -----              \n",
      " 0   created_at                     2354 non-null   datetime64[ns, UTC]\n",
      " 1   id                             2354 non-null   int64              \n",
      " 2   id_str                         2354 non-null   object             \n",
      " 3   full_text                      2354 non-null   object             \n",
      " 4   truncated                      2354 non-null   bool               \n",
      " 5   display_text_range             2354 non-null   object             \n",
      " 6   entities                       2354 non-null   object             \n",
      " 7   extended_entities              2073 non-null   object             \n",
      " 8   source                         2354 non-null   object             \n",
      " 9   user                           2354 non-null   object             \n",
      " 10  place                          1 non-null      object             \n",
      " 11  contributors                   0 non-null      float64            \n",
      " 12  is_quote_status                2354 non-null   bool               \n",
      " 13  retweet_count                  2354 non-null   int64              \n",
      " 14  favorite_count                 2354 non-null   int64              \n",
      " 15  favorited                      2354 non-null   bool               \n",
      " 16  retweeted                      2354 non-null   bool               \n",
      " 17  possibly_sensitive             2211 non-null   float64            \n",
      " 18  possibly_sensitive_appealable  2211 non-null   float64            \n",
      " 19  lang                           2354 non-null   object             \n",
      "dtypes: bool(4), datetime64[ns, UTC](1), float64(3), int64(3), object(9)\n",
      "memory usage: 303.6+ KB\n"
     ]
    }
   ],
   "source": [
    "cols  = ['id_str']\n",
    "change_type(df= tweet_json_copy, col= cols, dtype= 'str')"
   ],
   "metadata": {
    "collapsed": false,
    "pycharm": {
     "name": "#%%\n"
    }
   }
  },
  {
   "cell_type": "markdown",
   "metadata": {},
   "source": [
    "## Storing Data\n",
    "Save gathered, assessed, and cleaned master dataset to a CSV file named \"twitter_archive_master.csv\"."
   ]
  },
  {
   "cell_type": "markdown",
   "metadata": {
    "pycharm": {
     "name": "#%% md\n"
    }
   },
   "source": [
    "I would go ahead to concat"
   ]
  },
  {
   "cell_type": "code",
   "execution_count": 40,
   "outputs": [],
   "source": [
    "twitter_archived_copy.rename(columns={'tweet_id': 'id'}, inplace= True)"
   ],
   "metadata": {
    "collapsed": false,
    "pycharm": {
     "name": "#%%\n"
    }
   }
  },
  {
   "cell_type": "code",
   "execution_count": 41,
   "outputs": [
    {
     "name": "stdout",
     "output_type": "stream",
     "text": [
      "<class 'pandas.core.frame.DataFrame'>\n",
      "Int64Index: 2356 entries, 0 to 2355\n",
      "Data columns (total 11 columns):\n",
      " #   Column              Non-Null Count  Dtype \n",
      "---  ------              --------------  ----- \n",
      " 0   id                  2356 non-null   int64 \n",
      " 1   timestamp           2356 non-null   object\n",
      " 2   source              2356 non-null   object\n",
      " 3   text                2356 non-null   object\n",
      " 4   rating_numerator    2356 non-null   int64 \n",
      " 5   rating_denominator  2356 non-null   int64 \n",
      " 6   name                2356 non-null   object\n",
      " 7   doggo               2356 non-null   object\n",
      " 8   floofer             2356 non-null   object\n",
      " 9   pupper              2356 non-null   object\n",
      " 10  puppo               2356 non-null   object\n",
      "dtypes: int64(3), object(8)\n",
      "memory usage: 220.9+ KB\n"
     ]
    }
   ],
   "source": [
    "twitter_archived_copy.info()"
   ],
   "metadata": {
    "collapsed": false,
    "pycharm": {
     "name": "#%%\n"
    }
   }
  },
  {
   "cell_type": "code",
   "execution_count": 42,
   "metadata": {},
   "outputs": [],
   "source": [
    "merged_twitter = pd.merge(left= twitter_archived_copy, right= tweet_json_copy, left_on= 'id', right_on= 'id')"
   ]
  },
  {
   "cell_type": "code",
   "execution_count": 45,
   "outputs": [],
   "source": [
    "image_pred_copy.rename(columns = {'tweet_id': 'id'}, inplace = True)"
   ],
   "metadata": {
    "collapsed": false,
    "pycharm": {
     "name": "#%%\n"
    }
   }
  },
  {
   "cell_type": "code",
   "execution_count": 47,
   "outputs": [],
   "source": [
    "merged_comp = pd.merge(left= merged_twitter,right= image_pred_copy, left_on= 'id', right_on= 'id')"
   ],
   "metadata": {
    "collapsed": false,
    "pycharm": {
     "name": "#%%\n"
    }
   }
  },
  {
   "cell_type": "code",
   "execution_count": 49,
   "outputs": [
    {
     "name": "stdout",
     "output_type": "stream",
     "text": [
      "<class 'pandas.core.frame.DataFrame'>\n",
      "Int64Index: 2073 entries, 0 to 2072\n",
      "Data columns (total 41 columns):\n",
      " #   Column                         Non-Null Count  Dtype              \n",
      "---  ------                         --------------  -----              \n",
      " 0   id                             2073 non-null   int64              \n",
      " 1   timestamp                      2073 non-null   object             \n",
      " 2   source_x                       2073 non-null   object             \n",
      " 3   text                           2073 non-null   object             \n",
      " 4   rating_numerator               2073 non-null   int64              \n",
      " 5   rating_denominator             2073 non-null   int64              \n",
      " 6   name                           2073 non-null   object             \n",
      " 7   doggo                          2073 non-null   object             \n",
      " 8   floofer                        2073 non-null   object             \n",
      " 9   pupper                         2073 non-null   object             \n",
      " 10  puppo                          2073 non-null   object             \n",
      " 11  created_at                     2073 non-null   datetime64[ns, UTC]\n",
      " 12  id_str                         2073 non-null   object             \n",
      " 13  full_text                      2073 non-null   object             \n",
      " 14  truncated                      2073 non-null   bool               \n",
      " 15  display_text_range             2073 non-null   object             \n",
      " 16  entities                       2073 non-null   object             \n",
      " 17  extended_entities              2073 non-null   object             \n",
      " 18  source_y                       2073 non-null   object             \n",
      " 19  user                           2073 non-null   object             \n",
      " 20  place                          1 non-null      object             \n",
      " 21  contributors                   0 non-null      float64            \n",
      " 22  is_quote_status                2073 non-null   bool               \n",
      " 23  retweet_count                  2073 non-null   int64              \n",
      " 24  favorite_count                 2073 non-null   int64              \n",
      " 25  favorited                      2073 non-null   bool               \n",
      " 26  retweeted                      2073 non-null   bool               \n",
      " 27  possibly_sensitive             2073 non-null   float64            \n",
      " 28  possibly_sensitive_appealable  2073 non-null   float64            \n",
      " 29  lang                           2073 non-null   object             \n",
      " 30  jpg_url                        2073 non-null   object             \n",
      " 31  img_num                        2073 non-null   int64              \n",
      " 32  p1                             2073 non-null   object             \n",
      " 33  p1_conf                        2073 non-null   float64            \n",
      " 34  p1_dog                         2073 non-null   bool               \n",
      " 35  p2                             2073 non-null   object             \n",
      " 36  p2_conf                        2073 non-null   float64            \n",
      " 37  p2_dog                         2073 non-null   bool               \n",
      " 38  p3                             2073 non-null   object             \n",
      " 39  p3_conf                        2073 non-null   float64            \n",
      " 40  p3_dog                         2073 non-null   bool               \n",
      "dtypes: bool(7), datetime64[ns, UTC](1), float64(6), int64(6), object(21)\n",
      "memory usage: 581.0+ KB\n"
     ]
    }
   ],
   "source": [
    "merged_comp.info()"
   ],
   "metadata": {
    "collapsed": false,
    "pycharm": {
     "name": "#%%\n"
    }
   }
  },
  {
   "cell_type": "code",
   "execution_count": 51,
   "outputs": [
    {
     "data": {
      "text/plain": "                   id                  timestamp  \\\n0  892420643555336193  2017-08-01 16:23:56 +0000   \n1  892177421306343426  2017-08-01 00:17:27 +0000   \n2  891815181378084864  2017-07-31 00:18:03 +0000   \n3  891689557279858688  2017-07-30 15:58:51 +0000   \n4  891327558926688256  2017-07-29 16:00:24 +0000   \n\n                                            source_x  \\\n0  <a href=\"http://twitter.com/download/iphone\" r...   \n1  <a href=\"http://twitter.com/download/iphone\" r...   \n2  <a href=\"http://twitter.com/download/iphone\" r...   \n3  <a href=\"http://twitter.com/download/iphone\" r...   \n4  <a href=\"http://twitter.com/download/iphone\" r...   \n\n                                                text  rating_numerator  \\\n0  This is Phineas. He's a mystical boy. Only eve...                13   \n1  This is Tilly. She's just checking pup on you....                13   \n2  This is Archie. He is a rare Norwegian Pouncin...                12   \n3  This is Darla. She commenced a snooze mid meal...                13   \n4  This is Franklin. He would like you to stop ca...                12   \n\n   rating_denominator      name doggo floofer pupper  ... img_num  \\\n0                  10   Phineas  None    None   None  ...       1   \n1                  10     Tilly  None    None   None  ...       1   \n2                  10    Archie  None    None   None  ...       1   \n3                  10     Darla  None    None   None  ...       1   \n4                  10  Franklin  None    None   None  ...       2   \n\n            p1   p1_conf p1_dog                  p2   p2_conf p2_dog  \\\n0       orange  0.097049  False               bagel  0.085851  False   \n1    Chihuahua  0.323581   True            Pekinese  0.090647   True   \n2    Chihuahua  0.716012   True            malamute  0.078253   True   \n3  paper_towel  0.170278  False  Labrador_retriever  0.168086   True   \n4       basset  0.555712   True    English_springer  0.225770   True   \n\n                            p3   p3_conf p3_dog  \n0                       banana  0.076110  False  \n1                     papillon  0.068957   True  \n2                       kelpie  0.031379   True  \n3                      spatula  0.040836  False  \n4  German_short-haired_pointer  0.175219   True  \n\n[5 rows x 39 columns]",
      "text/html": "<div>\n<style scoped>\n    .dataframe tbody tr th:only-of-type {\n        vertical-align: middle;\n    }\n\n    .dataframe tbody tr th {\n        vertical-align: top;\n    }\n\n    .dataframe thead th {\n        text-align: right;\n    }\n</style>\n<table border=\"1\" class=\"dataframe\">\n  <thead>\n    <tr style=\"text-align: right;\">\n      <th></th>\n      <th>id</th>\n      <th>timestamp</th>\n      <th>source_x</th>\n      <th>text</th>\n      <th>rating_numerator</th>\n      <th>rating_denominator</th>\n      <th>name</th>\n      <th>doggo</th>\n      <th>floofer</th>\n      <th>pupper</th>\n      <th>...</th>\n      <th>img_num</th>\n      <th>p1</th>\n      <th>p1_conf</th>\n      <th>p1_dog</th>\n      <th>p2</th>\n      <th>p2_conf</th>\n      <th>p2_dog</th>\n      <th>p3</th>\n      <th>p3_conf</th>\n      <th>p3_dog</th>\n    </tr>\n  </thead>\n  <tbody>\n    <tr>\n      <th>0</th>\n      <td>892420643555336193</td>\n      <td>2017-08-01 16:23:56 +0000</td>\n      <td>&lt;a href=\"http://twitter.com/download/iphone\" r...</td>\n      <td>This is Phineas. He's a mystical boy. Only eve...</td>\n      <td>13</td>\n      <td>10</td>\n      <td>Phineas</td>\n      <td>None</td>\n      <td>None</td>\n      <td>None</td>\n      <td>...</td>\n      <td>1</td>\n      <td>orange</td>\n      <td>0.097049</td>\n      <td>False</td>\n      <td>bagel</td>\n      <td>0.085851</td>\n      <td>False</td>\n      <td>banana</td>\n      <td>0.076110</td>\n      <td>False</td>\n    </tr>\n    <tr>\n      <th>1</th>\n      <td>892177421306343426</td>\n      <td>2017-08-01 00:17:27 +0000</td>\n      <td>&lt;a href=\"http://twitter.com/download/iphone\" r...</td>\n      <td>This is Tilly. She's just checking pup on you....</td>\n      <td>13</td>\n      <td>10</td>\n      <td>Tilly</td>\n      <td>None</td>\n      <td>None</td>\n      <td>None</td>\n      <td>...</td>\n      <td>1</td>\n      <td>Chihuahua</td>\n      <td>0.323581</td>\n      <td>True</td>\n      <td>Pekinese</td>\n      <td>0.090647</td>\n      <td>True</td>\n      <td>papillon</td>\n      <td>0.068957</td>\n      <td>True</td>\n    </tr>\n    <tr>\n      <th>2</th>\n      <td>891815181378084864</td>\n      <td>2017-07-31 00:18:03 +0000</td>\n      <td>&lt;a href=\"http://twitter.com/download/iphone\" r...</td>\n      <td>This is Archie. He is a rare Norwegian Pouncin...</td>\n      <td>12</td>\n      <td>10</td>\n      <td>Archie</td>\n      <td>None</td>\n      <td>None</td>\n      <td>None</td>\n      <td>...</td>\n      <td>1</td>\n      <td>Chihuahua</td>\n      <td>0.716012</td>\n      <td>True</td>\n      <td>malamute</td>\n      <td>0.078253</td>\n      <td>True</td>\n      <td>kelpie</td>\n      <td>0.031379</td>\n      <td>True</td>\n    </tr>\n    <tr>\n      <th>3</th>\n      <td>891689557279858688</td>\n      <td>2017-07-30 15:58:51 +0000</td>\n      <td>&lt;a href=\"http://twitter.com/download/iphone\" r...</td>\n      <td>This is Darla. She commenced a snooze mid meal...</td>\n      <td>13</td>\n      <td>10</td>\n      <td>Darla</td>\n      <td>None</td>\n      <td>None</td>\n      <td>None</td>\n      <td>...</td>\n      <td>1</td>\n      <td>paper_towel</td>\n      <td>0.170278</td>\n      <td>False</td>\n      <td>Labrador_retriever</td>\n      <td>0.168086</td>\n      <td>True</td>\n      <td>spatula</td>\n      <td>0.040836</td>\n      <td>False</td>\n    </tr>\n    <tr>\n      <th>4</th>\n      <td>891327558926688256</td>\n      <td>2017-07-29 16:00:24 +0000</td>\n      <td>&lt;a href=\"http://twitter.com/download/iphone\" r...</td>\n      <td>This is Franklin. He would like you to stop ca...</td>\n      <td>12</td>\n      <td>10</td>\n      <td>Franklin</td>\n      <td>None</td>\n      <td>None</td>\n      <td>None</td>\n      <td>...</td>\n      <td>2</td>\n      <td>basset</td>\n      <td>0.555712</td>\n      <td>True</td>\n      <td>English_springer</td>\n      <td>0.225770</td>\n      <td>True</td>\n      <td>German_short-haired_pointer</td>\n      <td>0.175219</td>\n      <td>True</td>\n    </tr>\n  </tbody>\n</table>\n<p>5 rows × 39 columns</p>\n</div>"
     },
     "execution_count": 51,
     "metadata": {},
     "output_type": "execute_result"
    }
   ],
   "source": [
    "miss_comp = ['place', 'contributors']\n",
    "drop_missing(df= merged_comp, lists= miss_comp, axis= 1)"
   ],
   "metadata": {
    "collapsed": false,
    "pycharm": {
     "name": "#%%\n"
    }
   }
  },
  {
   "cell_type": "code",
   "execution_count": 52,
   "outputs": [
    {
     "data": {
      "text/plain": "(2073, 39)"
     },
     "execution_count": 52,
     "metadata": {},
     "output_type": "execute_result"
    }
   ],
   "source": [
    "merged_comp.shape"
   ],
   "metadata": {
    "collapsed": false,
    "pycharm": {
     "name": "#%%\n"
    }
   }
  },
  {
   "cell_type": "code",
   "execution_count": 53,
   "outputs": [],
   "source": [
    "merged_comp.to_csv('merged_data', index= False, header=False)"
   ],
   "metadata": {
    "collapsed": false,
    "pycharm": {
     "name": "#%%\n"
    }
   }
  },
  {
   "cell_type": "markdown",
   "source": [
    "## Analyzing and Visualizing Data\n",
    "In this section, analyze and visualize your wrangled data. You must produce at least **three (3) insights and one (1) visualization.**"
   ],
   "metadata": {
    "collapsed": false
   }
  },
  {
   "cell_type": "markdown",
   "metadata": {},
   "source": [
    "### Insights:\n",
    "1. What are the top 5 most liked posts?\n",
    "\n",
    "2. What are the most retweeted post?\n",
    "\n",
    "3. What the top five dogs with the most rating_numerator?"
   ]
  },
  {
   "cell_type": "markdown",
   "metadata": {
    "collapsed": true
   },
   "source": [
    "### Visualization\n",
    "A visualisation showing the scatter plot of the retweeted movies"
   ]
  },
  {
   "cell_type": "code",
   "execution_count": 55,
   "metadata": {},
   "outputs": [
    {
     "ename": "AttributeError",
     "evalue": "'Series' object has no attribute 'sort'",
     "output_type": "error",
     "traceback": [
      "\u001B[1;31m---------------------------------------------------------------------------\u001B[0m",
      "\u001B[1;31mAttributeError\u001B[0m                            Traceback (most recent call last)",
      "\u001B[1;32m<ipython-input-55-e082b75dd81b>\u001B[0m in \u001B[0;36m<module>\u001B[1;34m\u001B[0m\n\u001B[1;32m----> 1\u001B[1;33m \u001B[0mmerged_comp\u001B[0m\u001B[1;33m.\u001B[0m\u001B[0mfavorite_count\u001B[0m\u001B[1;33m.\u001B[0m\u001B[0msort\u001B[0m\u001B[1;33m(\u001B[0m\u001B[0mascending\u001B[0m \u001B[1;33m=\u001B[0m \u001B[1;32mFalse\u001B[0m\u001B[1;33m)\u001B[0m\u001B[1;33m\u001B[0m\u001B[1;33m\u001B[0m\u001B[0m\n\u001B[0m",
      "\u001B[1;32m~\\anaconda3\\lib\\site-packages\\pandas\\core\\generic.py\u001B[0m in \u001B[0;36m__getattr__\u001B[1;34m(self, name)\u001B[0m\n\u001B[0;32m   5137\u001B[0m             \u001B[1;32mif\u001B[0m \u001B[0mself\u001B[0m\u001B[1;33m.\u001B[0m\u001B[0m_info_axis\u001B[0m\u001B[1;33m.\u001B[0m\u001B[0m_can_hold_identifiers_and_holds_name\u001B[0m\u001B[1;33m(\u001B[0m\u001B[0mname\u001B[0m\u001B[1;33m)\u001B[0m\u001B[1;33m:\u001B[0m\u001B[1;33m\u001B[0m\u001B[1;33m\u001B[0m\u001B[0m\n\u001B[0;32m   5138\u001B[0m                 \u001B[1;32mreturn\u001B[0m \u001B[0mself\u001B[0m\u001B[1;33m[\u001B[0m\u001B[0mname\u001B[0m\u001B[1;33m]\u001B[0m\u001B[1;33m\u001B[0m\u001B[1;33m\u001B[0m\u001B[0m\n\u001B[1;32m-> 5139\u001B[1;33m             \u001B[1;32mreturn\u001B[0m \u001B[0mobject\u001B[0m\u001B[1;33m.\u001B[0m\u001B[0m__getattribute__\u001B[0m\u001B[1;33m(\u001B[0m\u001B[0mself\u001B[0m\u001B[1;33m,\u001B[0m \u001B[0mname\u001B[0m\u001B[1;33m)\u001B[0m\u001B[1;33m\u001B[0m\u001B[1;33m\u001B[0m\u001B[0m\n\u001B[0m\u001B[0;32m   5140\u001B[0m \u001B[1;33m\u001B[0m\u001B[0m\n\u001B[0;32m   5141\u001B[0m     \u001B[1;32mdef\u001B[0m \u001B[0m__setattr__\u001B[0m\u001B[1;33m(\u001B[0m\u001B[0mself\u001B[0m\u001B[1;33m,\u001B[0m \u001B[0mname\u001B[0m\u001B[1;33m:\u001B[0m \u001B[0mstr\u001B[0m\u001B[1;33m,\u001B[0m \u001B[0mvalue\u001B[0m\u001B[1;33m)\u001B[0m \u001B[1;33m->\u001B[0m \u001B[1;32mNone\u001B[0m\u001B[1;33m:\u001B[0m\u001B[1;33m\u001B[0m\u001B[1;33m\u001B[0m\u001B[0m\n",
      "\u001B[1;31mAttributeError\u001B[0m: 'Series' object has no attribute 'sort'"
     ]
    }
   ],
   "source": [
    "merged_comp.favorite_count.sort(ascending = False)"
   ]
  },
  {
   "cell_type": "code",
   "execution_count": null,
   "outputs": [],
   "source": [],
   "metadata": {
    "collapsed": false,
    "pycharm": {
     "name": "#%%\n"
    }
   }
  }
 ],
 "metadata": {
  "extensions": {
   "jupyter_dashboards": {
    "activeView": "report_default",
    "version": 1,
    "views": {
     "grid_default": {
      "cellMargin": 10,
      "defaultCellHeight": 20,
      "maxColumns": 12,
      "name": "grid",
      "type": "grid"
     },
     "report_default": {
      "name": "report",
      "type": "report"
     }
    }
   }
  },
  "kernelspec": {
   "display_name": "Python 3",
   "language": "python",
   "name": "python3"
  },
  "language_info": {
   "codemirror_mode": {
    "name": "ipython",
    "version": 3
   },
   "file_extension": ".py",
   "mimetype": "text/x-python",
   "name": "python",
   "nbconvert_exporter": "python",
   "pygments_lexer": "ipython3",
   "version": "3.6.3"
  }
 },
 "nbformat": 4,
 "nbformat_minor": 2
}