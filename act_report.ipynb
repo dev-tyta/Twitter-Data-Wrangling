{
 "cells": [
  {
   "cell_type": "markdown",
   "source": [
    "<h2> Report: Analysis Report </h2>\n",
    "\n",
    "After proper wrangling and cleaning on the provided datasets, I went ahead to carry out my analysis on the final dataset named \"twitter_archive_master.csv\". Analyzing this dataset means driving out insights from the data. Based on the dataset provided to us, I was able to draw out three questions and also insightful answers by doing this programmatically. Below are the few questions asked and why they are asked:\n",
    "<ul>\n",
    "<li><b>Question 1</b> What are the top 5 most liked posts?\n",
    "Most people tend to like a post of how interested they are in what is present in the post. We would take a look at the top 5 most liked posts and also links to accessing this posts would all be provided.\n",
    "<b> Answer</b>\n",
    "</li>\n",
    "<li>What type of dog appeared the most? </li>\n",
    "<li>What are the most retweeted post?</li>\n",
    "</ul>\n",
    "<img src = \"pic1\", size =</img>"
   ],
   "metadata": {
    "collapsed": false
   }
  },
  {
   "cell_type": "code",
   "execution_count": null,
   "outputs": [],
   "source": [],
   "metadata": {
    "collapsed": false,
    "pycharm": {
     "name": "#%%\n"
    }
   }
  }
 ],
 "metadata": {
  "kernelspec": {
   "display_name": "Python 3",
   "language": "python",
   "name": "python3"
  },
  "language_info": {
   "codemirror_mode": {
    "name": "ipython",
    "version": 3
   },
   "file_extension": ".py",
   "mimetype": "text/x-python",
   "name": "python",
   "nbconvert_exporter": "python",
   "pygments_lexer": "ipython3",
   "version": "3.6.3"
  }
 },
 "nbformat": 4,
 "nbformat_minor": 2
}