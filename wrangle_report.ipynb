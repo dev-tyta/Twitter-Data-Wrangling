{
 "cells": [
  {
   "cell_type": "markdown",
   "metadata": {
    "pycharm": {
     "name": "#%% md\n"
    }
   },
   "source": [
    "## Reporting: Wrangling Report\n",
    "\n",
    "This report gives a step by step explanation of process carried out while cleaning the data given to us. The dataset provided by Udacity was used while working on this project. I imported the dataset using the pandas read_csv and read_json function. I also accessed the data virtually by scrolling through the data provided.\n",
    "Afterwards, I moved on to access the data programmatically by using the pandas head, info, describe and duplicated function. I also made sure to check for missing values using the pandas isnull and sum function.\n",
    "After access the function, I came up with the following quality and tidiness issues:\n",
    "\n",
    "### Quality issues\n",
    "\n",
    "#### Archived Tweets\n",
    "##### 1. Missing Values\n",
    "\n",
    "Missing values are present in the following columns:\n",
    "\n",
    "* in_reply_to_status_id\n",
    "\n",
    "* in_reply_to_user_id\n",
    "\n",
    "* retweeted_status_id\n",
    "\n",
    "* retweeted_status_user_id\n",
    "\n",
    "* retweeted_status_timestamp\n",
    "\n",
    "##### 2. Validity Error.\n",
    "* The rating_numerator are sometimes above the rating_denominator column.\n",
    "\n",
    "* Some dogs where without name\n",
    "\n",
    "#### Predicted Images with Neural Network.\n",
    "\n",
    "* Some Images were not Dogs.\n",
    "\n",
    "#### Twitter API json file.\n",
    "##### 3. Missing Values\n",
    "Missing values present in the following columns:\n",
    "\n",
    "* in_reply_to_status_id\n",
    "\n",
    "* in_reply_to_status_id_str\n",
    "\n",
    "* in_reply_to_user_id\n",
    "\n",
    "* in_reply_to_user_id_str\n",
    "\n",
    "* in_reply_to_screen_time\n",
    "\n",
    "* geo\n",
    "\n",
    "* coordinates\n",
    "\n",
    "\n",
    "### Tidiness issues\n",
    "* The columns converted to strings still has an integer datatype.\n",
    "* The data included tweets that were retweeted, and not originally owned by the page."
   ]
  },
  {
   "cell_type": "markdown",
   "source": [
    "In solving the listed issues, I started with dropping the columns with a large number of missing values from the twitter_archived data and tweet_json dataset. Columns like the in_reply_to_status_id, in_reply_to_user_id, retweeted_status_id, retweeted_status_user_id, retweeted_status_timestamp and expanded_urls. I dropped off these columns since filling up this would only lead to inaccurate and inappropriate data being added to the data."
   ],
   "metadata": {
    "collapsed": false,
    "pycharm": {
     "name": "#%% md\n"
    }
   }
  },
  {
   "cell_type": "markdown",
   "source": [
    "Also for some columns present have a wrong datatype. I changed the datatype of this column to the right datatype.\n",
    "I then merged the dataset together using the pandas merge function. Then, I saved the final output of the dataset to twitter_archive_master.csv file which can be seen in the under the Github repository."
   ],
   "metadata": {
    "collapsed": false,
    "pycharm": {
     "name": "#%% md\n"
    }
   }
  }
 ],
 "metadata": {
  "kernelspec": {
   "display_name": "Python 3",
   "language": "python",
   "name": "python3"
  },
  "language_info": {
   "codemirror_mode": {
    "name": "ipython",
    "version": 3
   },
   "file_extension": ".py",
   "mimetype": "text/x-python",
   "name": "python",
   "nbconvert_exporter": "python",
   "pygments_lexer": "ipython3",
   "version": "3.6.3"
  }
 },
 "nbformat": 4,
 "nbformat_minor": 2
}