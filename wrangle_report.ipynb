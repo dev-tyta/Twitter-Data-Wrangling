{
 "cells": [
  {
   "cell_type": "markdown",
   "metadata": {
    "pycharm": {
     "name": "#%% md\n"
    }
   },
   "source": [
    "<title> Wrangling report </title>\n",
    "<h2> Report: Wrangling Report </h2\n",
    "<body>\n",
    "<p>\n",
    "After carefully assessing the data both virtually by scrolling through the data and programmatically checking for issues, I was able to come up with these issues which are divided into two categories, Quality issues and the Tidiness issues.\n",
    "</p>\n",
    "<h3> Quality issues </h3>\n",
    "<p>\n",
    "This issues contains problems regarding completeness of the data (i.e. how accurate the data is), validity of the data ( which is categorized by how real the data is) amongst others.\n",
    "</p>\n",
    "\n",
    "<b> 1. Missing Values </b>\n",
    "<p>\n",
    "Missing values are present in the following columns:\n",
    "<ul>\n",
    "<li> in_reply_to_status_id </li>\n",
    "\n",
    "<li> in_reply_to_user_id </li>\n",
    "\n",
    "<li> retweeted_status_id </li>\n",
    "\n",
    "<li> retweeted_status_user_id </li>\n",
    "\n",
    "<li> retweeted_status_timestamp </li>\n",
    "</ul>\n",
    "\n",
    "Missing values present in the following columns:\n",
    "\n",
    "<ul>\n",
    "<li> in_reply_to_status_id </li>\n",
    "\n",
    "<li> in_reply_to_status_id_str </li>\n",
    "\n",
    "<li> in_reply_to_user_id </li>\n",
    "\n",
    "<li> in_reply_to_user_id_str </li>\n",
    "\n",
    "<li> in_reply_to_screen_time </li>\n",
    "\n",
    "<li> geo </li>\n",
    "\n",
    "<li> coordinates </li>\n",
    "</ul>\n",
    "</p>\n",
    "\n",
    "<b> 2. The rating_numerator are sometimes above the rating_denominator column. <b>\n",
    "\n",
    "<b> 3. Some dogs where without name </b.\n",
    "\n",
    "<b> 4. Some Images were not Dogs.</b>\n",
    "\n",
    "<b> 5. The columns converted to strings still has an integer datatype. </b>\n",
    "\n",
    "<b> 6. The columns: doggo, floofer, pupper and puppo are all known as affectionate words for dog and don't give a well detailed relationship between the with the tweets. </b>\n",
    "\n",
    "<b> 7. The id column in the image prediction dataset was in an ascending order while the others are in a descending order. </b>\n",
    "\n",
    "<b> 8. Some images are not correctly categorized.</b>\n",
    "\n",
    "<h3> Tidiness issues </h3>\n",
    "\n",
    "<b> 1. Inconsistent number of rows across the three data. </b>\n",
    "\n",
    "<b> 2. The entities columns present in the tweet_json data contained other sub-columns. </b>\n",
    "\n",
    "<p>\n",
    "In solving the listed issues, I started with dropping the columns with a large number of missing values from the twitter_archived data and tweet_json dataset. Columns like the in_reply_to_status_id, in_reply_to_user_id, retweeted_status_id, retweeted_status_user_id, retweeted_status_timestamp and expanded_urls. I dropped off these columns since filling up this would only lead to inaccurate and inappropriate data being added to the data.\n",
    "</p>\n",
    "<p> Also for some columns present have a wrong datatype. I changed the datatype of this column to the right datatype.\n",
    "I then merged the dataset together using the pandas merge function. Then, I saved the final output of the dataset to twitter_archive_master.csv file which can be seen in the under the Github repository.\n",
    "</p>\n",
    "</body>"
   ]
  },
  {
   "cell_type": "code",
   "execution_count": null,
   "outputs": [],
   "source": [],
   "metadata": {
    "collapsed": false,
    "pycharm": {
     "name": "#%%\n"
    }
   }
  }
 ],
 "metadata": {
  "kernelspec": {
   "display_name": "Python 3",
   "language": "python",
   "name": "python3"
  },
  "language_info": {
   "codemirror_mode": {
    "name": "ipython",
    "version": 3
   },
   "file_extension": ".py",
   "mimetype": "text/x-python",
   "name": "python",
   "nbconvert_exporter": "python",
   "pygments_lexer": "ipython3",
   "version": "3.6.3"
  }
 },
 "nbformat": 4,
 "nbformat_minor": 2
}